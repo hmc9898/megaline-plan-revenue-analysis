{
 "cells": [
  {
   "cell_type": "markdown",
   "metadata": {},
   "source": [
    "# Which one is a better plan?\n",
    "\n",
    "You work as an analyst for the telecom operator Megaline. The company offers its clients two prepaid plans, Surf and Ultimate. The commercial department wants to know which of the plans brings in more revenue in order to adjust the advertising budget.\n",
    "\n",
    "You are going to carry out a preliminary analysis of the plans based on a relatively small client selection. You'll have the data on 500 Megaline clients: who the clients are, where they're from, which plan they use, and the number of calls they made and text messages they sent in 2018. Your job is to analyze the clients' behavior and determine which prepaid plan brings in more revenue."
   ]
  },
  {
   "cell_type": "markdown",
   "metadata": {},
   "source": [
    "\n",
    "SDA Project. Sprint 3 \n",
    "\n",
    " \n",
    "The goal of this analysis is to organize and compare the difference in revenue for two specific plans offered by Megaline. To achieve this, we will read and assess the data provided. We will then organize and examine the data, then addressing any duplicates or missing values that can skew our outcome. We will then begin analyzing further and start visualizing the data. Finally, we will have a clear view of the revenue gained by both plans offered. \n",
    "    \n",
    "Heather Marie Culligan\n",
    "    \n",
    "Nov.15 2024\n",
    "</div>"
   ]
  },
  {
   "cell_type": "markdown",
   "metadata": {},
   "source": [
    "## Initialization"
   ]
  },
  {
   "cell_type": "markdown",
   "metadata": {},
   "source": [
    "First, we have to import our libraries to help us organize, manipulate, and vizulize our data. "
   ]
  },
  {
   "cell_type": "code",
   "execution_count": 1,
   "metadata": {},
   "outputs": [],
   "source": [
    "import pandas as pd\n",
    "import numpy as np\n",
    "from matplotlib import pyplot as plt\n",
    "from math import factorial\n",
    "from scipy import stats as st\n",
    "import seaborn as sns\n",
    "import math"
   ]
  },
  {
   "cell_type": "markdown",
   "metadata": {},
   "source": [
    "## Load data"
   ]
  },
  {
   "cell_type": "markdown",
   "metadata": {},
   "source": [
    "Next, we have to import all our datasets. "
   ]
  },
  {
   "cell_type": "code",
   "execution_count": 2,
   "metadata": {},
   "outputs": [],
   "source": [
    "calls= pd.read_csv('/datasets/megaline_calls.csv')\n",
    "internet= pd.read_csv('/datasets/megaline_internet.csv')\n",
    "messages= pd.read_csv('/datasets/megaline_messages.csv')\n",
    "plans_df= pd.read_csv('/datasets/megaline_plans.csv')\n",
    "users= pd.read_csv('/datasets/megaline_users.csv')"
   ]
  },
  {
   "cell_type": "markdown",
   "metadata": {},
   "source": [
    "## Prepare the data"
   ]
  },
  {
   "cell_type": "markdown",
   "metadata": {},
   "source": [
    "Now, it is time to start addressing and organizing our data to help us to understand what adjustments we need to fix, working on one dataset at a time for now. "
   ]
  },
  {
   "cell_type": "markdown",
   "metadata": {},
   "source": [
    "## Plans"
   ]
  },
  {
   "cell_type": "code",
   "execution_count": 3,
   "metadata": {},
   "outputs": [
    {
     "name": "stdout",
     "output_type": "stream",
     "text": [
      "<class 'pandas.core.frame.DataFrame'>\n",
      "RangeIndex: 2 entries, 0 to 1\n",
      "Data columns (total 8 columns):\n",
      " #   Column                 Non-Null Count  Dtype  \n",
      "---  ------                 --------------  -----  \n",
      " 0   messages_included      2 non-null      int64  \n",
      " 1   mb_per_month_included  2 non-null      int64  \n",
      " 2   minutes_included       2 non-null      int64  \n",
      " 3   usd_monthly_pay        2 non-null      int64  \n",
      " 4   usd_per_gb             2 non-null      int64  \n",
      " 5   usd_per_message        2 non-null      float64\n",
      " 6   usd_per_minute         2 non-null      float64\n",
      " 7   plan_name              2 non-null      object \n",
      "dtypes: float64(2), int64(5), object(1)\n",
      "memory usage: 256.0+ bytes\n"
     ]
    }
   ],
   "source": [
    "plans_df.info()"
   ]
  },
  {
   "cell_type": "code",
   "execution_count": 4,
   "metadata": {},
   "outputs": [
    {
     "data": {
      "text/html": [
       "<div>\n",
       "<style scoped>\n",
       "    .dataframe tbody tr th:only-of-type {\n",
       "        vertical-align: middle;\n",
       "    }\n",
       "\n",
       "    .dataframe tbody tr th {\n",
       "        vertical-align: top;\n",
       "    }\n",
       "\n",
       "    .dataframe thead th {\n",
       "        text-align: right;\n",
       "    }\n",
       "</style>\n",
       "<table border=\"1\" class=\"dataframe\">\n",
       "  <thead>\n",
       "    <tr style=\"text-align: right;\">\n",
       "      <th></th>\n",
       "      <th>messages_included</th>\n",
       "      <th>mb_per_month_included</th>\n",
       "      <th>minutes_included</th>\n",
       "      <th>usd_monthly_pay</th>\n",
       "      <th>usd_per_gb</th>\n",
       "      <th>usd_per_message</th>\n",
       "      <th>usd_per_minute</th>\n",
       "      <th>plan_name</th>\n",
       "    </tr>\n",
       "  </thead>\n",
       "  <tbody>\n",
       "    <tr>\n",
       "      <th>0</th>\n",
       "      <td>50</td>\n",
       "      <td>15360</td>\n",
       "      <td>500</td>\n",
       "      <td>20</td>\n",
       "      <td>10</td>\n",
       "      <td>0.03</td>\n",
       "      <td>0.03</td>\n",
       "      <td>surf</td>\n",
       "    </tr>\n",
       "    <tr>\n",
       "      <th>1</th>\n",
       "      <td>1000</td>\n",
       "      <td>30720</td>\n",
       "      <td>3000</td>\n",
       "      <td>70</td>\n",
       "      <td>7</td>\n",
       "      <td>0.01</td>\n",
       "      <td>0.01</td>\n",
       "      <td>ultimate</td>\n",
       "    </tr>\n",
       "  </tbody>\n",
       "</table>\n",
       "</div>"
      ],
      "text/plain": [
       "   messages_included  mb_per_month_included  minutes_included  \\\n",
       "0                 50                  15360               500   \n",
       "1               1000                  30720              3000   \n",
       "\n",
       "   usd_monthly_pay  usd_per_gb  usd_per_message  usd_per_minute plan_name  \n",
       "0               20          10             0.03            0.03      surf  \n",
       "1               70           7             0.01            0.01  ultimate  "
      ]
     },
     "execution_count": 4,
     "metadata": {},
     "output_type": "execute_result"
    }
   ],
   "source": [
    "plans_df.head()"
   ]
  },
  {
   "cell_type": "markdown",
   "metadata": {},
   "source": [
    "In the info() cell, we see there is no missing values. We will have to investigate to verify there are no duplicate values. We do have to adjust some datatypes as well so we can better utilize our tools. "
   ]
  },
  {
   "cell_type": "markdown",
   "metadata": {},
   "source": [
    "## Fix data"
   ]
  },
  {
   "cell_type": "markdown",
   "metadata": {},
   "source": [
    "Let's fix the datatypes now. Also, we will adjust and add a column of GB for clarification later due to plan specifications. "
   ]
  },
  {
   "cell_type": "code",
   "execution_count": 5,
   "metadata": {},
   "outputs": [],
   "source": [
    "plans_df['usd_monthly_pay']=plans_df['usd_monthly_pay'].astype('float64')\n",
    "plans_df['usd_per_gb']=plans_df['usd_per_gb'].astype('float64')\n",
    "plans_df['gb_per_month_included'] = plans_df['mb_per_month_included']/1024"
   ]
  },
  {
   "cell_type": "markdown",
   "metadata": {},
   "source": [
    "Based on our original info() cell, there are no missing values. There are only two rows to this dataset, and we can see by calling info there are no duplicates within the set. Time to review the next dataset. "
   ]
  },
  {
   "cell_type": "markdown",
   "metadata": {},
   "source": [
    "## Users"
   ]
  },
  {
   "cell_type": "code",
   "execution_count": 6,
   "metadata": {},
   "outputs": [
    {
     "name": "stdout",
     "output_type": "stream",
     "text": [
      "<class 'pandas.core.frame.DataFrame'>\n",
      "RangeIndex: 500 entries, 0 to 499\n",
      "Data columns (total 8 columns):\n",
      " #   Column      Non-Null Count  Dtype \n",
      "---  ------      --------------  ----- \n",
      " 0   user_id     500 non-null    int64 \n",
      " 1   first_name  500 non-null    object\n",
      " 2   last_name   500 non-null    object\n",
      " 3   age         500 non-null    int64 \n",
      " 4   city        500 non-null    object\n",
      " 5   reg_date    500 non-null    object\n",
      " 6   plan        500 non-null    object\n",
      " 7   churn_date  34 non-null     object\n",
      "dtypes: int64(2), object(6)\n",
      "memory usage: 31.4+ KB\n"
     ]
    }
   ],
   "source": [
    "users.info()"
   ]
  },
  {
   "cell_type": "code",
   "execution_count": 7,
   "metadata": {
    "scrolled": true
   },
   "outputs": [
    {
     "data": {
      "text/html": [
       "<div>\n",
       "<style scoped>\n",
       "    .dataframe tbody tr th:only-of-type {\n",
       "        vertical-align: middle;\n",
       "    }\n",
       "\n",
       "    .dataframe tbody tr th {\n",
       "        vertical-align: top;\n",
       "    }\n",
       "\n",
       "    .dataframe thead th {\n",
       "        text-align: right;\n",
       "    }\n",
       "</style>\n",
       "<table border=\"1\" class=\"dataframe\">\n",
       "  <thead>\n",
       "    <tr style=\"text-align: right;\">\n",
       "      <th></th>\n",
       "      <th>user_id</th>\n",
       "      <th>first_name</th>\n",
       "      <th>last_name</th>\n",
       "      <th>age</th>\n",
       "      <th>city</th>\n",
       "      <th>reg_date</th>\n",
       "      <th>plan</th>\n",
       "      <th>churn_date</th>\n",
       "    </tr>\n",
       "  </thead>\n",
       "  <tbody>\n",
       "    <tr>\n",
       "      <th>0</th>\n",
       "      <td>1000</td>\n",
       "      <td>Anamaria</td>\n",
       "      <td>Bauer</td>\n",
       "      <td>45</td>\n",
       "      <td>Atlanta-Sandy Springs-Roswell, GA MSA</td>\n",
       "      <td>2018-12-24</td>\n",
       "      <td>ultimate</td>\n",
       "      <td>NaN</td>\n",
       "    </tr>\n",
       "    <tr>\n",
       "      <th>1</th>\n",
       "      <td>1001</td>\n",
       "      <td>Mickey</td>\n",
       "      <td>Wilkerson</td>\n",
       "      <td>28</td>\n",
       "      <td>Seattle-Tacoma-Bellevue, WA MSA</td>\n",
       "      <td>2018-08-13</td>\n",
       "      <td>surf</td>\n",
       "      <td>NaN</td>\n",
       "    </tr>\n",
       "    <tr>\n",
       "      <th>2</th>\n",
       "      <td>1002</td>\n",
       "      <td>Carlee</td>\n",
       "      <td>Hoffman</td>\n",
       "      <td>36</td>\n",
       "      <td>Las Vegas-Henderson-Paradise, NV MSA</td>\n",
       "      <td>2018-10-21</td>\n",
       "      <td>surf</td>\n",
       "      <td>NaN</td>\n",
       "    </tr>\n",
       "    <tr>\n",
       "      <th>3</th>\n",
       "      <td>1003</td>\n",
       "      <td>Reynaldo</td>\n",
       "      <td>Jenkins</td>\n",
       "      <td>52</td>\n",
       "      <td>Tulsa, OK MSA</td>\n",
       "      <td>2018-01-28</td>\n",
       "      <td>surf</td>\n",
       "      <td>NaN</td>\n",
       "    </tr>\n",
       "    <tr>\n",
       "      <th>4</th>\n",
       "      <td>1004</td>\n",
       "      <td>Leonila</td>\n",
       "      <td>Thompson</td>\n",
       "      <td>40</td>\n",
       "      <td>Seattle-Tacoma-Bellevue, WA MSA</td>\n",
       "      <td>2018-05-23</td>\n",
       "      <td>surf</td>\n",
       "      <td>NaN</td>\n",
       "    </tr>\n",
       "  </tbody>\n",
       "</table>\n",
       "</div>"
      ],
      "text/plain": [
       "   user_id first_name  last_name  age                                   city  \\\n",
       "0     1000   Anamaria      Bauer   45  Atlanta-Sandy Springs-Roswell, GA MSA   \n",
       "1     1001     Mickey  Wilkerson   28        Seattle-Tacoma-Bellevue, WA MSA   \n",
       "2     1002     Carlee    Hoffman   36   Las Vegas-Henderson-Paradise, NV MSA   \n",
       "3     1003   Reynaldo    Jenkins   52                          Tulsa, OK MSA   \n",
       "4     1004    Leonila   Thompson   40        Seattle-Tacoma-Bellevue, WA MSA   \n",
       "\n",
       "     reg_date      plan churn_date  \n",
       "0  2018-12-24  ultimate        NaN  \n",
       "1  2018-08-13      surf        NaN  \n",
       "2  2018-10-21      surf        NaN  \n",
       "3  2018-01-28      surf        NaN  \n",
       "4  2018-05-23      surf        NaN  "
      ]
     },
     "execution_count": 7,
     "metadata": {},
     "output_type": "execute_result"
    }
   ],
   "source": [
    "users.head()"
   ]
  },
  {
   "cell_type": "markdown",
   "metadata": {},
   "source": [
    "There are missing values within the 'churn_date' column that we will have to address and we also have to check for duplicate values. We also have a few inappropriate datatypes we need to fix before moving on. "
   ]
  },
  {
   "cell_type": "markdown",
   "metadata": {},
   "source": [
    "### Fix Data"
   ]
  },
  {
   "cell_type": "markdown",
   "metadata": {},
   "source": [
    "Lets address the incorrect datatypes and remove the column with all the missing values. The column we are removing has less than 7% of the actual data we would expect with a full column. Removing this will not negativly effect the results but leaving it will skew data. "
   ]
  },
  {
   "cell_type": "code",
   "execution_count": 8,
   "metadata": {},
   "outputs": [],
   "source": [
    "users['reg_date'] = pd.to_datetime(users['reg_date'])\n",
    "users['churn_date'] = pd.to_datetime(users['churn_date'])\n",
    "churn=users['churn_date']\n",
    "users= users.dropna(axis='columns')"
   ]
  },
  {
   "cell_type": "markdown",
   "metadata": {},
   "source": [
    "### Enrich Data"
   ]
  },
  {
   "cell_type": "code",
   "execution_count": 9,
   "metadata": {},
   "outputs": [
    {
     "data": {
      "text/plain": [
       "0"
      ]
     },
     "execution_count": 9,
     "metadata": {},
     "output_type": "execute_result"
    }
   ],
   "source": [
    "users.duplicated().sum() "
   ]
  },
  {
   "cell_type": "markdown",
   "metadata": {},
   "source": [
    "Great, no duplicate lines within the dataset. Let's move onto the next dataset. "
   ]
  },
  {
   "cell_type": "markdown",
   "metadata": {},
   "source": [
    "## Calls"
   ]
  },
  {
   "cell_type": "code",
   "execution_count": 10,
   "metadata": {},
   "outputs": [
    {
     "name": "stdout",
     "output_type": "stream",
     "text": [
      "<class 'pandas.core.frame.DataFrame'>\n",
      "RangeIndex: 137735 entries, 0 to 137734\n",
      "Data columns (total 4 columns):\n",
      " #   Column     Non-Null Count   Dtype  \n",
      "---  ------     --------------   -----  \n",
      " 0   id         137735 non-null  object \n",
      " 1   user_id    137735 non-null  int64  \n",
      " 2   call_date  137735 non-null  object \n",
      " 3   duration   137735 non-null  float64\n",
      "dtypes: float64(1), int64(1), object(2)\n",
      "memory usage: 4.2+ MB\n"
     ]
    }
   ],
   "source": [
    "calls.info()"
   ]
  },
  {
   "cell_type": "code",
   "execution_count": 11,
   "metadata": {},
   "outputs": [
    {
     "data": {
      "text/html": [
       "<div>\n",
       "<style scoped>\n",
       "    .dataframe tbody tr th:only-of-type {\n",
       "        vertical-align: middle;\n",
       "    }\n",
       "\n",
       "    .dataframe tbody tr th {\n",
       "        vertical-align: top;\n",
       "    }\n",
       "\n",
       "    .dataframe thead th {\n",
       "        text-align: right;\n",
       "    }\n",
       "</style>\n",
       "<table border=\"1\" class=\"dataframe\">\n",
       "  <thead>\n",
       "    <tr style=\"text-align: right;\">\n",
       "      <th></th>\n",
       "      <th>id</th>\n",
       "      <th>user_id</th>\n",
       "      <th>call_date</th>\n",
       "      <th>duration</th>\n",
       "    </tr>\n",
       "  </thead>\n",
       "  <tbody>\n",
       "    <tr>\n",
       "      <th>0</th>\n",
       "      <td>1000_93</td>\n",
       "      <td>1000</td>\n",
       "      <td>2018-12-27</td>\n",
       "      <td>8.52</td>\n",
       "    </tr>\n",
       "    <tr>\n",
       "      <th>1</th>\n",
       "      <td>1000_145</td>\n",
       "      <td>1000</td>\n",
       "      <td>2018-12-27</td>\n",
       "      <td>13.66</td>\n",
       "    </tr>\n",
       "    <tr>\n",
       "      <th>2</th>\n",
       "      <td>1000_247</td>\n",
       "      <td>1000</td>\n",
       "      <td>2018-12-27</td>\n",
       "      <td>14.48</td>\n",
       "    </tr>\n",
       "    <tr>\n",
       "      <th>3</th>\n",
       "      <td>1000_309</td>\n",
       "      <td>1000</td>\n",
       "      <td>2018-12-28</td>\n",
       "      <td>5.76</td>\n",
       "    </tr>\n",
       "    <tr>\n",
       "      <th>4</th>\n",
       "      <td>1000_380</td>\n",
       "      <td>1000</td>\n",
       "      <td>2018-12-30</td>\n",
       "      <td>4.22</td>\n",
       "    </tr>\n",
       "  </tbody>\n",
       "</table>\n",
       "</div>"
      ],
      "text/plain": [
       "         id  user_id   call_date  duration\n",
       "0   1000_93     1000  2018-12-27      8.52\n",
       "1  1000_145     1000  2018-12-27     13.66\n",
       "2  1000_247     1000  2018-12-27     14.48\n",
       "3  1000_309     1000  2018-12-28      5.76\n",
       "4  1000_380     1000  2018-12-30      4.22"
      ]
     },
     "execution_count": 11,
     "metadata": {},
     "output_type": "execute_result"
    }
   ],
   "source": [
    "calls.head()"
   ]
  },
  {
   "cell_type": "markdown",
   "metadata": {},
   "source": [
    "### Fix data"
   ]
  },
  {
   "cell_type": "markdown",
   "metadata": {},
   "source": [
    "Lets start by fixing the datatype. We are changing the 'call_date' column to a datetime format to help later. Then we are adjusting the duration column to help fit into the terms of the plans. "
   ]
  },
  {
   "cell_type": "code",
   "execution_count": 12,
   "metadata": {},
   "outputs": [],
   "source": [
    "calls['call_date'] = pd.to_datetime(calls['call_date'])"
   ]
  },
  {
   "cell_type": "markdown",
   "metadata": {},
   "source": [
    "### Enrich data"
   ]
  },
  {
   "cell_type": "code",
   "execution_count": 13,
   "metadata": {},
   "outputs": [
    {
     "data": {
      "text/plain": [
       "0"
      ]
     },
     "execution_count": 13,
     "metadata": {},
     "output_type": "execute_result"
    }
   ],
   "source": [
    "calls['month']= calls['call_date'].dt.month\n",
    "calls['year']=calls['call_date'].dt.year\n",
    "calls['duration']=np.ceil(calls['duration']).astype(int)\n",
    "\n",
    "calls.duplicated().sum()"
   ]
  },
  {
   "cell_type": "markdown",
   "metadata": {},
   "source": [
    "Overall in the above section there were no missing values or duplicate rows, except for the 'churn_date' column, which was largely missing and subsequently dropped. Data types were adjusted to facilitate analysis, including converting dates to datetime formats and rounding up call durations, as per the plan’s requirements."
   ]
  },
  {
   "cell_type": "markdown",
   "metadata": {},
   "source": [
    "## Messages"
   ]
  },
  {
   "cell_type": "code",
   "execution_count": 14,
   "metadata": {},
   "outputs": [
    {
     "name": "stdout",
     "output_type": "stream",
     "text": [
      "<class 'pandas.core.frame.DataFrame'>\n",
      "RangeIndex: 76051 entries, 0 to 76050\n",
      "Data columns (total 3 columns):\n",
      " #   Column        Non-Null Count  Dtype \n",
      "---  ------        --------------  ----- \n",
      " 0   id            76051 non-null  object\n",
      " 1   user_id       76051 non-null  int64 \n",
      " 2   message_date  76051 non-null  object\n",
      "dtypes: int64(1), object(2)\n",
      "memory usage: 1.7+ MB\n"
     ]
    }
   ],
   "source": [
    "messages.info()"
   ]
  },
  {
   "cell_type": "code",
   "execution_count": 15,
   "metadata": {},
   "outputs": [
    {
     "data": {
      "text/html": [
       "<div>\n",
       "<style scoped>\n",
       "    .dataframe tbody tr th:only-of-type {\n",
       "        vertical-align: middle;\n",
       "    }\n",
       "\n",
       "    .dataframe tbody tr th {\n",
       "        vertical-align: top;\n",
       "    }\n",
       "\n",
       "    .dataframe thead th {\n",
       "        text-align: right;\n",
       "    }\n",
       "</style>\n",
       "<table border=\"1\" class=\"dataframe\">\n",
       "  <thead>\n",
       "    <tr style=\"text-align: right;\">\n",
       "      <th></th>\n",
       "      <th>id</th>\n",
       "      <th>user_id</th>\n",
       "      <th>message_date</th>\n",
       "    </tr>\n",
       "  </thead>\n",
       "  <tbody>\n",
       "    <tr>\n",
       "      <th>0</th>\n",
       "      <td>1000_125</td>\n",
       "      <td>1000</td>\n",
       "      <td>2018-12-27</td>\n",
       "    </tr>\n",
       "    <tr>\n",
       "      <th>1</th>\n",
       "      <td>1000_160</td>\n",
       "      <td>1000</td>\n",
       "      <td>2018-12-31</td>\n",
       "    </tr>\n",
       "    <tr>\n",
       "      <th>2</th>\n",
       "      <td>1000_223</td>\n",
       "      <td>1000</td>\n",
       "      <td>2018-12-31</td>\n",
       "    </tr>\n",
       "    <tr>\n",
       "      <th>3</th>\n",
       "      <td>1000_251</td>\n",
       "      <td>1000</td>\n",
       "      <td>2018-12-27</td>\n",
       "    </tr>\n",
       "    <tr>\n",
       "      <th>4</th>\n",
       "      <td>1000_255</td>\n",
       "      <td>1000</td>\n",
       "      <td>2018-12-26</td>\n",
       "    </tr>\n",
       "  </tbody>\n",
       "</table>\n",
       "</div>"
      ],
      "text/plain": [
       "         id  user_id message_date\n",
       "0  1000_125     1000   2018-12-27\n",
       "1  1000_160     1000   2018-12-31\n",
       "2  1000_223     1000   2018-12-31\n",
       "3  1000_251     1000   2018-12-27\n",
       "4  1000_255     1000   2018-12-26"
      ]
     },
     "execution_count": 15,
     "metadata": {},
     "output_type": "execute_result"
    }
   ],
   "source": [
    "messages.head()"
   ]
  },
  {
   "cell_type": "markdown",
   "metadata": {},
   "source": [
    "The info() cell shows us no missing values. We will have to check for duplicate values. There is a datatype we need to adjust though. "
   ]
  },
  {
   "cell_type": "markdown",
   "metadata": {},
   "source": [
    "### Fix data"
   ]
  },
  {
   "cell_type": "markdown",
   "metadata": {},
   "source": [
    "Let's fix the datatype for this set. "
   ]
  },
  {
   "cell_type": "code",
   "execution_count": 16,
   "metadata": {},
   "outputs": [],
   "source": [
    "messages['message_date'] = pd.to_datetime(messages['message_date'])\n",
    "messages['message_id']= messages['id'].astype('int')"
   ]
  },
  {
   "cell_type": "markdown",
   "metadata": {},
   "source": [
    "### Enrich data"
   ]
  },
  {
   "cell_type": "code",
   "execution_count": 17,
   "metadata": {},
   "outputs": [
    {
     "data": {
      "text/plain": [
       "0"
      ]
     },
     "execution_count": 17,
     "metadata": {},
     "output_type": "execute_result"
    }
   ],
   "source": [
    "messages ['month']= messages ['message_date'].dt.month\n",
    "messages ['year']= messages ['message_date'].dt.year\n",
    "\n",
    "messages.duplicated().sum()"
   ]
  },
  {
   "cell_type": "markdown",
   "metadata": {},
   "source": [
    "Again, no duplicate values to worry about here. Let's move on to the next dataset. "
   ]
  },
  {
   "cell_type": "markdown",
   "metadata": {},
   "source": [
    "## Internet"
   ]
  },
  {
   "cell_type": "code",
   "execution_count": 18,
   "metadata": {},
   "outputs": [
    {
     "name": "stdout",
     "output_type": "stream",
     "text": [
      "<class 'pandas.core.frame.DataFrame'>\n",
      "RangeIndex: 104825 entries, 0 to 104824\n",
      "Data columns (total 4 columns):\n",
      " #   Column        Non-Null Count   Dtype  \n",
      "---  ------        --------------   -----  \n",
      " 0   id            104825 non-null  object \n",
      " 1   user_id       104825 non-null  int64  \n",
      " 2   session_date  104825 non-null  object \n",
      " 3   mb_used       104825 non-null  float64\n",
      "dtypes: float64(1), int64(1), object(2)\n",
      "memory usage: 3.2+ MB\n"
     ]
    }
   ],
   "source": [
    "internet.info()"
   ]
  },
  {
   "cell_type": "code",
   "execution_count": 19,
   "metadata": {},
   "outputs": [
    {
     "data": {
      "text/html": [
       "<div>\n",
       "<style scoped>\n",
       "    .dataframe tbody tr th:only-of-type {\n",
       "        vertical-align: middle;\n",
       "    }\n",
       "\n",
       "    .dataframe tbody tr th {\n",
       "        vertical-align: top;\n",
       "    }\n",
       "\n",
       "    .dataframe thead th {\n",
       "        text-align: right;\n",
       "    }\n",
       "</style>\n",
       "<table border=\"1\" class=\"dataframe\">\n",
       "  <thead>\n",
       "    <tr style=\"text-align: right;\">\n",
       "      <th></th>\n",
       "      <th>id</th>\n",
       "      <th>user_id</th>\n",
       "      <th>session_date</th>\n",
       "      <th>mb_used</th>\n",
       "    </tr>\n",
       "  </thead>\n",
       "  <tbody>\n",
       "    <tr>\n",
       "      <th>0</th>\n",
       "      <td>1000_13</td>\n",
       "      <td>1000</td>\n",
       "      <td>2018-12-29</td>\n",
       "      <td>89.86</td>\n",
       "    </tr>\n",
       "    <tr>\n",
       "      <th>1</th>\n",
       "      <td>1000_204</td>\n",
       "      <td>1000</td>\n",
       "      <td>2018-12-31</td>\n",
       "      <td>0.00</td>\n",
       "    </tr>\n",
       "    <tr>\n",
       "      <th>2</th>\n",
       "      <td>1000_379</td>\n",
       "      <td>1000</td>\n",
       "      <td>2018-12-28</td>\n",
       "      <td>660.40</td>\n",
       "    </tr>\n",
       "    <tr>\n",
       "      <th>3</th>\n",
       "      <td>1000_413</td>\n",
       "      <td>1000</td>\n",
       "      <td>2018-12-26</td>\n",
       "      <td>270.99</td>\n",
       "    </tr>\n",
       "    <tr>\n",
       "      <th>4</th>\n",
       "      <td>1000_442</td>\n",
       "      <td>1000</td>\n",
       "      <td>2018-12-27</td>\n",
       "      <td>880.22</td>\n",
       "    </tr>\n",
       "  </tbody>\n",
       "</table>\n",
       "</div>"
      ],
      "text/plain": [
       "         id  user_id session_date  mb_used\n",
       "0   1000_13     1000   2018-12-29    89.86\n",
       "1  1000_204     1000   2018-12-31     0.00\n",
       "2  1000_379     1000   2018-12-28   660.40\n",
       "3  1000_413     1000   2018-12-26   270.99\n",
       "4  1000_442     1000   2018-12-27   880.22"
      ]
     },
     "execution_count": 19,
     "metadata": {},
     "output_type": "execute_result"
    }
   ],
   "source": [
    "internet.head()"
   ]
  },
  {
   "cell_type": "markdown",
   "metadata": {},
   "source": [
    " Info() cell shows no missing values. As usual we will have to investigate to make sure there are no duplicate values within our set. We do see a datatype that needs to be changed before we move on. "
   ]
  },
  {
   "cell_type": "markdown",
   "metadata": {},
   "source": [
    "### Fix data"
   ]
  },
  {
   "cell_type": "markdown",
   "metadata": {},
   "source": [
    "Lets fix that datatype. "
   ]
  },
  {
   "cell_type": "code",
   "execution_count": 20,
   "metadata": {},
   "outputs": [],
   "source": [
    "internet['session_date'] = pd.to_datetime(internet['session_date'])"
   ]
  },
  {
   "cell_type": "markdown",
   "metadata": {},
   "source": [
    "### Enrich data"
   ]
  },
  {
   "cell_type": "code",
   "execution_count": 21,
   "metadata": {},
   "outputs": [
    {
     "data": {
      "text/plain": [
       "0"
      ]
     },
     "execution_count": 21,
     "metadata": {},
     "output_type": "execute_result"
    }
   ],
   "source": [
    "internet ['month']= internet ['session_date'].dt.month\n",
    "internet ['year']= internet ['session_date'].dt.year\n",
    "\n",
    "internet.duplicated().sum()"
   ]
  },
  {
   "cell_type": "markdown",
   "metadata": {},
   "source": [
    "Lastly, no duplicate values within this dataset. Great! Lets move on to further analyze our data. "
   ]
  },
  {
   "cell_type": "markdown",
   "metadata": {},
   "source": [
    "## Study plan conditions"
   ]
  },
  {
   "cell_type": "markdown",
   "metadata": {},
   "source": [
    "Megaline rounds seconds up to minutes, and megabytes to gigabytes. For calls, each individual call is rounded up: even if the call lasted just one second, it will be counted as one minute. For web traffic, individual web sessions are not rounded up. Instead, the total for the month is rounded up. If someone uses 1025 megabytes this month, they will be charged for 2 gigabytes."
   ]
  },
  {
   "cell_type": "markdown",
   "metadata": {},
   "source": [
    "## Aggregate data per user\n"
   ]
  },
  {
   "cell_type": "markdown",
   "metadata": {},
   "source": [
    "Lets start organizing the data and pulling out the information we need for our analysis, keeping in mind the information above about the plans and how they calculate the information.  "
   ]
  },
  {
   "cell_type": "markdown",
   "metadata": {},
   "source": [
    "Calculating the number of calls made by each user per month:"
   ]
  },
  {
   "cell_type": "code",
   "execution_count": 22,
   "metadata": {},
   "outputs": [],
   "source": [
    "calls['rounded_duration']= round(calls['duration'])\n",
    "calls_per_month = calls.groupby(['user_id','year','month']).agg({'rounded_duration': 'count'}).reset_index()"
   ]
  },
  {
   "cell_type": "markdown",
   "metadata": {},
   "source": [
    "Calculating the amount of minutes spent by each user per month:"
   ]
  },
  {
   "cell_type": "code",
   "execution_count": 23,
   "metadata": {},
   "outputs": [],
   "source": [
    "minutes_per_month= calls.groupby(['user_id', 'year', 'month'])['duration'].sum().reset_index()"
   ]
  },
  {
   "cell_type": "markdown",
   "metadata": {},
   "source": [
    "Calculating the number of messages sent by each user per month:"
   ]
  },
  {
   "cell_type": "code",
   "execution_count": 24,
   "metadata": {},
   "outputs": [],
   "source": [
    "messages_sent_monthly= messages.groupby(['user_id','year','month']).agg({'message_id': 'count'}).reset_index( )"
   ]
  },
  {
   "cell_type": "markdown",
   "metadata": {},
   "source": [
    "Calculating the volume of internet traffic used by each user per month ((in MB) then adjusting to GB):"
   ]
  },
  {
   "cell_type": "code",
   "execution_count": 25,
   "metadata": {},
   "outputs": [],
   "source": [
    "mb_used_monthly= internet.groupby(['user_id', 'year', 'month']).agg({'mb_used':'sum'}).reset_index()\n",
    "mb_used_monthly['gb_used']=(mb_used_monthly['mb_used'] / 1024)\n",
    "mb_used_monthly['gb_used']=np.ceil(mb_used_monthly['gb_used']).astype(int)"
   ]
  },
  {
   "cell_type": "markdown",
   "metadata": {},
   "source": [
    "Lets merge all the information we just organized into one full datset:"
   ]
  },
  {
   "cell_type": "code",
   "execution_count": 26,
   "metadata": {},
   "outputs": [],
   "source": [
    "plans_df.rename(columns={'plan_name': 'plan'}, inplace=True)"
   ]
  },
  {
   "cell_type": "code",
   "execution_count": 27,
   "metadata": {
    "scrolled": false
   },
   "outputs": [
    {
     "data": {
      "text/html": [
       "<div>\n",
       "<style scoped>\n",
       "    .dataframe tbody tr th:only-of-type {\n",
       "        vertical-align: middle;\n",
       "    }\n",
       "\n",
       "    .dataframe tbody tr th {\n",
       "        vertical-align: top;\n",
       "    }\n",
       "\n",
       "    .dataframe thead th {\n",
       "        text-align: right;\n",
       "    }\n",
       "</style>\n",
       "<table border=\"1\" class=\"dataframe\">\n",
       "  <thead>\n",
       "    <tr style=\"text-align: right;\">\n",
       "      <th></th>\n",
       "      <th>user_id</th>\n",
       "      <th>year</th>\n",
       "      <th>month</th>\n",
       "      <th>call_count</th>\n",
       "      <th>total_minutes</th>\n",
       "      <th>messages_sent</th>\n",
       "      <th>mb_used</th>\n",
       "      <th>gb_used</th>\n",
       "      <th>plan</th>\n",
       "      <th>city</th>\n",
       "      <th>messages_included</th>\n",
       "      <th>mb_per_month_included</th>\n",
       "      <th>minutes_included</th>\n",
       "      <th>usd_monthly_pay</th>\n",
       "      <th>usd_per_gb</th>\n",
       "      <th>usd_per_message</th>\n",
       "      <th>usd_per_minute</th>\n",
       "      <th>gb_per_month_included</th>\n",
       "    </tr>\n",
       "  </thead>\n",
       "  <tbody>\n",
       "    <tr>\n",
       "      <th>0</th>\n",
       "      <td>1000</td>\n",
       "      <td>2018</td>\n",
       "      <td>12</td>\n",
       "      <td>16.0</td>\n",
       "      <td>124.0</td>\n",
       "      <td>11.0</td>\n",
       "      <td>1901.47</td>\n",
       "      <td>2.0</td>\n",
       "      <td>ultimate</td>\n",
       "      <td>Atlanta-Sandy Springs-Roswell, GA MSA</td>\n",
       "      <td>1000</td>\n",
       "      <td>30720</td>\n",
       "      <td>3000</td>\n",
       "      <td>70.0</td>\n",
       "      <td>7.0</td>\n",
       "      <td>0.01</td>\n",
       "      <td>0.01</td>\n",
       "      <td>30.0</td>\n",
       "    </tr>\n",
       "    <tr>\n",
       "      <th>1</th>\n",
       "      <td>1001</td>\n",
       "      <td>2018</td>\n",
       "      <td>8</td>\n",
       "      <td>27.0</td>\n",
       "      <td>182.0</td>\n",
       "      <td>30.0</td>\n",
       "      <td>6919.15</td>\n",
       "      <td>7.0</td>\n",
       "      <td>surf</td>\n",
       "      <td>Seattle-Tacoma-Bellevue, WA MSA</td>\n",
       "      <td>50</td>\n",
       "      <td>15360</td>\n",
       "      <td>500</td>\n",
       "      <td>20.0</td>\n",
       "      <td>10.0</td>\n",
       "      <td>0.03</td>\n",
       "      <td>0.03</td>\n",
       "      <td>15.0</td>\n",
       "    </tr>\n",
       "    <tr>\n",
       "      <th>2</th>\n",
       "      <td>1001</td>\n",
       "      <td>2018</td>\n",
       "      <td>9</td>\n",
       "      <td>49.0</td>\n",
       "      <td>315.0</td>\n",
       "      <td>44.0</td>\n",
       "      <td>13314.82</td>\n",
       "      <td>14.0</td>\n",
       "      <td>surf</td>\n",
       "      <td>Seattle-Tacoma-Bellevue, WA MSA</td>\n",
       "      <td>50</td>\n",
       "      <td>15360</td>\n",
       "      <td>500</td>\n",
       "      <td>20.0</td>\n",
       "      <td>10.0</td>\n",
       "      <td>0.03</td>\n",
       "      <td>0.03</td>\n",
       "      <td>15.0</td>\n",
       "    </tr>\n",
       "    <tr>\n",
       "      <th>3</th>\n",
       "      <td>1001</td>\n",
       "      <td>2018</td>\n",
       "      <td>10</td>\n",
       "      <td>65.0</td>\n",
       "      <td>393.0</td>\n",
       "      <td>53.0</td>\n",
       "      <td>22330.49</td>\n",
       "      <td>22.0</td>\n",
       "      <td>surf</td>\n",
       "      <td>Seattle-Tacoma-Bellevue, WA MSA</td>\n",
       "      <td>50</td>\n",
       "      <td>15360</td>\n",
       "      <td>500</td>\n",
       "      <td>20.0</td>\n",
       "      <td>10.0</td>\n",
       "      <td>0.03</td>\n",
       "      <td>0.03</td>\n",
       "      <td>15.0</td>\n",
       "    </tr>\n",
       "    <tr>\n",
       "      <th>4</th>\n",
       "      <td>1001</td>\n",
       "      <td>2018</td>\n",
       "      <td>11</td>\n",
       "      <td>64.0</td>\n",
       "      <td>426.0</td>\n",
       "      <td>36.0</td>\n",
       "      <td>18504.30</td>\n",
       "      <td>19.0</td>\n",
       "      <td>surf</td>\n",
       "      <td>Seattle-Tacoma-Bellevue, WA MSA</td>\n",
       "      <td>50</td>\n",
       "      <td>15360</td>\n",
       "      <td>500</td>\n",
       "      <td>20.0</td>\n",
       "      <td>10.0</td>\n",
       "      <td>0.03</td>\n",
       "      <td>0.03</td>\n",
       "      <td>15.0</td>\n",
       "    </tr>\n",
       "    <tr>\n",
       "      <th>...</th>\n",
       "      <td>...</td>\n",
       "      <td>...</td>\n",
       "      <td>...</td>\n",
       "      <td>...</td>\n",
       "      <td>...</td>\n",
       "      <td>...</td>\n",
       "      <td>...</td>\n",
       "      <td>...</td>\n",
       "      <td>...</td>\n",
       "      <td>...</td>\n",
       "      <td>...</td>\n",
       "      <td>...</td>\n",
       "      <td>...</td>\n",
       "      <td>...</td>\n",
       "      <td>...</td>\n",
       "      <td>...</td>\n",
       "      <td>...</td>\n",
       "      <td>...</td>\n",
       "    </tr>\n",
       "    <tr>\n",
       "      <th>2288</th>\n",
       "      <td>1349</td>\n",
       "      <td>2018</td>\n",
       "      <td>12</td>\n",
       "      <td>0.0</td>\n",
       "      <td>0.0</td>\n",
       "      <td>61.0</td>\n",
       "      <td>13039.91</td>\n",
       "      <td>13.0</td>\n",
       "      <td>surf</td>\n",
       "      <td>Boston-Cambridge-Newton, MA-NH MSA</td>\n",
       "      <td>50</td>\n",
       "      <td>15360</td>\n",
       "      <td>500</td>\n",
       "      <td>20.0</td>\n",
       "      <td>10.0</td>\n",
       "      <td>0.03</td>\n",
       "      <td>0.03</td>\n",
       "      <td>15.0</td>\n",
       "    </tr>\n",
       "    <tr>\n",
       "      <th>2289</th>\n",
       "      <td>1361</td>\n",
       "      <td>2018</td>\n",
       "      <td>5</td>\n",
       "      <td>0.0</td>\n",
       "      <td>0.0</td>\n",
       "      <td>2.0</td>\n",
       "      <td>1519.69</td>\n",
       "      <td>2.0</td>\n",
       "      <td>surf</td>\n",
       "      <td>Birmingham-Hoover, AL MSA</td>\n",
       "      <td>50</td>\n",
       "      <td>15360</td>\n",
       "      <td>500</td>\n",
       "      <td>20.0</td>\n",
       "      <td>10.0</td>\n",
       "      <td>0.03</td>\n",
       "      <td>0.03</td>\n",
       "      <td>15.0</td>\n",
       "    </tr>\n",
       "    <tr>\n",
       "      <th>2290</th>\n",
       "      <td>1482</td>\n",
       "      <td>2018</td>\n",
       "      <td>10</td>\n",
       "      <td>0.0</td>\n",
       "      <td>0.0</td>\n",
       "      <td>2.0</td>\n",
       "      <td>0.00</td>\n",
       "      <td>0.0</td>\n",
       "      <td>ultimate</td>\n",
       "      <td>New York-Newark-Jersey City, NY-NJ-PA MSA</td>\n",
       "      <td>1000</td>\n",
       "      <td>30720</td>\n",
       "      <td>3000</td>\n",
       "      <td>70.0</td>\n",
       "      <td>7.0</td>\n",
       "      <td>0.01</td>\n",
       "      <td>0.01</td>\n",
       "      <td>30.0</td>\n",
       "    </tr>\n",
       "    <tr>\n",
       "      <th>2291</th>\n",
       "      <td>1108</td>\n",
       "      <td>2018</td>\n",
       "      <td>12</td>\n",
       "      <td>0.0</td>\n",
       "      <td>0.0</td>\n",
       "      <td>0.0</td>\n",
       "      <td>233.17</td>\n",
       "      <td>1.0</td>\n",
       "      <td>ultimate</td>\n",
       "      <td>Salt Lake City, UT MSA</td>\n",
       "      <td>1000</td>\n",
       "      <td>30720</td>\n",
       "      <td>3000</td>\n",
       "      <td>70.0</td>\n",
       "      <td>7.0</td>\n",
       "      <td>0.01</td>\n",
       "      <td>0.01</td>\n",
       "      <td>30.0</td>\n",
       "    </tr>\n",
       "    <tr>\n",
       "      <th>2292</th>\n",
       "      <td>1311</td>\n",
       "      <td>2018</td>\n",
       "      <td>6</td>\n",
       "      <td>0.0</td>\n",
       "      <td>0.0</td>\n",
       "      <td>0.0</td>\n",
       "      <td>1498.83</td>\n",
       "      <td>2.0</td>\n",
       "      <td>ultimate</td>\n",
       "      <td>Memphis, TN-MS-AR MSA</td>\n",
       "      <td>1000</td>\n",
       "      <td>30720</td>\n",
       "      <td>3000</td>\n",
       "      <td>70.0</td>\n",
       "      <td>7.0</td>\n",
       "      <td>0.01</td>\n",
       "      <td>0.01</td>\n",
       "      <td>30.0</td>\n",
       "    </tr>\n",
       "  </tbody>\n",
       "</table>\n",
       "<p>2293 rows × 18 columns</p>\n",
       "</div>"
      ],
      "text/plain": [
       "      user_id  year  month  call_count  total_minutes  messages_sent  \\\n",
       "0        1000  2018     12        16.0          124.0           11.0   \n",
       "1        1001  2018      8        27.0          182.0           30.0   \n",
       "2        1001  2018      9        49.0          315.0           44.0   \n",
       "3        1001  2018     10        65.0          393.0           53.0   \n",
       "4        1001  2018     11        64.0          426.0           36.0   \n",
       "...       ...   ...    ...         ...            ...            ...   \n",
       "2288     1349  2018     12         0.0            0.0           61.0   \n",
       "2289     1361  2018      5         0.0            0.0            2.0   \n",
       "2290     1482  2018     10         0.0            0.0            2.0   \n",
       "2291     1108  2018     12         0.0            0.0            0.0   \n",
       "2292     1311  2018      6         0.0            0.0            0.0   \n",
       "\n",
       "       mb_used  gb_used      plan                                       city  \\\n",
       "0      1901.47      2.0  ultimate      Atlanta-Sandy Springs-Roswell, GA MSA   \n",
       "1      6919.15      7.0      surf            Seattle-Tacoma-Bellevue, WA MSA   \n",
       "2     13314.82     14.0      surf            Seattle-Tacoma-Bellevue, WA MSA   \n",
       "3     22330.49     22.0      surf            Seattle-Tacoma-Bellevue, WA MSA   \n",
       "4     18504.30     19.0      surf            Seattle-Tacoma-Bellevue, WA MSA   \n",
       "...        ...      ...       ...                                        ...   \n",
       "2288  13039.91     13.0      surf         Boston-Cambridge-Newton, MA-NH MSA   \n",
       "2289   1519.69      2.0      surf                  Birmingham-Hoover, AL MSA   \n",
       "2290      0.00      0.0  ultimate  New York-Newark-Jersey City, NY-NJ-PA MSA   \n",
       "2291    233.17      1.0  ultimate                     Salt Lake City, UT MSA   \n",
       "2292   1498.83      2.0  ultimate                      Memphis, TN-MS-AR MSA   \n",
       "\n",
       "      messages_included  mb_per_month_included  minutes_included  \\\n",
       "0                  1000                  30720              3000   \n",
       "1                    50                  15360               500   \n",
       "2                    50                  15360               500   \n",
       "3                    50                  15360               500   \n",
       "4                    50                  15360               500   \n",
       "...                 ...                    ...               ...   \n",
       "2288                 50                  15360               500   \n",
       "2289                 50                  15360               500   \n",
       "2290               1000                  30720              3000   \n",
       "2291               1000                  30720              3000   \n",
       "2292               1000                  30720              3000   \n",
       "\n",
       "      usd_monthly_pay  usd_per_gb  usd_per_message  usd_per_minute  \\\n",
       "0                70.0         7.0             0.01            0.01   \n",
       "1                20.0        10.0             0.03            0.03   \n",
       "2                20.0        10.0             0.03            0.03   \n",
       "3                20.0        10.0             0.03            0.03   \n",
       "4                20.0        10.0             0.03            0.03   \n",
       "...               ...         ...              ...             ...   \n",
       "2288             20.0        10.0             0.03            0.03   \n",
       "2289             20.0        10.0             0.03            0.03   \n",
       "2290             70.0         7.0             0.01            0.01   \n",
       "2291             70.0         7.0             0.01            0.01   \n",
       "2292             70.0         7.0             0.01            0.01   \n",
       "\n",
       "      gb_per_month_included  \n",
       "0                      30.0  \n",
       "1                      15.0  \n",
       "2                      15.0  \n",
       "3                      15.0  \n",
       "4                      15.0  \n",
       "...                     ...  \n",
       "2288                   15.0  \n",
       "2289                   15.0  \n",
       "2290                   30.0  \n",
       "2291                   30.0  \n",
       "2292                   30.0  \n",
       "\n",
       "[2293 rows x 18 columns]"
      ]
     },
     "execution_count": 27,
     "metadata": {},
     "output_type": "execute_result"
    }
   ],
   "source": [
    "merged_df= pd.merge(calls_per_month, minutes_per_month, on=['user_id','year','month'], how='outer')\n",
    "merged_df= pd.merge(merged_df, messages_sent_monthly, on=['user_id','year','month'],how='outer')\n",
    "merged_df= pd.merge(merged_df, mb_used_monthly, on=['user_id','year','month'],how='outer')\n",
    "merged_df= pd.merge(merged_df, users[['user_id', 'plan', 'city']], on='user_id', how='left')\n",
    "merged_df= pd.merge(merged_df, plans_df, on='plan', how='left')\n",
    "merged_df.fillna({'city': 'Unknown', 'plan': 'Unknown'}, inplace=True)\n",
    "merged_df.fillna(0, inplace=True)\n",
    "merged_df.rename(columns={'message_id': 'messages_sent'}, inplace=True)\n",
    "merged_df.rename(columns={'rounded_duration': 'call_count'}, inplace=True)\n",
    "merged_df.rename(columns={'duration': 'total_minutes'}, inplace=True)\n",
    "merged_df"
   ]
  },
  {
   "cell_type": "markdown",
   "metadata": {},
   "source": [
    "Recap of the plan details for us to use later:"
   ]
  },
  {
   "cell_type": "code",
   "execution_count": 28,
   "metadata": {},
   "outputs": [
    {
     "data": {
      "text/html": [
       "<div>\n",
       "<style scoped>\n",
       "    .dataframe tbody tr th:only-of-type {\n",
       "        vertical-align: middle;\n",
       "    }\n",
       "\n",
       "    .dataframe tbody tr th {\n",
       "        vertical-align: top;\n",
       "    }\n",
       "\n",
       "    .dataframe thead th {\n",
       "        text-align: right;\n",
       "    }\n",
       "</style>\n",
       "<table border=\"1\" class=\"dataframe\">\n",
       "  <thead>\n",
       "    <tr style=\"text-align: right;\">\n",
       "      <th></th>\n",
       "      <th>messages_included</th>\n",
       "      <th>mb_per_month_included</th>\n",
       "      <th>minutes_included</th>\n",
       "      <th>usd_monthly_pay</th>\n",
       "      <th>usd_per_gb</th>\n",
       "      <th>usd_per_message</th>\n",
       "      <th>usd_per_minute</th>\n",
       "      <th>plan</th>\n",
       "      <th>gb_per_month_included</th>\n",
       "    </tr>\n",
       "  </thead>\n",
       "  <tbody>\n",
       "    <tr>\n",
       "      <th>0</th>\n",
       "      <td>50</td>\n",
       "      <td>15360</td>\n",
       "      <td>500</td>\n",
       "      <td>20.0</td>\n",
       "      <td>10.0</td>\n",
       "      <td>0.03</td>\n",
       "      <td>0.03</td>\n",
       "      <td>surf</td>\n",
       "      <td>15.0</td>\n",
       "    </tr>\n",
       "    <tr>\n",
       "      <th>1</th>\n",
       "      <td>1000</td>\n",
       "      <td>30720</td>\n",
       "      <td>3000</td>\n",
       "      <td>70.0</td>\n",
       "      <td>7.0</td>\n",
       "      <td>0.01</td>\n",
       "      <td>0.01</td>\n",
       "      <td>ultimate</td>\n",
       "      <td>30.0</td>\n",
       "    </tr>\n",
       "  </tbody>\n",
       "</table>\n",
       "</div>"
      ],
      "text/plain": [
       "   messages_included  mb_per_month_included  minutes_included  \\\n",
       "0                 50                  15360               500   \n",
       "1               1000                  30720              3000   \n",
       "\n",
       "   usd_monthly_pay  usd_per_gb  usd_per_message  usd_per_minute      plan  \\\n",
       "0             20.0        10.0             0.03            0.03      surf   \n",
       "1             70.0         7.0             0.01            0.01  ultimate   \n",
       "\n",
       "   gb_per_month_included  \n",
       "0                   15.0  \n",
       "1                   30.0  "
      ]
     },
     "execution_count": 28,
     "metadata": {},
     "output_type": "execute_result"
    }
   ],
   "source": [
    "plans_df"
   ]
  },
  {
   "cell_type": "code",
   "execution_count": 29,
   "metadata": {
    "scrolled": false
   },
   "outputs": [],
   "source": [
    "def calculate_revenue(row):\n",
    "    plan = plans_df.loc[plans_df['plan'] == row['plan']].iloc[0]\n",
    "    call_cost = max(0, row['total_minutes'] - plan['minutes_included']) * plan['usd_per_minute']\n",
    "    message_cost = max(0, row['messages_sent'] - plan['messages_included']) * plan['usd_per_message']\n",
    "    data_cost = max(0, row['gb_used'] - plan['gb_per_month_included']) * plan['usd_per_gb']\n",
    "     \n",
    "    total_cost = call_cost + message_cost + data_cost + plan['usd_monthly_pay']\n",
    "    \n",
    "    return total_cost\n",
    "\n",
    "merged_df['monthly_revenue'] = merged_df.apply(calculate_revenue, axis=1)"
   ]
  },
  {
   "cell_type": "markdown",
   "metadata": {},
   "source": [
    "## Study user behaviour"
   ]
  },
  {
   "cell_type": "markdown",
   "metadata": {},
   "source": [
    "### Calls"
   ]
  },
  {
   "cell_type": "markdown",
   "metadata": {},
   "source": [
    "Visualizing a comparative average duration of calls per plan per month:"
   ]
  },
  {
   "cell_type": "code",
   "execution_count": 30,
   "metadata": {},
   "outputs": [
    {
     "data": {
      "image/png": "[encoded data removed]",
      "text/plain": [
       "<Figure size 640x480 with 1 Axes>"
      ]
     },
     "metadata": {},
     "output_type": "display_data"
    }
   ],
   "source": [
    "avg_call_duration = merged_df.groupby(['plan', 'month'])['total_minutes'].mean().reset_index()\n",
    "custom_palette = {\n",
    "    'surf': 'red',\n",
    "    'ultimate': 'blue'\n",
    "}\n",
    "sns.barplot(data=avg_call_duration, x='month', y='total_minutes',hue='plan', palette=custom_palette,edgecolor='white')\n",
    "plt.title('Average Call Duration per Plan by Month')\n",
    "plt.xlabel('Month')\n",
    "plt.ylabel('Average Call Duration (minutes)')\n",
    "plt.show()"
   ]
  },
  {
   "cell_type": "markdown",
   "metadata": {},
   "source": [
    "Above shows that surf users tend to use more minutes in January than the utimate users but ultimate customers use many more minutes than surf in February. "
   ]
  },
  {
   "cell_type": "markdown",
   "metadata": {},
   "source": [
    "Visualizing a comparative average duration of minutes users of each plan require per month:"
   ]
  },
  {
   "cell_type": "code",
   "execution_count": 31,
   "metadata": {},
   "outputs": [
    {
     "data": {
      "image/png": "[encoded data removed]",
      "text/plain": [
       "<Figure size 640x480 with 1 Axes>"
      ]
     },
     "metadata": {},
     "output_type": "display_data"
    }
   ],
   "source": [
    "sns.histplot(data=merged_df, x='total_minutes', hue='plan',palette=custom_palette, multiple='stack', edgecolor='white', bins=20)\n",
    "plt.title('Distribution of Monthly Call Minutes by Plan')\n",
    "plt.xlabel('Total Minutes')\n",
    "plt.ylabel('Number of Users')\n",
    "plt.show()"
   ]
  },
  {
   "cell_type": "markdown",
   "metadata": {},
   "source": [
    "Ultimate users sent significantly more messages per month than surf users, highlighting a greater reliance on messaging for ultimate users."
   ]
  },
  {
   "cell_type": "markdown",
   "metadata": {},
   "source": [
    "Here's the mean and the varience of the monthly call duration:"
   ]
  },
  {
   "cell_type": "code",
   "execution_count": 32,
   "metadata": {
    "scrolled": true
   },
   "outputs": [
    {
     "data": {
      "text/html": [
       "<div>\n",
       "<style scoped>\n",
       "    .dataframe tbody tr th:only-of-type {\n",
       "        vertical-align: middle;\n",
       "    }\n",
       "\n",
       "    .dataframe tbody tr th {\n",
       "        vertical-align: top;\n",
       "    }\n",
       "\n",
       "    .dataframe thead th {\n",
       "        text-align: right;\n",
       "    }\n",
       "</style>\n",
       "<table border=\"1\" class=\"dataframe\">\n",
       "  <thead>\n",
       "    <tr style=\"text-align: right;\">\n",
       "      <th></th>\n",
       "      <th>plan</th>\n",
       "      <th>mean</th>\n",
       "      <th>var</th>\n",
       "      <th>std</th>\n",
       "    </tr>\n",
       "  </thead>\n",
       "  <tbody>\n",
       "    <tr>\n",
       "      <th>0</th>\n",
       "      <td>surf</td>\n",
       "      <td>428.749523</td>\n",
       "      <td>54968.279461</td>\n",
       "      <td>234.453150</td>\n",
       "    </tr>\n",
       "    <tr>\n",
       "      <th>1</th>\n",
       "      <td>ultimate</td>\n",
       "      <td>430.450000</td>\n",
       "      <td>57844.464812</td>\n",
       "      <td>240.508762</td>\n",
       "    </tr>\n",
       "  </tbody>\n",
       "</table>\n",
       "</div>"
      ],
      "text/plain": [
       "       plan        mean           var         std\n",
       "0      surf  428.749523  54968.279461  234.453150\n",
       "1  ultimate  430.450000  57844.464812  240.508762"
      ]
     },
     "execution_count": 32,
     "metadata": {},
     "output_type": "execute_result"
    }
   ],
   "source": [
    "mean_variance_call_duration = merged_df.groupby('plan')['total_minutes'].agg(['mean', 'var', 'std']).reset_index()\n",
    "mean_variance_call_duration"
   ]
  },
  {
   "cell_type": "markdown",
   "metadata": {},
   "source": [
    "There was a slight variance in usage between the two plans, so customers on both plans tend to use a similar amount of call time on average, suggesting that the difference in plan type does not significantly impact how much customers use their phones for calls."
   ]
  },
  {
   "cell_type": "markdown",
   "metadata": {},
   "source": [
    "Visualizing the distribution of the users call durations per month:"
   ]
  },
  {
   "cell_type": "code",
   "execution_count": 33,
   "metadata": {},
   "outputs": [
    {
     "data": {
      "image/png": "[encoded data removed]",
      "text/plain": [
       "<Figure size 640x480 with 1 Axes>"
      ]
     },
     "metadata": {},
     "output_type": "display_data"
    }
   ],
   "source": [
    "sns.boxplot(data=merged_df, x='plan', y='total_minutes',palette=custom_palette)\n",
    "plt.title('Distribution of Monthly Total Call Duration by Plan')\n",
    "plt.xlabel('Plan')\n",
    "plt.ylabel('Total Minutes')\n",
    "plt.show()"
   ]
  },
  {
   "cell_type": "markdown",
   "metadata": {},
   "source": [
    "Based on the information above there is not much difference between the call duration behaviors of users and difference in plans. The average call duration is within five minutes difference of each other based on plan. "
   ]
  },
  {
   "cell_type": "markdown",
   "metadata": {},
   "source": [
    "### Messages"
   ]
  },
  {
   "cell_type": "markdown",
   "metadata": {},
   "source": [
    "Visualizing the distribution of the users number of messages per month per plan:"
   ]
  },
  {
   "cell_type": "code",
   "execution_count": 34,
   "metadata": {},
   "outputs": [
    {
     "data": {
      "image/png": "[encoded data removed]",
      "text/plain": [
       "<Figure size 640x480 with 1 Axes>"
      ]
     },
     "metadata": {},
     "output_type": "display_data"
    }
   ],
   "source": [
    "sns.histplot(data=merged_df, x='messages_sent', hue='plan', multiple='stack', edgecolor='white',palette=custom_palette, bins=20)\n",
    "plt.title('Distribution of Monthly Messages by Plan')\n",
    "plt.xlabel('Message Count')\n",
    "plt.ylabel('Number of Users')\n",
    "plt.show()"
   ]
  },
  {
   "cell_type": "markdown",
   "metadata": {},
   "source": [
    "Ultimate users sent significantly more messages per month than surf users, highlighting a greater reliance on messaging for ultimate users."
   ]
  },
  {
   "cell_type": "code",
   "execution_count": 35,
   "metadata": {},
   "outputs": [
    {
     "data": {
      "text/html": [
       "<div>\n",
       "<style scoped>\n",
       "    .dataframe tbody tr th:only-of-type {\n",
       "        vertical-align: middle;\n",
       "    }\n",
       "\n",
       "    .dataframe tbody tr th {\n",
       "        vertical-align: top;\n",
       "    }\n",
       "\n",
       "    .dataframe thead th {\n",
       "        text-align: right;\n",
       "    }\n",
       "</style>\n",
       "<table border=\"1\" class=\"dataframe\">\n",
       "  <thead>\n",
       "    <tr style=\"text-align: right;\">\n",
       "      <th></th>\n",
       "      <th>plan</th>\n",
       "      <th>mean</th>\n",
       "      <th>var</th>\n",
       "      <th>std</th>\n",
       "    </tr>\n",
       "  </thead>\n",
       "  <tbody>\n",
       "    <tr>\n",
       "      <th>0</th>\n",
       "      <td>surf</td>\n",
       "      <td>31.159568</td>\n",
       "      <td>1126.724522</td>\n",
       "      <td>33.566717</td>\n",
       "    </tr>\n",
       "    <tr>\n",
       "      <th>1</th>\n",
       "      <td>ultimate</td>\n",
       "      <td>37.551389</td>\n",
       "      <td>1208.756744</td>\n",
       "      <td>34.767179</td>\n",
       "    </tr>\n",
       "  </tbody>\n",
       "</table>\n",
       "</div>"
      ],
      "text/plain": [
       "       plan       mean          var        std\n",
       "0      surf  31.159568  1126.724522  33.566717\n",
       "1  ultimate  37.551389  1208.756744  34.767179"
      ]
     },
     "execution_count": 35,
     "metadata": {},
     "output_type": "execute_result"
    }
   ],
   "source": [
    "mean_variance_message_count = merged_df.groupby('plan')['messages_sent'].agg(['mean', 'var', 'std']).reset_index()\n",
    "mean_variance_message_count"
   ]
  },
  {
   "cell_type": "markdown",
   "metadata": {},
   "source": [
    "****************************************"
   ]
  },
  {
   "cell_type": "markdown",
   "metadata": {},
   "source": [
    "### Internet"
   ]
  },
  {
   "cell_type": "markdown",
   "metadata": {},
   "source": [
    "Visualizing the distribution of the users monthly internet usage per plan:"
   ]
  },
  {
   "cell_type": "code",
   "execution_count": 36,
   "metadata": {
    "scrolled": false
   },
   "outputs": [
    {
     "data": {
      "image/png": "[encoded data removed]",
      "text/plain": [
       "<Figure size 640x480 with 1 Axes>"
      ]
     },
     "metadata": {},
     "output_type": "display_data"
    }
   ],
   "source": [
    "sns.histplot(data=merged_df, x='gb_used', hue='plan', multiple='stack', edgecolor='white',palette=custom_palette, bins=20)\n",
    "plt.title('Distribution of Monthly Internet Traffic by Plan')\n",
    "plt.xlabel('Internet Volume (GB)')\n",
    "plt.ylabel('Amount of Users')\n",
    "plt.show()"
   ]
  },
  {
   "cell_type": "markdown",
   "metadata": {},
   "source": [
    "The above graph shows the ultimate users are definately using more GB in internet usage than the surf users. "
   ]
  },
  {
   "cell_type": "markdown",
   "metadata": {},
   "source": [
    "Visualizing the distribution of the users internet usage per month per plan:"
   ]
  },
  {
   "cell_type": "code",
   "execution_count": 37,
   "metadata": {},
   "outputs": [
    {
     "data": {
      "image/png": "[encoded data removed]",
      "text/plain": [
       "<Figure size 640x480 with 1 Axes>"
      ]
     },
     "metadata": {},
     "output_type": "display_data"
    }
   ],
   "source": [
    "avg_internet_usage = merged_df.groupby(['plan', 'month'])['gb_used'].mean().reset_index()\n",
    "sns.barplot(data=avg_internet_usage, x='month', y='gb_used', hue='plan',palette=custom_palette)\n",
    "plt.title('Average Internet Usage per Plan by Month')\n",
    "plt.xlabel('Month')\n",
    "plt.ylabel('Average Internet Usage (GB)')\n",
    "plt.show()"
   ]
  },
  {
   "cell_type": "markdown",
   "metadata": {},
   "source": [
    " Ultimate users consistently used more data than Surf users, with noticeable differences in February and March."
   ]
  },
  {
   "cell_type": "markdown",
   "metadata": {},
   "source": [
    "Comparing the number of GB users of each plan require each month:"
   ]
  },
  {
   "cell_type": "code",
   "execution_count": 38,
   "metadata": {},
   "outputs": [
    {
     "data": {
      "image/png": "[encoded data removed]",
      "text/plain": [
       "<Figure size 640x480 with 1 Axes>"
      ]
     },
     "metadata": {},
     "output_type": "display_data"
    }
   ],
   "source": [
    "sns.histplot(data=merged_df, x='gb_used', hue='plan', multiple='stack', edgecolor='white',palette=custom_palette, bins=20)\n",
    "plt.title('Distribution of Monthly GB Usage by Plan')\n",
    "plt.xlabel('Total Amount of GB Used')\n",
    "plt.ylabel('Number of Users')\n",
    "plt.show()"
   ]
  },
  {
   "cell_type": "markdown",
   "metadata": {},
   "source": [
    "More ultimate users are using significantly more data than surf users monthly. "
   ]
  },
  {
   "cell_type": "markdown",
   "metadata": {},
   "source": [
    "Calculating the mean and the variance of the monthly internet usage:"
   ]
  },
  {
   "cell_type": "code",
   "execution_count": 39,
   "metadata": {},
   "outputs": [
    {
     "data": {
      "text/html": [
       "<div>\n",
       "<style scoped>\n",
       "    .dataframe tbody tr th:only-of-type {\n",
       "        vertical-align: middle;\n",
       "    }\n",
       "\n",
       "    .dataframe tbody tr th {\n",
       "        vertical-align: top;\n",
       "    }\n",
       "\n",
       "    .dataframe thead th {\n",
       "        text-align: right;\n",
       "    }\n",
       "</style>\n",
       "<table border=\"1\" class=\"dataframe\">\n",
       "  <thead>\n",
       "    <tr style=\"text-align: right;\">\n",
       "      <th></th>\n",
       "      <th>plan</th>\n",
       "      <th>mean</th>\n",
       "      <th>var</th>\n",
       "      <th>std</th>\n",
       "    </tr>\n",
       "  </thead>\n",
       "  <tbody>\n",
       "    <tr>\n",
       "      <th>0</th>\n",
       "      <td>surf</td>\n",
       "      <td>16.670693</td>\n",
       "      <td>61.58360</td>\n",
       "      <td>7.847522</td>\n",
       "    </tr>\n",
       "    <tr>\n",
       "      <th>1</th>\n",
       "      <td>ultimate</td>\n",
       "      <td>17.306944</td>\n",
       "      <td>58.83055</td>\n",
       "      <td>7.670108</td>\n",
       "    </tr>\n",
       "  </tbody>\n",
       "</table>\n",
       "</div>"
      ],
      "text/plain": [
       "       plan       mean       var       std\n",
       "0      surf  16.670693  61.58360  7.847522\n",
       "1  ultimate  17.306944  58.83055  7.670108"
      ]
     },
     "execution_count": 39,
     "metadata": {},
     "output_type": "execute_result"
    }
   ],
   "source": [
    "mean_variance_internet_usage= merged_df.groupby('plan')['gb_used'].agg(['mean', 'var', 'std']).reset_index()\n",
    "mean_variance_internet_usage"
   ]
  },
  {
   "cell_type": "markdown",
   "metadata": {},
   "source": [
    "The mean and variance for internet usage between the two plans were similar, but ultimate users still showed a slightly higher average, indicating heavier data users."
   ]
  },
  {
   "cell_type": "markdown",
   "metadata": {},
   "source": [
    "Visualizing the distribution of the users internet usage per month:"
   ]
  },
  {
   "cell_type": "code",
   "execution_count": 40,
   "metadata": {},
   "outputs": [
    {
     "data": {
      "image/png": "[encoded data removed]",
      "text/plain": [
       "<Figure size 640x480 with 1 Axes>"
      ]
     },
     "metadata": {},
     "output_type": "display_data"
    }
   ],
   "source": [
    "sns.boxplot(data=merged_df, x='plan', y='gb_used',palette=custom_palette)\n",
    "plt.title('Distribution of Monthly Total Internet Usage by Plan')\n",
    "plt.xlabel('Plan')\n",
    "plt.ylabel('Total GB Used')\n",
    "plt.show()"
   ]
  },
  {
   "cell_type": "markdown",
   "metadata": {},
   "source": [
    "Overall the ultimate plan users do tend to use more GB per month. "
   ]
  },
  {
   "cell_type": "markdown",
   "metadata": {},
   "source": [
    "## Revenue"
   ]
  },
  {
   "cell_type": "code",
   "execution_count": 41,
   "metadata": {},
   "outputs": [
    {
     "data": {
      "image/png": "[encoded data removed]",
      "text/plain": [
       "<Figure size 640x480 with 1 Axes>"
      ]
     },
     "metadata": {},
     "output_type": "display_data"
    }
   ],
   "source": [
    "ultimate_revenue = merged_df.loc[merged_df['plan'] == 'ultimate', 'monthly_revenue']\n",
    "surf_revenue = merged_df.loc[merged_df['plan'] == 'surf', 'monthly_revenue']\n",
    "avg_revenue = merged_df.groupby('plan')['monthly_revenue'].mean().reset_index()\n",
    "plt.figure\n",
    "sns.barplot(data=avg_revenue, x='plan', y='monthly_revenue',palette=custom_palette)\n",
    "plt.title('Average Monthly Revenue by Plan')\n",
    "plt.xlabel('Plan')\n",
    "plt.ylabel('Average Monthly Revenue (Dollars)')\n",
    "plt.tight_layout()\n",
    "plt.show()"
   ]
  },
  {
   "cell_type": "code",
   "execution_count": 42,
   "metadata": {},
   "outputs": [
    {
     "data": {
      "image/png": "[encoded data removed]",
      "text/plain": [
       "<Figure size 640x480 with 1 Axes>"
      ]
     },
     "metadata": {},
     "output_type": "display_data"
    }
   ],
   "source": [
    "sns.boxplot(data=merged_df, x='plan', y='monthly_revenue',palette=custom_palette)\n",
    "plt.title('Distribution of Monthly Total Revenue by Plan')\n",
    "plt.xlabel('Plan')\n",
    "plt.ylabel('Total Revenue')\n",
    "plt.show()"
   ]
  },
  {
   "cell_type": "code",
   "execution_count": 43,
   "metadata": {},
   "outputs": [
    {
     "data": {
      "text/plain": [
       "array([ 70.  ,  20.  ,  90.09,  60.  , 158.12,  80.  , 110.  , 150.  ,\n",
       "        90.  ,  40.  ,  84.  , 110.03, 244.62, 110.72, 163.51,  71.02,\n",
       "        69.69, 181.4 , 116.93,  88.28, 107.2 , 126.42, 117.68,  74.68,\n",
       "        30.96,  41.59,  25.94,  74.11,  43.03,  46.33,  38.84,  50.54,\n",
       "       144.47, 160.11,  24.08, 152.34, 100.  ,  83.93,  20.3 ,  62.22,\n",
       "        52.55,  21.92,  30.  , 112.  , 119.  ,  91.  , 126.  , 140.  ,\n",
       "       182.  , 154.  ,  27.89,  55.76,  24.14,  83.96,  34.29, 168.  ,\n",
       "        77.  , 122.01,  43.69,  90.3 , 120.21, 120.66, 132.28, 120.  ,\n",
       "        24.32,  20.06, 167.48,  70.33,  50.  ,  20.54,  30.87,  21.32,\n",
       "        20.72,  70.66,  21.35,  30.84, 105.  ,  21.98,  24.38, 135.22,\n",
       "       116.27,  62.85, 129.81,  93.96,  41.89,  54.32,  20.84,  46.69,\n",
       "        73.78,  80.42,  50.3 ,  72.46,  20.63,  21.26, 143.9 , 143.42,\n",
       "       200.  , 210.  ,  20.93,  20.42,  20.03, 123.18, 102.85,  83.27,\n",
       "        82.67,  32.46,  90.86,  55.49,  47.59,  26.09,  31.19,  26.15,\n",
       "        54.95,  21.47,  75.4 ,  23.51,  53.15,  64.11,  97.23,  50.81,\n",
       "        93.11, 157.53,  93.42, 163.86, 117.17,  26.33,  45.85,  83.72,\n",
       "        69.36,  50.03, 162.97, 185.49, 181.17, 161.44,  86.84,  80.36,\n",
       "        70.45,  26.57,  31.32,  40.42,  90.69,  40.93,  20.6 ,  20.48,\n",
       "        21.68,  20.45,  21.05,  31.46,  32.75,  60.18,  63.09, 112.79,\n",
       "       150.12, 121.86,  92.07,  22.16,  70.69,  23.06,  71.44, 120.27,\n",
       "       110.69,  31.71,  50.87,  87.98,  25.34,  37.92, 145.73,  59.51,\n",
       "        73.56,  42.27,  21.65,  22.34,  22.49, 150.09,  60.15,  50.09,\n",
       "       160.03, 201.83,  61.56,  93.6 , 126.48, 100.63,  98.  , 130.  ,\n",
       "        82.01,  23.75,  51.62,  80.21,  90.27,  60.9 ,  61.47,  40.18,\n",
       "       119.12,  82.31,  26.75,  51.07,  28.58,  45.37,  30.2 ,  47.07,\n",
       "        49.18,  61.07,  40.84,  40.75,  40.72, 110.63,  70.42,  60.33,\n",
       "        71.08,  51.77, 167.77, 224.23, 238.61, 214.4 , 231.92, 245.07,\n",
       "       129.24, 143.59,  54.08,  20.15,  22.94,  20.21,  80.33,  45.04,\n",
       "        26.6 ,  44.17,  37.23,  25.46,  62.46,  29.06,  44.77,  23.9 ,\n",
       "       110.06,  92.88, 100.96,  54.35,  20.9 ,  20.24,  41.77,  33.03,\n",
       "       104.26,  25.4 , 125.46, 100.81, 103.06,  22.91,  22.43,  34.26,\n",
       "        24.02,  23.42,  61.85, 121.85, 156.36, 121.28, 196.42, 222.55,\n",
       "       124.71, 118.34,  20.12,  94.56,  75.82, 102.19, 122.91,  46.36,\n",
       "        94.23,  50.99,  25.28, 106.09,  46.54,  43.27, 151.77, 130.78,\n",
       "        42.82,  24.23,  46.3 ,  32.73,  64.2 ,  43.45,  50.36,  57.02,\n",
       "        84.29,  22.04,  83.78, 133.78,  41.95,  90.63,  34.68,  46.39,\n",
       "        82.76,  90.06,  22.37,  23.36,  30.24,  70.15,  60.21,  27.71,\n",
       "        55.46,  28.82,  58.64,  33.15, 140.45, 223.81, 160.  , 250.  ,\n",
       "        52.13,  23.  ,  51.92,  45.13,  60.45,  30.15, 186.9 ,  58.91,\n",
       "        26.99, 105.46,  21.8 ,  21.44,  60.12, 193.35, 227.23, 231.45,\n",
       "        80.84, 104.5 ,  52.31,  23.45, 146.36,  55.73,  74.17, 112.1 ,\n",
       "        82.07,  74.02,  61.74, 115.97,  50.78,  75.16,  53.54,  24.11,\n",
       "       114.05,  77.29,  74.47,  85.7 , 111.77, 121.38,  32.37,  34.05,\n",
       "        30.66,  55.34,  54.41, 100.42,  44.53, 230.28, 377.85, 201.36,\n",
       "       310.82, 215.57, 298.57,  27.08,  23.27,  22.46,  20.36,  55.54,\n",
       "       102.7 , 213.42,  81.11, 164.56,  51.5 ,  82.91,  51.86,  82.85,\n",
       "        83.15,  41.8 ,  83.12,  37.35,  23.18,  22.7 ,  23.33,  77.41,\n",
       "        34.23,  50.15,  50.12,  80.99, 120.39,  43.81,  53.24,  31.86,\n",
       "        42.37,  30.21,  24.29,  36.99,  43.12,  81.65,  62.73,  82.1 ,\n",
       "       272.55, 133.51, 231.95, 240.  , 260.63, 164.77, 190.  , 284.14,\n",
       "       108.73,  95.34, 107.14, 134.86,  49.72,  77.08, 127.2 ,  86.21,\n",
       "        42.7 ,  53.45,  25.76,  23.24,  27.2 ,  24.35,  91.83, 186.81,\n",
       "       137.74,  93.95,  20.27,  21.23,  42.13,  21.74,  35.13,  84.26,\n",
       "        85.43,  20.51,  23.78, 380.  , 330.  , 192.25, 273.51, 173.12,\n",
       "       164.89, 174.77,  43.54,  70.36,  53.57,  54.29,  41.23,  23.54,\n",
       "       151.2 , 100.54,  31.08,  33.93, 121.02,  36.39,  52.22,  91.92,\n",
       "        75.76,  24.2 ,  40.33,  70.3 , 110.33,  70.27,  70.48, 120.6 ,\n",
       "        91.28,  31.1 , 101.4 , 101.82,  31.85, 139.99,  84.4 ,  47.52,\n",
       "        51.89, 112.43,  20.57,  38.39,  67.61,  88.21,  86.59,  38.63,\n",
       "       107.67,  99.14,  76.1 ,  49.26,  36.5 ,  30.92,  31.67,  36.2 ,\n",
       "        37.64, 121.95,  62.58, 182.87, 123.26, 245.51,  85.67,  97.83,\n",
       "       162.78, 171.91, 114.73,  41.14,  41.47,  31.05,  71.11,  38.85,\n",
       "        36.65,  51.83,  64.4 ,  70.92,  30.08, 109.24,  75.63,  36.98,\n",
       "        61.2 ,  82.46,  31.5 ,  43.75,  41.17,  31.47, 114.25,  42.57,\n",
       "        23.24,  82.4 ,  67.68,  58.49,  46.42,  52.97,  34.35,  20.78,\n",
       "        21.2 ,  21.08,  21.11,  24.65, 106.45, 115.82,  31.62, 122.61,\n",
       "        42.52,  81.95,  22.82,  28.55, 116.09,  24.86,  73.69,  24.8 ,\n",
       "        71.68,  61.17,  50.84, 170.  , 130.15, 120.96, 119.42,  40.15,\n",
       "        29.57,  48.91,  33.8 ,  25.43,  23.69,  26.78,  24.95,  37.52,\n",
       "        38.15,  38.93,  41.81,  37.97,  45.71,  74.53,  64.68,  75.55,\n",
       "       231.86, 170.51, 220.48, 200.39, 240.63,  90.33, 170.9 , 120.9 ,\n",
       "       170.99,  62.37, 590.37,  20.39, 125.28, 113.9 ,  83.63,  23.6 ,\n",
       "        21.41,  21.38, 100.39,  80.3 ,  64.62,  90.36, 120.09,  60.3 ,\n",
       "        40.36,  30.8 ,  31.64,  49.06, 123.35,  89.  ,  89.9 ,  53.69,\n",
       "        20.87,  23.03,  52.28,  90.84,  53.78, 115.04,  81.59,  40.78,\n",
       "        20.66,  42.73,  21.62, 121.98, 170.12,  52.61,  51.47, 100.99,\n",
       "       220.  , 230.  , 280.  ,  72.87,  40.51,  61.11,  43.6 ,  74.5 ,\n",
       "        92.28, 115.1 ,  50.33,  77.32,  80.15,  50.57,  66.42,  45.28,\n",
       "        95.94, 105.97,  71.86,  28.61, 148.16,  40.09, 120.12,  60.09,\n",
       "       270.54, 243.39,  21.53,  63.87, 180.  ,  24.44,  23.63,  25.13,\n",
       "        22.4 ,  22.85,  27.14,  25.85,  23.3 ,  64.83,  22.22,  37.88,\n",
       "        25.37,  20.99,  76.3 , 143.78, 105.64,  64.17,  68.85,  76.63,\n",
       "        21.56,  51.23, 133.  ,  22.58,  23.48,  50.27, 143.3 , 120.42,\n",
       "       170.27, 531.41,  20.18, 240.78, 181.14, 290.36, 180.18,  40.66,\n",
       "        20.33])"
      ]
     },
     "execution_count": 43,
     "metadata": {},
     "output_type": "execute_result"
    }
   ],
   "source": [
    "merged_df['monthly_revenue'].unique()"
   ]
  },
  {
   "cell_type": "code",
   "execution_count": 44,
   "metadata": {
    "scrolled": true
   },
   "outputs": [],
   "source": [
    "ultimate_revenue = merged_df.loc[merged_df['plan'] == 'ultimate', 'monthly_revenue']\n",
    "surf_revenue = merged_df.loc[merged_df['plan'] == 'surf', 'monthly_revenue']"
   ]
  },
  {
   "cell_type": "code",
   "execution_count": 45,
   "metadata": {},
   "outputs": [
    {
     "data": {
      "text/html": [
       "<div>\n",
       "<style scoped>\n",
       "    .dataframe tbody tr th:only-of-type {\n",
       "        vertical-align: middle;\n",
       "    }\n",
       "\n",
       "    .dataframe tbody tr th {\n",
       "        vertical-align: top;\n",
       "    }\n",
       "\n",
       "    .dataframe thead th {\n",
       "        text-align: right;\n",
       "    }\n",
       "</style>\n",
       "<table border=\"1\" class=\"dataframe\">\n",
       "  <thead>\n",
       "    <tr style=\"text-align: right;\">\n",
       "      <th></th>\n",
       "      <th>plan</th>\n",
       "      <th>mean</th>\n",
       "      <th>var</th>\n",
       "      <th>std</th>\n",
       "    </tr>\n",
       "  </thead>\n",
       "  <tbody>\n",
       "    <tr>\n",
       "      <th>0</th>\n",
       "      <td>surf</td>\n",
       "      <td>60.706408</td>\n",
       "      <td>3067.835152</td>\n",
       "      <td>55.388042</td>\n",
       "    </tr>\n",
       "    <tr>\n",
       "      <th>1</th>\n",
       "      <td>ultimate</td>\n",
       "      <td>72.313889</td>\n",
       "      <td>129.848486</td>\n",
       "      <td>11.395108</td>\n",
       "    </tr>\n",
       "  </tbody>\n",
       "</table>\n",
       "</div>"
      ],
      "text/plain": [
       "       plan       mean          var        std\n",
       "0      surf  60.706408  3067.835152  55.388042\n",
       "1  ultimate  72.313889   129.848486  11.395108"
      ]
     },
     "execution_count": 45,
     "metadata": {},
     "output_type": "execute_result"
    }
   ],
   "source": [
    "mean_variance_revenue= merged_df.groupby('plan')['monthly_revenue'].agg(['mean', 'var', 'std']).reset_index()\n",
    "mean_variance_revenue"
   ]
  },
  {
   "cell_type": "markdown",
   "metadata": {},
   "source": [
    "The ultimate plan generated more average monthly revenue compared to the surf plan. The variance in revenue for surf users was also significantly higher, suggesting greater variability in spending among surf users."
   ]
  },
  {
   "cell_type": "markdown",
   "metadata": {},
   "source": [
    " "
   ]
  },
  {
   "cell_type": "markdown",
   "metadata": {},
   "source": [
    "## Test statistical hypotheses"
   ]
  },
  {
   "cell_type": "markdown",
   "metadata": {},
   "source": [
    "Does the average revenue from users of the Ultimate and Surf plans differ?"
   ]
  },
  {
   "cell_type": "markdown",
   "metadata": {},
   "source": [
    "Using a two-sample t-test to compare average revenues of the Ultimate and Surf plans. The null hypothesis (H0) states there is no significant difference between the average revenues, while the alternative hypothesis (H1) suggests there is a significant difference, without specifying the direction. The t-test assumes normal data distribution and independent samples. A significance level of 0.05 was chosen, representing a 5% chance of incorrectly rejecting H0, which balances reliability and risk of error."
   ]
  },
  {
   "cell_type": "code",
   "execution_count": 46,
   "metadata": {},
   "outputs": [
    {
     "name": "stdout",
     "output_type": "stream",
     "text": [
      "T-statistic: 7.952094891333888\n",
      "P-value: 3.1703905481135734e-15\n",
      "Reject the null hypothesis - there is a significant difference in average revenue between Ultimate and Surf plans.\n"
     ]
    }
   ],
   "source": [
    "t_stat, p_value = st.ttest_ind(ultimate_revenue, surf_revenue, equal_var=False)\n",
    "\n",
    "print(f\"T-statistic: {t_stat}\")\n",
    "print(f\"P-value: {p_value}\")\n",
    "\n",
    "alpha = 0.05\n",
    "if p_value < alpha:\n",
    "    print(\"Reject the null hypothesis - there is a significant difference in average revenue between Ultimate and Surf plans.\")\n",
    "else:\n",
    "    print(\"Fail to reject the null hypothesis - there is no significant difference in average revenue between Ultimate and Surf plans.\")"
   ]
  },
  {
   "cell_type": "markdown",
   "metadata": {},
   "source": [
    "Average revenue from users in the NY-NJ area is different from that of the users from the other regions?"
   ]
  },
  {
   "cell_type": "markdown",
   "metadata": {},
   "source": [
    "Using a two-sample t-test below to compare the average revenue between users from the NY-NJ region and users from other regions. The null hypothesis (H0) states that there is no significant difference in average revenue between the two groups, while the alternative hypothesis (H1) suggests there is a difference. This t-test is appropriate because we have two independent groups. A significance level of 0.05 was chosen, representing a 5% risk of incorrectly rejecting H0, balancing reliability and the risk of error."
   ]
  },
  {
   "cell_type": "code",
   "execution_count": 47,
   "metadata": {},
   "outputs": [
    {
     "name": "stdout",
     "output_type": "stream",
     "text": [
      "T-statistic: -2.1309454999502133\n",
      "P-value: 0.0335256158853001\n",
      "Reject the null hypothesis - there is a significant difference in average revenue between NY-NJ and other regions.\n"
     ]
    }
   ],
   "source": [
    "ny_nj_revenue = merged_df.loc[merged_df['city'].str.contains('NY-NJ', na=False), 'monthly_revenue'].dropna()\n",
    "other_region_revenue = merged_df.loc[~merged_df['city'].str.contains('NY-NJ', na=False), 'monthly_revenue'].dropna()\n",
    "\n",
    "t_stat, p_value = st.ttest_ind(ny_nj_revenue, other_region_revenue, equal_var=False)\n",
    "\n",
    "print(f\"T-statistic: {t_stat}\")\n",
    "print(f\"P-value: {p_value}\")\n",
    "\n",
    "alpha = 0.05\n",
    "if p_value < alpha:\n",
    "    print(\"Reject the null hypothesis - there is a significant difference in average revenue between NY-NJ and other regions.\")\n",
    "else:\n",
    "    print(\"Fail to reject the null hypothesis - there is no significant difference in average revenue between NY-NJ and other regions.\")\n"
   ]
  },
  {
   "cell_type": "markdown",
   "metadata": {},
   "source": [
    "## General conclusion\n"
   ]
  },
  {
   "cell_type": "markdown",
   "metadata": {},
   "source": [
    "In this analysis, we explored user behavior and revenue for the Ultimate and Surf plans. A two-sample t-test showed that Ultimate users generate significantly more revenue than Surf users. We also found a significant difference in revenue between users in the NY-NJ area and other regions, suggesting some regional influence.\n",
    "Ultimate users had higher activity in call minutes, messages, internet usage, and overall revenue, making them more valuable compared to Surf users. There was no significant difference in call usage between the two plans, but Ultimate users sent more messages and used more data, indicating higher engagement.\n",
    "These findings show how different plans and user locations affect revenue. Further research could segment users by age or demographics to uncover more insights. Identifying ways to increase Surf user revenue could also help optimize plans and boost profits.\n",
    "\n",
    "In summary, Ultimate users generate more revenue, both on average and consistently. While call usage was similar, Ultimate users were more engaged in messaging and internet, making them more valuable. These insights suggest opportunities to increase revenue by encouraging higher engagement from Surf users."
   ]
  }
 ],
 "metadata": {
  "ExecuteTimeLog": [
   {
    "duration": 828,
    "start_time": "2021-11-16T09:21:11.304Z"
   },
   {
    "duration": 893,
    "start_time": "2021-11-16T09:21:17.728Z"
   },
   {
    "duration": 1150,
    "start_time": "2021-11-16T09:21:29.568Z"
   },
   {
    "duration": 3,
    "start_time": "2021-11-16T09:24:14.495Z"
   },
   {
    "duration": 120,
    "start_time": "2021-11-16T09:24:46.630Z"
   },
   {
    "duration": 3,
    "start_time": "2021-11-16T09:28:27.882Z"
   },
   {
    "duration": 4,
    "start_time": "2021-11-16T09:29:54.281Z"
   },
   {
    "duration": 3,
    "start_time": "2021-11-16T09:30:45.936Z"
   },
   {
    "duration": 4,
    "start_time": "2021-11-16T09:31:06.300Z"
   },
   {
    "duration": 113,
    "start_time": "2021-11-16T09:31:37.208Z"
   },
   {
    "duration": 143,
    "start_time": "2021-11-16T09:31:48.656Z"
   },
   {
    "duration": 98,
    "start_time": "2021-11-16T09:31:55.678Z"
   },
   {
    "duration": 3,
    "start_time": "2021-11-16T09:32:08.535Z"
   },
   {
    "duration": 111,
    "start_time": "2021-11-16T09:32:10.120Z"
   },
   {
    "duration": 3,
    "start_time": "2021-11-16T09:32:15.732Z"
   },
   {
    "duration": 4,
    "start_time": "2021-11-16T09:32:29.423Z"
   },
   {
    "duration": 3,
    "start_time": "2021-11-16T10:03:03.074Z"
   },
   {
    "duration": 3,
    "start_time": "2021-11-16T10:10:01.288Z"
   },
   {
    "duration": 3,
    "start_time": "2021-11-16T10:10:46.923Z"
   },
   {
    "duration": 121,
    "start_time": "2021-11-16T10:37:46.494Z"
   },
   {
    "duration": 125,
    "start_time": "2021-11-16T10:38:20.632Z"
   },
   {
    "duration": 112,
    "start_time": "2021-11-16T10:46:53.001Z"
   },
   {
    "duration": 110,
    "start_time": "2021-11-16T10:48:25.775Z"
   },
   {
    "duration": 3,
    "start_time": "2021-11-16T10:50:18.720Z"
   },
   {
    "duration": 4,
    "start_time": "2021-11-16T10:50:37.649Z"
   },
   {
    "duration": 2,
    "start_time": "2021-11-16T10:50:51.884Z"
   },
   {
    "duration": 3,
    "start_time": "2021-11-16T10:51:56.237Z"
   },
   {
    "duration": 101,
    "start_time": "2021-11-16T10:53:13.791Z"
   },
   {
    "duration": 3,
    "start_time": "2021-11-16T10:55:59.186Z"
   },
   {
    "duration": 3,
    "start_time": "2021-11-16T10:56:10.751Z"
   },
   {
    "duration": 3,
    "start_time": "2021-11-16T10:56:49.038Z"
   },
   {
    "duration": 3,
    "start_time": "2021-11-16T10:56:49.174Z"
   },
   {
    "duration": 4,
    "start_time": "2021-11-16T10:56:49.414Z"
   },
   {
    "duration": 3,
    "start_time": "2021-11-16T10:56:49.680Z"
   },
   {
    "duration": 3,
    "start_time": "2021-11-16T10:56:50.370Z"
   },
   {
    "duration": 114,
    "start_time": "2021-11-16T10:59:34.518Z"
   },
   {
    "duration": 3,
    "start_time": "2021-11-16T11:01:41.201Z"
   },
   {
    "duration": 116,
    "start_time": "2021-11-16T11:01:48.754Z"
   },
   {
    "duration": 3,
    "start_time": "2021-11-16T11:02:16.685Z"
   },
   {
    "duration": 3,
    "start_time": "2021-11-16T11:02:19.479Z"
   },
   {
    "duration": 3,
    "start_time": "2021-11-16T11:02:47.067Z"
   },
   {
    "duration": 3,
    "start_time": "2021-11-16T11:02:49.353Z"
   },
   {
    "duration": 3,
    "start_time": "2021-11-16T11:03:07.835Z"
   },
   {
    "duration": 3,
    "start_time": "2021-11-16T11:03:07.953Z"
   },
   {
    "duration": 112,
    "start_time": "2021-11-16T11:07:52.072Z"
   },
   {
    "duration": 187,
    "start_time": "2021-11-16T11:09:23.468Z"
   },
   {
    "duration": 4,
    "start_time": "2021-11-16T11:10:01.455Z"
   },
   {
    "duration": 3,
    "start_time": "2021-11-16T11:10:05.069Z"
   },
   {
    "duration": 4,
    "start_time": "2021-11-16T11:10:13.376Z"
   },
   {
    "duration": 3,
    "start_time": "2021-11-16T11:10:14.434Z"
   },
   {
    "duration": 3,
    "start_time": "2021-11-16T11:10:22.853Z"
   },
   {
    "duration": 4,
    "start_time": "2021-11-16T11:27:29.279Z"
   },
   {
    "duration": 4,
    "start_time": "2021-11-16T11:29:08.919Z"
   },
   {
    "duration": 118,
    "start_time": "2021-11-16T11:29:46.703Z"
   },
   {
    "duration": 437,
    "start_time": "2021-11-16T11:36:02.181Z"
   },
   {
    "duration": 157,
    "start_time": "2021-11-16T11:36:14.388Z"
   },
   {
    "duration": 207,
    "start_time": "2021-11-16T11:47:15.898Z"
   },
   {
    "duration": 3,
    "start_time": "2021-11-16T11:53:52.092Z"
   },
   {
    "duration": 3,
    "start_time": "2021-11-16T11:53:52.236Z"
   },
   {
    "duration": 3,
    "start_time": "2021-11-16T11:59:12.005Z"
   },
   {
    "duration": 112,
    "start_time": "2021-11-16T12:00:33.446Z"
   },
   {
    "duration": 3,
    "start_time": "2021-11-16T12:02:14.453Z"
   },
   {
    "duration": 3,
    "start_time": "2021-11-16T12:02:39.512Z"
   },
   {
    "duration": 106,
    "start_time": "2021-11-16T12:03:03.460Z"
   },
   {
    "duration": 3,
    "start_time": "2021-11-17T20:37:21.139Z"
   },
   {
    "duration": 3,
    "start_time": "2021-11-17T20:37:22.229Z"
   },
   {
    "duration": 3,
    "start_time": "2021-11-17T20:38:38.806Z"
   },
   {
    "duration": 3,
    "start_time": "2021-11-17T20:38:41.958Z"
   },
   {
    "duration": 3,
    "start_time": "2021-11-17T20:43:46.551Z"
   },
   {
    "duration": 4,
    "start_time": "2021-11-17T20:58:21.835Z"
   },
   {
    "duration": 3,
    "start_time": "2021-11-17T20:59:21.872Z"
   },
   {
    "duration": 4,
    "start_time": "2021-11-17T20:59:45.352Z"
   },
   {
    "duration": 4,
    "start_time": "2021-11-17T20:59:49.646Z"
   },
   {
    "duration": 159,
    "start_time": "2021-11-17T21:02:26.949Z"
   },
   {
    "duration": 3,
    "start_time": "2021-11-17T21:03:53.461Z"
   },
   {
    "duration": 3,
    "start_time": "2021-11-17T21:03:53.694Z"
   },
   {
    "duration": 3,
    "start_time": "2021-11-17T21:05:28.145Z"
   },
   {
    "duration": 116,
    "start_time": "2021-11-17T21:05:57.787Z"
   },
   {
    "duration": 3,
    "start_time": "2021-11-17T21:06:37.993Z"
   },
   {
    "duration": 3,
    "start_time": "2021-11-17T21:06:38.261Z"
   },
   {
    "duration": 3,
    "start_time": "2021-11-17T21:11:54.358Z"
   },
   {
    "duration": 3,
    "start_time": "2021-11-17T21:12:43.846Z"
   },
   {
    "duration": 4,
    "start_time": "2021-11-17T21:13:08.773Z"
   },
   {
    "duration": 3,
    "start_time": "2021-11-17T21:14:44.441Z"
   },
   {
    "duration": 3,
    "start_time": "2021-11-17T21:15:42.059Z"
   },
   {
    "duration": 4,
    "start_time": "2021-11-17T21:15:51.995Z"
   },
   {
    "duration": 3,
    "start_time": "2021-11-17T21:15:53.923Z"
   },
   {
    "duration": 3,
    "start_time": "2021-11-17T21:15:55.282Z"
   },
   {
    "duration": 3,
    "start_time": "2021-11-17T21:16:28.492Z"
   },
   {
    "duration": 3,
    "start_time": "2021-11-17T21:16:32.603Z"
   },
   {
    "duration": 3,
    "start_time": "2021-11-17T21:17:06.941Z"
   },
   {
    "duration": 98,
    "start_time": "2021-11-17T21:18:05.733Z"
   },
   {
    "duration": 4,
    "start_time": "2021-11-17T21:21:35.255Z"
   },
   {
    "duration": 3,
    "start_time": "2021-11-17T21:21:37.804Z"
   },
   {
    "duration": 4,
    "start_time": "2021-11-17T21:23:06.071Z"
   },
   {
    "duration": 3,
    "start_time": "2021-11-17T21:23:24.799Z"
   },
   {
    "duration": 3,
    "start_time": "2021-11-17T21:23:32.591Z"
   },
   {
    "duration": 98,
    "start_time": "2021-11-17T21:28:31.559Z"
   },
   {
    "duration": 3,
    "start_time": "2021-11-17T21:28:45.448Z"
   },
   {
    "duration": 3,
    "start_time": "2021-11-17T21:29:17.303Z"
   },
   {
    "duration": 3,
    "start_time": "2021-11-17T21:29:29.617Z"
   },
   {
    "duration": 3,
    "start_time": "2021-11-17T21:29:32.681Z"
   },
   {
    "duration": 3,
    "start_time": "2021-11-17T21:36:11.474Z"
   },
   {
    "duration": 3,
    "start_time": "2021-11-17T21:36:14.791Z"
   },
   {
    "duration": 3,
    "start_time": "2021-11-17T21:36:53.943Z"
   },
   {
    "duration": 3,
    "start_time": "2021-11-17T21:36:56.165Z"
   },
   {
    "duration": 4,
    "start_time": "2021-11-17T21:37:16.590Z"
   },
   {
    "duration": 3,
    "start_time": "2021-11-17T21:37:22.702Z"
   },
   {
    "duration": 4,
    "start_time": "2021-11-17T21:38:03.479Z"
   },
   {
    "duration": 3,
    "start_time": "2021-11-17T21:38:08.601Z"
   },
   {
    "duration": 3,
    "start_time": "2021-11-17T21:38:12.928Z"
   },
   {
    "duration": 3,
    "start_time": "2021-11-17T21:38:48.896Z"
   },
   {
    "duration": 2,
    "start_time": "2021-11-17T21:38:49.171Z"
   },
   {
    "duration": 4,
    "start_time": "2021-11-17T21:39:57.889Z"
   },
   {
    "duration": 3,
    "start_time": "2021-11-17T21:39:58.057Z"
   },
   {
    "duration": 3,
    "start_time": "2021-11-17T21:41:20.108Z"
   },
   {
    "duration": 3,
    "start_time": "2021-11-17T21:41:20.629Z"
   },
   {
    "duration": 3,
    "start_time": "2021-11-17T21:42:49.136Z"
   },
   {
    "duration": 3,
    "start_time": "2021-11-17T21:43:15.137Z"
   },
   {
    "duration": 4,
    "start_time": "2021-11-17T21:43:16.766Z"
   },
   {
    "duration": 4,
    "start_time": "2021-11-17T21:43:31.711Z"
   },
   {
    "duration": 3,
    "start_time": "2021-11-17T21:43:36.312Z"
   },
   {
    "duration": 4,
    "start_time": "2021-11-17T21:45:08.825Z"
   },
   {
    "duration": 4,
    "start_time": "2021-11-17T21:45:10.119Z"
   },
   {
    "duration": 4,
    "start_time": "2021-11-17T21:45:13.748Z"
   },
   {
    "duration": 3,
    "start_time": "2021-11-17T21:45:22.219Z"
   },
   {
    "duration": 3,
    "start_time": "2021-11-17T21:45:33.412Z"
   },
   {
    "duration": 2,
    "start_time": "2021-11-17T21:46:01.885Z"
   },
   {
    "duration": 3,
    "start_time": "2021-11-17T21:46:03.628Z"
   },
   {
    "duration": 107,
    "start_time": "2021-11-17T21:47:32.512Z"
   },
   {
    "duration": 103,
    "start_time": "2021-11-17T21:50:36.243Z"
   },
   {
    "duration": 3,
    "start_time": "2021-11-18T06:28:31.440Z"
   },
   {
    "duration": 3,
    "start_time": "2021-11-18T06:29:00.168Z"
   },
   {
    "duration": 3,
    "start_time": "2021-11-18T06:31:27.008Z"
   },
   {
    "duration": 2,
    "start_time": "2021-11-18T06:35:34.288Z"
   },
   {
    "duration": 2,
    "start_time": "2021-11-18T06:38:04.527Z"
   },
   {
    "duration": 40,
    "start_time": "2024-11-12T16:31:35.616Z"
   },
   {
    "duration": 16,
    "start_time": "2024-11-12T16:31:42.330Z"
   },
   {
    "duration": 8,
    "start_time": "2024-11-12T16:32:34.769Z"
   },
   {
    "duration": 3,
    "start_time": "2024-11-12T16:32:35.022Z"
   },
   {
    "duration": 8,
    "start_time": "2024-11-12T16:32:46.552Z"
   },
   {
    "duration": 5,
    "start_time": "2024-11-12T16:40:35.378Z"
   },
   {
    "duration": 14,
    "start_time": "2024-11-12T16:40:41.866Z"
   },
   {
    "duration": 530,
    "start_time": "2024-11-12T16:41:03.939Z"
   },
   {
    "duration": 3,
    "start_time": "2024-11-12T16:41:31.145Z"
   },
   {
    "duration": 5,
    "start_time": "2024-11-12T16:44:13.435Z"
   },
   {
    "duration": 4,
    "start_time": "2024-11-12T16:45:11.772Z"
   },
   {
    "duration": 10,
    "start_time": "2024-11-12T16:45:27.569Z"
   },
   {
    "duration": 163,
    "start_time": "2024-11-12T16:47:06.934Z"
   },
   {
    "duration": 9,
    "start_time": "2024-11-12T16:47:10.029Z"
   },
   {
    "duration": 7,
    "start_time": "2024-11-12T16:47:11.240Z"
   },
   {
    "duration": 4,
    "start_time": "2024-11-12T16:47:25.226Z"
   },
   {
    "duration": 9,
    "start_time": "2024-11-12T16:51:25.594Z"
   },
   {
    "duration": 8,
    "start_time": "2024-11-12T16:51:34.516Z"
   },
   {
    "duration": 3,
    "start_time": "2024-11-12T16:51:48.770Z"
   },
   {
    "duration": 8,
    "start_time": "2024-11-12T16:53:48.046Z"
   },
   {
    "duration": 5,
    "start_time": "2024-11-12T16:58:45.318Z"
   },
   {
    "duration": 16,
    "start_time": "2024-11-12T17:00:33.216Z"
   },
   {
    "duration": 7,
    "start_time": "2024-11-12T17:00:52.953Z"
   },
   {
    "duration": 5,
    "start_time": "2024-11-12T17:01:06.791Z"
   },
   {
    "duration": 8,
    "start_time": "2024-11-12T17:01:15.062Z"
   },
   {
    "duration": 15,
    "start_time": "2024-11-12T17:03:03.713Z"
   },
   {
    "duration": 14,
    "start_time": "2024-11-12T17:03:11.871Z"
   },
   {
    "duration": 12,
    "start_time": "2024-11-12T17:05:40.500Z"
   },
   {
    "duration": 8,
    "start_time": "2024-11-12T17:05:47.960Z"
   },
   {
    "duration": 10,
    "start_time": "2024-11-12T17:06:29.809Z"
   },
   {
    "duration": 14,
    "start_time": "2024-11-12T17:06:43.445Z"
   },
   {
    "duration": 6,
    "start_time": "2024-11-12T17:06:53.114Z"
   },
   {
    "duration": 12,
    "start_time": "2024-11-12T17:07:28.600Z"
   },
   {
    "duration": 14,
    "start_time": "2024-11-12T17:54:10.102Z"
   },
   {
    "duration": 12,
    "start_time": "2024-11-12T17:54:34.201Z"
   },
   {
    "duration": 5,
    "start_time": "2024-11-12T17:54:56.349Z"
   },
   {
    "duration": 5,
    "start_time": "2024-11-12T17:58:31.097Z"
   },
   {
    "duration": 15,
    "start_time": "2024-11-12T18:02:59.028Z"
   },
   {
    "duration": 15,
    "start_time": "2024-11-12T18:03:07.542Z"
   },
   {
    "duration": 9,
    "start_time": "2024-11-12T18:03:13.985Z"
   },
   {
    "duration": 5,
    "start_time": "2024-11-12T18:03:56.592Z"
   },
   {
    "duration": 9,
    "start_time": "2024-11-12T18:06:19.497Z"
   },
   {
    "duration": 4,
    "start_time": "2024-11-12T18:07:19.799Z"
   },
   {
    "duration": 2275,
    "start_time": "2024-11-12T18:08:37.146Z"
   },
   {
    "duration": 202,
    "start_time": "2024-11-12T18:08:39.423Z"
   },
   {
    "duration": 9,
    "start_time": "2024-11-12T18:08:39.626Z"
   },
   {
    "duration": 7,
    "start_time": "2024-11-12T18:08:39.637Z"
   },
   {
    "duration": 3,
    "start_time": "2024-11-12T18:08:39.647Z"
   },
   {
    "duration": 5,
    "start_time": "2024-11-12T18:08:39.652Z"
   },
   {
    "duration": 8,
    "start_time": "2024-11-12T18:08:39.659Z"
   },
   {
    "duration": 8,
    "start_time": "2024-11-12T18:08:39.668Z"
   },
   {
    "duration": 40,
    "start_time": "2024-11-12T18:08:39.677Z"
   },
   {
    "duration": 15,
    "start_time": "2024-11-12T18:08:39.719Z"
   },
   {
    "duration": 7,
    "start_time": "2024-11-12T18:08:39.736Z"
   },
   {
    "duration": 16,
    "start_time": "2024-11-12T18:08:39.745Z"
   },
   {
    "duration": 14,
    "start_time": "2024-11-12T18:08:39.762Z"
   },
   {
    "duration": 33,
    "start_time": "2024-11-12T18:08:39.780Z"
   },
   {
    "duration": 9,
    "start_time": "2024-11-12T18:08:39.815Z"
   },
   {
    "duration": 14,
    "start_time": "2024-11-12T18:08:39.826Z"
   },
   {
    "duration": 7,
    "start_time": "2024-11-12T18:08:39.841Z"
   },
   {
    "duration": 13,
    "start_time": "2024-11-12T18:08:39.849Z"
   },
   {
    "duration": 2,
    "start_time": "2024-11-12T18:08:39.864Z"
   },
   {
    "duration": 2,
    "start_time": "2024-11-12T18:08:39.868Z"
   },
   {
    "duration": 40,
    "start_time": "2024-11-12T18:08:39.872Z"
   },
   {
    "duration": 2,
    "start_time": "2024-11-12T18:08:39.914Z"
   },
   {
    "duration": 3,
    "start_time": "2024-11-12T18:08:39.917Z"
   },
   {
    "duration": 5,
    "start_time": "2024-11-12T18:08:39.922Z"
   },
   {
    "duration": 2,
    "start_time": "2024-11-12T18:08:39.929Z"
   },
   {
    "duration": 2,
    "start_time": "2024-11-12T18:08:39.933Z"
   },
   {
    "duration": 3,
    "start_time": "2024-11-12T18:08:39.937Z"
   },
   {
    "duration": 3,
    "start_time": "2024-11-12T18:08:39.942Z"
   },
   {
    "duration": 3,
    "start_time": "2024-11-12T18:08:39.947Z"
   },
   {
    "duration": 8,
    "start_time": "2024-11-12T18:08:39.952Z"
   },
   {
    "duration": 2,
    "start_time": "2024-11-12T18:08:39.965Z"
   },
   {
    "duration": 2,
    "start_time": "2024-11-12T18:08:39.969Z"
   },
   {
    "duration": 40,
    "start_time": "2024-11-12T18:08:39.973Z"
   },
   {
    "duration": 2,
    "start_time": "2024-11-12T18:08:40.016Z"
   },
   {
    "duration": 3,
    "start_time": "2024-11-12T18:13:50.758Z"
   },
   {
    "duration": 3,
    "start_time": "2024-11-12T18:15:38.220Z"
   },
   {
    "duration": 6,
    "start_time": "2024-11-12T18:19:40.688Z"
   },
   {
    "duration": 27,
    "start_time": "2024-11-12T18:20:50.092Z"
   },
   {
    "duration": 2,
    "start_time": "2024-11-12T18:23:01.276Z"
   },
   {
    "duration": 165,
    "start_time": "2024-11-12T18:23:01.280Z"
   },
   {
    "duration": 9,
    "start_time": "2024-11-12T18:23:01.447Z"
   },
   {
    "duration": 8,
    "start_time": "2024-11-12T18:23:01.457Z"
   },
   {
    "duration": 3,
    "start_time": "2024-11-12T18:23:01.467Z"
   },
   {
    "duration": 5,
    "start_time": "2024-11-12T18:23:01.472Z"
   },
   {
    "duration": 8,
    "start_time": "2024-11-12T18:23:01.479Z"
   },
   {
    "duration": 25,
    "start_time": "2024-11-12T18:23:01.488Z"
   },
   {
    "duration": 8,
    "start_time": "2024-11-12T18:23:01.514Z"
   },
   {
    "duration": 6,
    "start_time": "2024-11-12T18:23:01.524Z"
   },
   {
    "duration": 16,
    "start_time": "2024-11-12T18:23:01.531Z"
   },
   {
    "duration": 6,
    "start_time": "2024-11-12T18:23:01.549Z"
   },
   {
    "duration": 55,
    "start_time": "2024-11-12T18:23:01.557Z"
   },
   {
    "duration": 26,
    "start_time": "2024-11-12T18:23:01.615Z"
   },
   {
    "duration": 4,
    "start_time": "2024-11-12T18:23:01.643Z"
   },
   {
    "duration": 0,
    "start_time": "2024-11-12T18:23:01.648Z"
   },
   {
    "duration": 0,
    "start_time": "2024-11-12T18:23:01.650Z"
   },
   {
    "duration": 0,
    "start_time": "2024-11-12T18:23:01.651Z"
   },
   {
    "duration": 0,
    "start_time": "2024-11-12T18:23:01.653Z"
   },
   {
    "duration": 0,
    "start_time": "2024-11-12T18:23:01.654Z"
   },
   {
    "duration": 0,
    "start_time": "2024-11-12T18:23:01.656Z"
   },
   {
    "duration": 0,
    "start_time": "2024-11-12T18:23:01.657Z"
   },
   {
    "duration": 0,
    "start_time": "2024-11-12T18:23:01.659Z"
   },
   {
    "duration": 1,
    "start_time": "2024-11-12T18:23:01.660Z"
   },
   {
    "duration": 0,
    "start_time": "2024-11-12T18:23:01.662Z"
   },
   {
    "duration": 0,
    "start_time": "2024-11-12T18:23:01.663Z"
   },
   {
    "duration": 0,
    "start_time": "2024-11-12T18:23:01.665Z"
   },
   {
    "duration": 0,
    "start_time": "2024-11-12T18:23:01.666Z"
   },
   {
    "duration": 0,
    "start_time": "2024-11-12T18:23:01.668Z"
   },
   {
    "duration": 0,
    "start_time": "2024-11-12T18:23:01.669Z"
   },
   {
    "duration": 0,
    "start_time": "2024-11-12T18:23:01.670Z"
   },
   {
    "duration": 0,
    "start_time": "2024-11-12T18:23:01.711Z"
   },
   {
    "duration": 0,
    "start_time": "2024-11-12T18:23:01.713Z"
   },
   {
    "duration": 0,
    "start_time": "2024-11-12T18:23:01.715Z"
   },
   {
    "duration": 0,
    "start_time": "2024-11-12T18:23:01.717Z"
   },
   {
    "duration": 0,
    "start_time": "2024-11-12T18:23:01.718Z"
   },
   {
    "duration": 0,
    "start_time": "2024-11-12T18:23:01.719Z"
   },
   {
    "duration": 12,
    "start_time": "2024-11-12T18:23:12.005Z"
   },
   {
    "duration": 5,
    "start_time": "2024-11-12T18:23:12.019Z"
   },
   {
    "duration": 10,
    "start_time": "2024-11-12T18:23:12.026Z"
   },
   {
    "duration": 14,
    "start_time": "2024-11-12T18:23:12.037Z"
   },
   {
    "duration": 6,
    "start_time": "2024-11-12T18:23:12.053Z"
   },
   {
    "duration": 12,
    "start_time": "2024-11-12T18:23:12.061Z"
   },
   {
    "duration": 39,
    "start_time": "2024-11-12T18:23:12.074Z"
   },
   {
    "duration": 3,
    "start_time": "2024-11-12T18:23:12.115Z"
   },
   {
    "duration": 3,
    "start_time": "2024-11-12T18:23:12.119Z"
   },
   {
    "duration": 2,
    "start_time": "2024-11-12T18:23:12.124Z"
   },
   {
    "duration": 2,
    "start_time": "2024-11-12T18:23:12.128Z"
   },
   {
    "duration": 4,
    "start_time": "2024-11-12T18:23:12.132Z"
   },
   {
    "duration": 2,
    "start_time": "2024-11-12T18:23:12.137Z"
   },
   {
    "duration": 3,
    "start_time": "2024-11-12T18:23:12.142Z"
   },
   {
    "duration": 3,
    "start_time": "2024-11-12T18:23:12.147Z"
   },
   {
    "duration": 3,
    "start_time": "2024-11-12T18:23:12.151Z"
   },
   {
    "duration": 3,
    "start_time": "2024-11-12T18:23:12.155Z"
   },
   {
    "duration": 2,
    "start_time": "2024-11-12T18:23:12.160Z"
   },
   {
    "duration": 3,
    "start_time": "2024-11-12T18:23:12.163Z"
   },
   {
    "duration": 46,
    "start_time": "2024-11-12T18:23:12.167Z"
   },
   {
    "duration": 4,
    "start_time": "2024-11-12T18:23:12.215Z"
   },
   {
    "duration": 3,
    "start_time": "2024-11-12T18:23:12.220Z"
   },
   {
    "duration": 16,
    "start_time": "2024-11-12T18:24:16.711Z"
   },
   {
    "duration": 3,
    "start_time": "2024-11-12T18:26:19.572Z"
   },
   {
    "duration": 156,
    "start_time": "2024-11-12T18:26:19.577Z"
   },
   {
    "duration": 9,
    "start_time": "2024-11-12T18:26:19.735Z"
   },
   {
    "duration": 7,
    "start_time": "2024-11-12T18:26:19.745Z"
   },
   {
    "duration": 3,
    "start_time": "2024-11-12T18:26:19.755Z"
   },
   {
    "duration": 5,
    "start_time": "2024-11-12T18:26:19.760Z"
   },
   {
    "duration": 8,
    "start_time": "2024-11-12T18:26:19.766Z"
   },
   {
    "duration": 37,
    "start_time": "2024-11-12T18:26:19.776Z"
   },
   {
    "duration": 8,
    "start_time": "2024-11-12T18:26:19.814Z"
   },
   {
    "duration": 6,
    "start_time": "2024-11-12T18:26:19.825Z"
   },
   {
    "duration": 16,
    "start_time": "2024-11-12T18:26:19.832Z"
   },
   {
    "duration": 6,
    "start_time": "2024-11-12T18:26:19.850Z"
   },
   {
    "duration": 15,
    "start_time": "2024-11-12T18:26:19.858Z"
   },
   {
    "duration": 29,
    "start_time": "2024-11-12T18:26:19.915Z"
   },
   {
    "duration": 14,
    "start_time": "2024-11-12T18:26:19.949Z"
   },
   {
    "duration": 7,
    "start_time": "2024-11-12T18:26:19.965Z"
   },
   {
    "duration": 11,
    "start_time": "2024-11-12T18:26:19.975Z"
   },
   {
    "duration": 36,
    "start_time": "2024-11-12T18:26:19.988Z"
   },
   {
    "duration": 15,
    "start_time": "2024-11-12T18:26:20.027Z"
   },
   {
    "duration": 9,
    "start_time": "2024-11-12T18:26:20.044Z"
   },
   {
    "duration": 13,
    "start_time": "2024-11-12T18:26:20.054Z"
   },
   {
    "duration": 2,
    "start_time": "2024-11-12T18:26:20.068Z"
   },
   {
    "duration": 2,
    "start_time": "2024-11-12T18:26:20.072Z"
   },
   {
    "duration": 37,
    "start_time": "2024-11-12T18:26:20.076Z"
   },
   {
    "duration": 3,
    "start_time": "2024-11-12T18:26:20.115Z"
   },
   {
    "duration": 2,
    "start_time": "2024-11-12T18:26:20.120Z"
   },
   {
    "duration": 3,
    "start_time": "2024-11-12T18:26:20.124Z"
   },
   {
    "duration": 3,
    "start_time": "2024-11-12T18:26:20.128Z"
   },
   {
    "duration": 3,
    "start_time": "2024-11-12T18:26:20.133Z"
   },
   {
    "duration": 3,
    "start_time": "2024-11-12T18:26:20.138Z"
   },
   {
    "duration": 3,
    "start_time": "2024-11-12T18:26:20.142Z"
   },
   {
    "duration": 2,
    "start_time": "2024-11-12T18:26:20.147Z"
   },
   {
    "duration": 5,
    "start_time": "2024-11-12T18:26:20.151Z"
   },
   {
    "duration": 3,
    "start_time": "2024-11-12T18:26:20.157Z"
   },
   {
    "duration": 3,
    "start_time": "2024-11-12T18:26:20.162Z"
   },
   {
    "duration": 46,
    "start_time": "2024-11-12T18:26:20.167Z"
   },
   {
    "duration": 2,
    "start_time": "2024-11-12T18:26:20.215Z"
   },
   {
    "duration": 5,
    "start_time": "2024-11-12T18:26:49.940Z"
   },
   {
    "duration": 35,
    "start_time": "2024-11-12T18:26:52.667Z"
   },
   {
    "duration": 4,
    "start_time": "2024-11-12T18:35:27.381Z"
   },
   {
    "duration": 3,
    "start_time": "2024-11-12T18:35:42.065Z"
   },
   {
    "duration": 4,
    "start_time": "2024-11-12T18:35:45.451Z"
   },
   {
    "duration": 5,
    "start_time": "2024-11-12T18:35:50.219Z"
   },
   {
    "duration": 3,
    "start_time": "2024-11-12T18:42:20.855Z"
   },
   {
    "duration": 161,
    "start_time": "2024-11-12T18:42:28.733Z"
   },
   {
    "duration": 17,
    "start_time": "2024-11-12T18:49:22.085Z"
   },
   {
    "duration": 11,
    "start_time": "2024-11-12T20:56:33.915Z"
   },
   {
    "duration": 50,
    "start_time": "2024-11-12T20:57:14.669Z"
   },
   {
    "duration": 11,
    "start_time": "2024-11-12T21:00:04.886Z"
   },
   {
    "duration": 20,
    "start_time": "2024-11-12T21:00:10.141Z"
   },
   {
    "duration": 20,
    "start_time": "2024-11-12T21:05:42.781Z"
   },
   {
    "duration": 27,
    "start_time": "2024-11-12T21:07:00.848Z"
   },
   {
    "duration": 20,
    "start_time": "2024-11-12T21:07:51.680Z"
   },
   {
    "duration": 29,
    "start_time": "2024-11-12T21:11:49.539Z"
   },
   {
    "duration": 25,
    "start_time": "2024-11-12T21:11:56.328Z"
   },
   {
    "duration": 508,
    "start_time": "2024-11-12T21:13:58.367Z"
   },
   {
    "duration": 20,
    "start_time": "2024-11-12T21:14:55.886Z"
   },
   {
    "duration": 13,
    "start_time": "2024-11-12T21:15:31.403Z"
   },
   {
    "duration": 19,
    "start_time": "2024-11-12T21:15:41.604Z"
   },
   {
    "duration": 87,
    "start_time": "2024-11-12T21:16:21.402Z"
   },
   {
    "duration": 759,
    "start_time": "2024-11-12T21:16:30.531Z"
   },
   {
    "duration": 3,
    "start_time": "2024-11-12T21:16:44.556Z"
   },
   {
    "duration": 19,
    "start_time": "2024-11-12T21:17:35.314Z"
   },
   {
    "duration": 5,
    "start_time": "2024-11-12T21:17:42.274Z"
   },
   {
    "duration": 14,
    "start_time": "2024-11-12T21:21:28.180Z"
   },
   {
    "duration": 12,
    "start_time": "2024-11-12T21:23:23.516Z"
   },
   {
    "duration": 3,
    "start_time": "2024-11-12T21:23:27.816Z"
   },
   {
    "duration": 163,
    "start_time": "2024-11-12T21:23:27.821Z"
   },
   {
    "duration": 9,
    "start_time": "2024-11-12T21:23:27.986Z"
   },
   {
    "duration": 15,
    "start_time": "2024-11-12T21:23:27.997Z"
   },
   {
    "duration": 7,
    "start_time": "2024-11-12T21:23:28.015Z"
   },
   {
    "duration": 7,
    "start_time": "2024-11-12T21:23:28.025Z"
   },
   {
    "duration": 14,
    "start_time": "2024-11-12T21:23:28.033Z"
   },
   {
    "duration": 10,
    "start_time": "2024-11-12T21:23:28.049Z"
   },
   {
    "duration": 8,
    "start_time": "2024-11-12T21:23:28.060Z"
   },
   {
    "duration": 6,
    "start_time": "2024-11-12T21:23:28.069Z"
   },
   {
    "duration": 48,
    "start_time": "2024-11-12T21:23:28.076Z"
   },
   {
    "duration": 6,
    "start_time": "2024-11-12T21:23:28.126Z"
   },
   {
    "duration": 15,
    "start_time": "2024-11-12T21:23:28.134Z"
   },
   {
    "duration": 27,
    "start_time": "2024-11-12T21:23:28.154Z"
   },
   {
    "duration": 35,
    "start_time": "2024-11-12T21:23:28.183Z"
   },
   {
    "duration": 7,
    "start_time": "2024-11-12T21:23:28.220Z"
   },
   {
    "duration": 11,
    "start_time": "2024-11-12T21:23:28.229Z"
   },
   {
    "duration": 13,
    "start_time": "2024-11-12T21:23:28.242Z"
   },
   {
    "duration": 14,
    "start_time": "2024-11-12T21:23:28.257Z"
   },
   {
    "duration": 7,
    "start_time": "2024-11-12T21:23:28.272Z"
   },
   {
    "duration": 13,
    "start_time": "2024-11-12T21:23:28.312Z"
   },
   {
    "duration": 25,
    "start_time": "2024-11-12T21:23:28.327Z"
   },
   {
    "duration": 15,
    "start_time": "2024-11-12T21:23:28.354Z"
   },
   {
    "duration": 41,
    "start_time": "2024-11-12T21:23:28.371Z"
   },
   {
    "duration": 2,
    "start_time": "2024-11-12T21:23:28.414Z"
   },
   {
    "duration": 4,
    "start_time": "2024-11-12T21:23:28.417Z"
   },
   {
    "duration": 3,
    "start_time": "2024-11-12T21:23:28.422Z"
   },
   {
    "duration": 2,
    "start_time": "2024-11-12T21:23:28.427Z"
   },
   {
    "duration": 2,
    "start_time": "2024-11-12T21:23:28.431Z"
   },
   {
    "duration": 3,
    "start_time": "2024-11-12T21:23:28.435Z"
   },
   {
    "duration": 2,
    "start_time": "2024-11-12T21:23:28.440Z"
   },
   {
    "duration": 3,
    "start_time": "2024-11-12T21:23:28.444Z"
   },
   {
    "duration": 3,
    "start_time": "2024-11-12T21:23:28.448Z"
   },
   {
    "duration": 3,
    "start_time": "2024-11-12T21:23:28.452Z"
   },
   {
    "duration": 2,
    "start_time": "2024-11-12T21:23:28.458Z"
   },
   {
    "duration": 50,
    "start_time": "2024-11-12T21:23:28.462Z"
   },
   {
    "duration": 2,
    "start_time": "2024-11-12T21:23:28.513Z"
   },
   {
    "duration": 10,
    "start_time": "2024-11-12T21:23:58.770Z"
   },
   {
    "duration": 6,
    "start_time": "2024-11-12T21:24:14.321Z"
   },
   {
    "duration": 51,
    "start_time": "2024-11-12T21:27:02.696Z"
   },
   {
    "duration": 51,
    "start_time": "2024-11-12T21:27:12.352Z"
   },
   {
    "duration": 14,
    "start_time": "2024-11-12T21:28:47.390Z"
   },
   {
    "duration": 3,
    "start_time": "2024-11-12T21:28:49.958Z"
   },
   {
    "duration": 157,
    "start_time": "2024-11-12T21:28:49.964Z"
   },
   {
    "duration": 8,
    "start_time": "2024-11-12T21:28:50.123Z"
   },
   {
    "duration": 7,
    "start_time": "2024-11-12T21:28:50.133Z"
   },
   {
    "duration": 4,
    "start_time": "2024-11-12T21:28:50.142Z"
   },
   {
    "duration": 6,
    "start_time": "2024-11-12T21:28:50.147Z"
   },
   {
    "duration": 8,
    "start_time": "2024-11-12T21:28:50.155Z"
   },
   {
    "duration": 8,
    "start_time": "2024-11-12T21:28:50.165Z"
   },
   {
    "duration": 44,
    "start_time": "2024-11-12T21:28:50.174Z"
   },
   {
    "duration": 5,
    "start_time": "2024-11-12T21:28:50.220Z"
   },
   {
    "duration": 16,
    "start_time": "2024-11-12T21:28:50.227Z"
   },
   {
    "duration": 7,
    "start_time": "2024-11-12T21:28:50.245Z"
   },
   {
    "duration": 16,
    "start_time": "2024-11-12T21:28:50.253Z"
   },
   {
    "duration": 57,
    "start_time": "2024-11-12T21:28:50.272Z"
   },
   {
    "duration": 12,
    "start_time": "2024-11-12T21:28:50.331Z"
   },
   {
    "duration": 6,
    "start_time": "2024-11-12T21:28:50.344Z"
   },
   {
    "duration": 15,
    "start_time": "2024-11-12T21:28:50.352Z"
   },
   {
    "duration": 10,
    "start_time": "2024-11-12T21:28:50.368Z"
   },
   {
    "duration": 42,
    "start_time": "2024-11-12T21:28:50.379Z"
   },
   {
    "duration": 7,
    "start_time": "2024-11-12T21:28:50.423Z"
   },
   {
    "duration": 12,
    "start_time": "2024-11-12T21:28:50.432Z"
   },
   {
    "duration": 29,
    "start_time": "2024-11-12T21:28:50.445Z"
   },
   {
    "duration": 46,
    "start_time": "2024-11-12T21:28:50.475Z"
   },
   {
    "duration": 6,
    "start_time": "2024-11-12T21:28:50.523Z"
   },
   {
    "duration": 9,
    "start_time": "2024-11-12T21:28:50.531Z"
   },
   {
    "duration": 2,
    "start_time": "2024-11-12T21:28:50.542Z"
   },
   {
    "duration": 3,
    "start_time": "2024-11-12T21:28:50.546Z"
   },
   {
    "duration": 2,
    "start_time": "2024-11-12T21:28:50.551Z"
   },
   {
    "duration": 3,
    "start_time": "2024-11-12T21:28:50.554Z"
   },
   {
    "duration": 3,
    "start_time": "2024-11-12T21:28:50.558Z"
   },
   {
    "duration": 2,
    "start_time": "2024-11-12T21:28:50.563Z"
   },
   {
    "duration": 2,
    "start_time": "2024-11-12T21:28:50.568Z"
   },
   {
    "duration": 3,
    "start_time": "2024-11-12T21:28:50.611Z"
   },
   {
    "duration": 2,
    "start_time": "2024-11-12T21:28:50.616Z"
   },
   {
    "duration": 3,
    "start_time": "2024-11-12T21:28:50.620Z"
   },
   {
    "duration": 3,
    "start_time": "2024-11-12T21:28:50.624Z"
   },
   {
    "duration": 3,
    "start_time": "2024-11-12T21:28:50.629Z"
   },
   {
    "duration": 7,
    "start_time": "2024-11-12T21:30:26.306Z"
   },
   {
    "duration": 7,
    "start_time": "2024-11-12T21:30:39.886Z"
   },
   {
    "duration": 9,
    "start_time": "2024-11-12T21:33:12.453Z"
   },
   {
    "duration": 5,
    "start_time": "2024-11-12T21:33:43.629Z"
   },
   {
    "duration": 8,
    "start_time": "2024-11-12T21:35:50.986Z"
   },
   {
    "duration": 10,
    "start_time": "2024-11-12T21:37:55.464Z"
   },
   {
    "duration": 14,
    "start_time": "2024-11-12T22:01:12.643Z"
   },
   {
    "duration": 22,
    "start_time": "2024-11-12T22:03:28.571Z"
   },
   {
    "duration": 13,
    "start_time": "2024-11-12T22:04:20.757Z"
   },
   {
    "duration": 57,
    "start_time": "2024-11-12T22:04:40.241Z"
   },
   {
    "duration": 2,
    "start_time": "2024-11-12T22:04:57.301Z"
   },
   {
    "duration": 13,
    "start_time": "2024-11-12T22:05:23.704Z"
   },
   {
    "duration": 13,
    "start_time": "2024-11-12T22:06:39.437Z"
   },
   {
    "duration": 92,
    "start_time": "2024-11-12T22:06:44.375Z"
   },
   {
    "duration": 2,
    "start_time": "2024-11-12T22:08:16.737Z"
   },
   {
    "duration": 9,
    "start_time": "2024-11-15T15:48:59.599Z"
   },
   {
    "duration": 4,
    "start_time": "2024-11-15T15:49:07.179Z"
   },
   {
    "duration": 4,
    "start_time": "2024-11-15T15:50:05.109Z"
   },
   {
    "duration": 155,
    "start_time": "2024-11-15T15:59:29.788Z"
   },
   {
    "duration": 2449,
    "start_time": "2024-11-15T15:59:47.633Z"
   },
   {
    "duration": 205,
    "start_time": "2024-11-15T15:59:50.085Z"
   },
   {
    "duration": 9,
    "start_time": "2024-11-15T15:59:50.292Z"
   },
   {
    "duration": 10,
    "start_time": "2024-11-15T15:59:50.303Z"
   },
   {
    "duration": 4,
    "start_time": "2024-11-15T15:59:50.315Z"
   },
   {
    "duration": 6,
    "start_time": "2024-11-15T15:59:50.321Z"
   },
   {
    "duration": 7,
    "start_time": "2024-11-15T15:59:50.330Z"
   },
   {
    "duration": 8,
    "start_time": "2024-11-15T15:59:50.338Z"
   },
   {
    "duration": 8,
    "start_time": "2024-11-15T15:59:50.347Z"
   },
   {
    "duration": 6,
    "start_time": "2024-11-15T15:59:50.356Z"
   },
   {
    "duration": 15,
    "start_time": "2024-11-15T15:59:50.363Z"
   },
   {
    "duration": 6,
    "start_time": "2024-11-15T15:59:50.379Z"
   },
   {
    "duration": 17,
    "start_time": "2024-11-15T15:59:50.423Z"
   },
   {
    "duration": 29,
    "start_time": "2024-11-15T15:59:50.443Z"
   },
   {
    "duration": 12,
    "start_time": "2024-11-15T15:59:50.473Z"
   },
   {
    "duration": 5,
    "start_time": "2024-11-15T15:59:50.488Z"
   },
   {
    "duration": 41,
    "start_time": "2024-11-15T15:59:50.495Z"
   },
   {
    "duration": 9,
    "start_time": "2024-11-15T15:59:50.538Z"
   },
   {
    "duration": 14,
    "start_time": "2024-11-15T15:59:50.548Z"
   },
   {
    "duration": 7,
    "start_time": "2024-11-15T15:59:50.563Z"
   },
   {
    "duration": 12,
    "start_time": "2024-11-15T15:59:50.571Z"
   },
   {
    "duration": 63,
    "start_time": "2024-11-15T15:59:50.585Z"
   },
   {
    "duration": 20,
    "start_time": "2024-11-15T15:59:50.650Z"
   },
   {
    "duration": 7,
    "start_time": "2024-11-15T15:59:50.672Z"
   },
   {
    "duration": 6,
    "start_time": "2024-11-15T15:59:50.680Z"
   },
   {
    "duration": 4,
    "start_time": "2024-11-15T15:59:50.687Z"
   },
   {
    "duration": 102,
    "start_time": "2024-11-15T15:59:50.693Z"
   },
   {
    "duration": 0,
    "start_time": "2024-11-15T15:59:50.797Z"
   },
   {
    "duration": 0,
    "start_time": "2024-11-15T15:59:50.798Z"
   },
   {
    "duration": 0,
    "start_time": "2024-11-15T15:59:50.799Z"
   },
   {
    "duration": 0,
    "start_time": "2024-11-15T15:59:50.800Z"
   },
   {
    "duration": 0,
    "start_time": "2024-11-15T15:59:50.801Z"
   },
   {
    "duration": 0,
    "start_time": "2024-11-15T15:59:50.802Z"
   },
   {
    "duration": 0,
    "start_time": "2024-11-15T15:59:50.803Z"
   },
   {
    "duration": 0,
    "start_time": "2024-11-15T15:59:50.805Z"
   },
   {
    "duration": 0,
    "start_time": "2024-11-15T15:59:50.807Z"
   },
   {
    "duration": 26,
    "start_time": "2024-11-15T16:01:16.242Z"
   },
   {
    "duration": 21,
    "start_time": "2024-11-15T16:01:29.023Z"
   },
   {
    "duration": 3,
    "start_time": "2024-11-15T16:01:32.722Z"
   },
   {
    "duration": 169,
    "start_time": "2024-11-15T16:01:32.728Z"
   },
   {
    "duration": 8,
    "start_time": "2024-11-15T16:01:32.899Z"
   },
   {
    "duration": 20,
    "start_time": "2024-11-15T16:01:32.909Z"
   },
   {
    "duration": 3,
    "start_time": "2024-11-15T16:01:32.932Z"
   },
   {
    "duration": 6,
    "start_time": "2024-11-15T16:01:32.936Z"
   },
   {
    "duration": 7,
    "start_time": "2024-11-15T16:01:32.944Z"
   },
   {
    "duration": 8,
    "start_time": "2024-11-15T16:01:32.952Z"
   },
   {
    "duration": 8,
    "start_time": "2024-11-15T16:01:32.961Z"
   },
   {
    "duration": 6,
    "start_time": "2024-11-15T16:01:32.970Z"
   },
   {
    "duration": 48,
    "start_time": "2024-11-15T16:01:32.977Z"
   },
   {
    "duration": 6,
    "start_time": "2024-11-15T16:01:33.027Z"
   },
   {
    "duration": 16,
    "start_time": "2024-11-15T16:01:33.035Z"
   },
   {
    "duration": 28,
    "start_time": "2024-11-15T16:01:33.055Z"
   },
   {
    "duration": 12,
    "start_time": "2024-11-15T16:01:33.084Z"
   },
   {
    "duration": 7,
    "start_time": "2024-11-15T16:01:33.123Z"
   },
   {
    "duration": 14,
    "start_time": "2024-11-15T16:01:33.131Z"
   },
   {
    "duration": 8,
    "start_time": "2024-11-15T16:01:33.147Z"
   },
   {
    "duration": 13,
    "start_time": "2024-11-15T16:01:33.157Z"
   },
   {
    "duration": 7,
    "start_time": "2024-11-15T16:01:33.171Z"
   },
   {
    "duration": 45,
    "start_time": "2024-11-15T16:01:33.179Z"
   },
   {
    "duration": 32,
    "start_time": "2024-11-15T16:01:33.226Z"
   },
   {
    "duration": 25,
    "start_time": "2024-11-15T16:01:33.260Z"
   },
   {
    "duration": 5,
    "start_time": "2024-11-15T16:01:33.287Z"
   },
   {
    "duration": 8,
    "start_time": "2024-11-15T16:01:33.294Z"
   },
   {
    "duration": 24,
    "start_time": "2024-11-15T16:01:33.304Z"
   },
   {
    "duration": 22,
    "start_time": "2024-11-15T16:01:33.330Z"
   },
   {
    "duration": 0,
    "start_time": "2024-11-15T16:01:33.354Z"
   },
   {
    "duration": 0,
    "start_time": "2024-11-15T16:01:33.355Z"
   },
   {
    "duration": 0,
    "start_time": "2024-11-15T16:01:33.356Z"
   },
   {
    "duration": 0,
    "start_time": "2024-11-15T16:01:33.357Z"
   },
   {
    "duration": 0,
    "start_time": "2024-11-15T16:01:33.358Z"
   },
   {
    "duration": 0,
    "start_time": "2024-11-15T16:01:33.359Z"
   },
   {
    "duration": 0,
    "start_time": "2024-11-15T16:01:33.360Z"
   },
   {
    "duration": 0,
    "start_time": "2024-11-15T16:01:33.361Z"
   },
   {
    "duration": 0,
    "start_time": "2024-11-15T16:01:33.361Z"
   },
   {
    "duration": 26,
    "start_time": "2024-11-15T16:03:15.233Z"
   },
   {
    "duration": 7,
    "start_time": "2024-11-15T16:03:15.712Z"
   },
   {
    "duration": 4,
    "start_time": "2024-11-15T16:03:15.970Z"
   },
   {
    "duration": 5,
    "start_time": "2024-11-15T16:03:16.277Z"
   },
   {
    "duration": 20,
    "start_time": "2024-11-15T16:03:17.764Z"
   },
   {
    "duration": 15,
    "start_time": "2024-11-15T16:04:32.573Z"
   },
   {
    "duration": 27,
    "start_time": "2024-11-15T16:04:48.362Z"
   },
   {
    "duration": 28,
    "start_time": "2024-11-15T16:04:51.961Z"
   },
   {
    "duration": 13,
    "start_time": "2024-11-15T16:04:52.814Z"
   },
   {
    "duration": 351,
    "start_time": "2024-11-15T16:05:10.335Z"
   },
   {
    "duration": 6,
    "start_time": "2024-11-15T16:05:21.099Z"
   },
   {
    "duration": 11,
    "start_time": "2024-11-15T16:05:23.846Z"
   },
   {
    "duration": 10,
    "start_time": "2024-11-15T16:05:28.412Z"
   },
   {
    "duration": 5,
    "start_time": "2024-11-15T16:07:48.665Z"
   },
   {
    "duration": 21,
    "start_time": "2024-11-15T16:08:00.901Z"
   },
   {
    "duration": 26,
    "start_time": "2024-11-15T16:08:13.380Z"
   },
   {
    "duration": 23,
    "start_time": "2024-11-15T16:10:16.928Z"
   },
   {
    "duration": 5,
    "start_time": "2024-11-15T16:10:17.778Z"
   },
   {
    "duration": 6,
    "start_time": "2024-11-15T16:10:18.236Z"
   },
   {
    "duration": 26,
    "start_time": "2024-11-15T16:10:19.861Z"
   },
   {
    "duration": 3,
    "start_time": "2024-11-15T16:10:31.667Z"
   },
   {
    "duration": 157,
    "start_time": "2024-11-15T16:10:31.673Z"
   },
   {
    "duration": 8,
    "start_time": "2024-11-15T16:10:31.832Z"
   },
   {
    "duration": 7,
    "start_time": "2024-11-15T16:10:31.842Z"
   },
   {
    "duration": 3,
    "start_time": "2024-11-15T16:10:31.852Z"
   },
   {
    "duration": 5,
    "start_time": "2024-11-15T16:10:31.856Z"
   },
   {
    "duration": 8,
    "start_time": "2024-11-15T16:10:31.862Z"
   },
   {
    "duration": 8,
    "start_time": "2024-11-15T16:10:31.871Z"
   },
   {
    "duration": 8,
    "start_time": "2024-11-15T16:10:31.880Z"
   },
   {
    "duration": 38,
    "start_time": "2024-11-15T16:10:31.889Z"
   },
   {
    "duration": 14,
    "start_time": "2024-11-15T16:10:31.931Z"
   },
   {
    "duration": 6,
    "start_time": "2024-11-15T16:10:31.947Z"
   },
   {
    "duration": 16,
    "start_time": "2024-11-15T16:10:31.954Z"
   },
   {
    "duration": 59,
    "start_time": "2024-11-15T16:10:31.971Z"
   },
   {
    "duration": 12,
    "start_time": "2024-11-15T16:10:32.032Z"
   },
   {
    "duration": 6,
    "start_time": "2024-11-15T16:10:32.046Z"
   },
   {
    "duration": 14,
    "start_time": "2024-11-15T16:10:32.054Z"
   },
   {
    "duration": 9,
    "start_time": "2024-11-15T16:10:32.069Z"
   },
   {
    "duration": 13,
    "start_time": "2024-11-15T16:10:32.079Z"
   },
   {
    "duration": 35,
    "start_time": "2024-11-15T16:10:32.094Z"
   },
   {
    "duration": 12,
    "start_time": "2024-11-15T16:10:32.131Z"
   },
   {
    "duration": 35,
    "start_time": "2024-11-15T16:10:32.144Z"
   },
   {
    "duration": 47,
    "start_time": "2024-11-15T16:10:32.180Z"
   },
   {
    "duration": 20,
    "start_time": "2024-11-15T16:10:32.229Z"
   },
   {
    "duration": 6,
    "start_time": "2024-11-15T16:10:32.250Z"
   },
   {
    "duration": 4,
    "start_time": "2024-11-15T16:10:32.258Z"
   },
   {
    "duration": 26,
    "start_time": "2024-11-15T16:10:32.264Z"
   },
   {
    "duration": 0,
    "start_time": "2024-11-15T16:10:32.292Z"
   },
   {
    "duration": 0,
    "start_time": "2024-11-15T16:10:32.293Z"
   },
   {
    "duration": 0,
    "start_time": "2024-11-15T16:10:32.294Z"
   },
   {
    "duration": 0,
    "start_time": "2024-11-15T16:10:32.323Z"
   },
   {
    "duration": 0,
    "start_time": "2024-11-15T16:10:32.325Z"
   },
   {
    "duration": 0,
    "start_time": "2024-11-15T16:10:32.327Z"
   },
   {
    "duration": 0,
    "start_time": "2024-11-15T16:10:32.328Z"
   },
   {
    "duration": 0,
    "start_time": "2024-11-15T16:10:32.329Z"
   },
   {
    "duration": 0,
    "start_time": "2024-11-15T16:10:32.331Z"
   },
   {
    "duration": 11,
    "start_time": "2024-11-15T16:12:32.454Z"
   },
   {
    "duration": 3,
    "start_time": "2024-11-15T16:13:34.587Z"
   },
   {
    "duration": 220,
    "start_time": "2024-11-15T16:13:41.035Z"
   },
   {
    "duration": 14,
    "start_time": "2024-11-15T16:13:50.650Z"
   },
   {
    "duration": 16,
    "start_time": "2024-11-15T16:14:19.570Z"
   },
   {
    "duration": 16,
    "start_time": "2024-11-15T16:14:20.013Z"
   },
   {
    "duration": 19,
    "start_time": "2024-11-15T16:14:20.471Z"
   },
   {
    "duration": 14,
    "start_time": "2024-11-15T16:14:21.948Z"
   },
   {
    "duration": 16,
    "start_time": "2024-11-15T16:15:13.742Z"
   },
   {
    "duration": 25,
    "start_time": "2024-11-15T16:15:22.607Z"
   },
   {
    "duration": 3,
    "start_time": "2024-11-15T16:19:31.351Z"
   },
   {
    "duration": 158,
    "start_time": "2024-11-15T16:19:31.355Z"
   },
   {
    "duration": 8,
    "start_time": "2024-11-15T16:19:31.514Z"
   },
   {
    "duration": 8,
    "start_time": "2024-11-15T16:19:31.525Z"
   },
   {
    "duration": 5,
    "start_time": "2024-11-15T16:19:31.534Z"
   },
   {
    "duration": 5,
    "start_time": "2024-11-15T16:19:31.540Z"
   },
   {
    "duration": 7,
    "start_time": "2024-11-15T16:19:31.546Z"
   },
   {
    "duration": 7,
    "start_time": "2024-11-15T16:19:31.555Z"
   },
   {
    "duration": 7,
    "start_time": "2024-11-15T16:19:31.565Z"
   },
   {
    "duration": 5,
    "start_time": "2024-11-15T16:19:31.574Z"
   },
   {
    "duration": 56,
    "start_time": "2024-11-15T16:19:31.581Z"
   },
   {
    "duration": 6,
    "start_time": "2024-11-15T16:19:31.639Z"
   },
   {
    "duration": 16,
    "start_time": "2024-11-15T16:19:31.647Z"
   },
   {
    "duration": 30,
    "start_time": "2024-11-15T16:19:31.664Z"
   },
   {
    "duration": 37,
    "start_time": "2024-11-15T16:19:31.696Z"
   },
   {
    "duration": 6,
    "start_time": "2024-11-15T16:19:31.734Z"
   },
   {
    "duration": 15,
    "start_time": "2024-11-15T16:19:31.742Z"
   },
   {
    "duration": 8,
    "start_time": "2024-11-15T16:19:31.759Z"
   },
   {
    "duration": 14,
    "start_time": "2024-11-15T16:19:31.768Z"
   },
   {
    "duration": 7,
    "start_time": "2024-11-15T16:19:31.783Z"
   },
   {
    "duration": 13,
    "start_time": "2024-11-15T16:19:31.824Z"
   },
   {
    "duration": 30,
    "start_time": "2024-11-15T16:19:31.838Z"
   },
   {
    "duration": 26,
    "start_time": "2024-11-15T16:19:31.870Z"
   },
   {
    "duration": 33,
    "start_time": "2024-11-15T16:19:31.900Z"
   },
   {
    "duration": 15,
    "start_time": "2024-11-15T16:19:31.935Z"
   },
   {
    "duration": 19,
    "start_time": "2024-11-15T16:19:31.951Z"
   },
   {
    "duration": 198,
    "start_time": "2024-11-15T16:19:31.971Z"
   },
   {
    "duration": 0,
    "start_time": "2024-11-15T16:19:32.170Z"
   },
   {
    "duration": 0,
    "start_time": "2024-11-15T16:19:32.172Z"
   },
   {
    "duration": 0,
    "start_time": "2024-11-15T16:19:32.173Z"
   },
   {
    "duration": 0,
    "start_time": "2024-11-15T16:19:32.175Z"
   },
   {
    "duration": 0,
    "start_time": "2024-11-15T16:19:32.176Z"
   },
   {
    "duration": 0,
    "start_time": "2024-11-15T16:19:32.177Z"
   },
   {
    "duration": 0,
    "start_time": "2024-11-15T16:19:32.179Z"
   },
   {
    "duration": 0,
    "start_time": "2024-11-15T16:19:32.180Z"
   },
   {
    "duration": 0,
    "start_time": "2024-11-15T16:19:32.181Z"
   },
   {
    "duration": 3,
    "start_time": "2024-11-15T16:20:18.369Z"
   },
   {
    "duration": 158,
    "start_time": "2024-11-15T16:20:18.374Z"
   },
   {
    "duration": 8,
    "start_time": "2024-11-15T16:20:18.534Z"
   },
   {
    "duration": 7,
    "start_time": "2024-11-15T16:20:18.545Z"
   },
   {
    "duration": 4,
    "start_time": "2024-11-15T16:20:18.554Z"
   },
   {
    "duration": 5,
    "start_time": "2024-11-15T16:20:18.559Z"
   },
   {
    "duration": 7,
    "start_time": "2024-11-15T16:20:18.565Z"
   },
   {
    "duration": 8,
    "start_time": "2024-11-15T16:20:18.574Z"
   },
   {
    "duration": 7,
    "start_time": "2024-11-15T16:20:18.584Z"
   },
   {
    "duration": 36,
    "start_time": "2024-11-15T16:20:18.592Z"
   },
   {
    "duration": 15,
    "start_time": "2024-11-15T16:20:18.629Z"
   },
   {
    "duration": 7,
    "start_time": "2024-11-15T16:20:18.645Z"
   },
   {
    "duration": 15,
    "start_time": "2024-11-15T16:20:18.654Z"
   },
   {
    "duration": 57,
    "start_time": "2024-11-15T16:20:18.673Z"
   },
   {
    "duration": 11,
    "start_time": "2024-11-15T16:20:18.732Z"
   },
   {
    "duration": 6,
    "start_time": "2024-11-15T16:20:18.745Z"
   },
   {
    "duration": 13,
    "start_time": "2024-11-15T16:20:18.753Z"
   },
   {
    "duration": 8,
    "start_time": "2024-11-15T16:20:18.768Z"
   },
   {
    "duration": 13,
    "start_time": "2024-11-15T16:20:18.778Z"
   },
   {
    "duration": 7,
    "start_time": "2024-11-15T16:20:18.824Z"
   },
   {
    "duration": 11,
    "start_time": "2024-11-15T16:20:18.833Z"
   },
   {
    "duration": 29,
    "start_time": "2024-11-15T16:20:18.846Z"
   },
   {
    "duration": 47,
    "start_time": "2024-11-15T16:20:18.877Z"
   },
   {
    "duration": 14,
    "start_time": "2024-11-15T16:20:18.926Z"
   },
   {
    "duration": 14,
    "start_time": "2024-11-15T16:20:18.942Z"
   },
   {
    "duration": 18,
    "start_time": "2024-11-15T16:20:18.958Z"
   },
   {
    "duration": 47,
    "start_time": "2024-11-15T16:20:18.978Z"
   },
   {
    "duration": 2,
    "start_time": "2024-11-15T16:20:19.027Z"
   },
   {
    "duration": 3,
    "start_time": "2024-11-15T16:20:19.030Z"
   },
   {
    "duration": 3,
    "start_time": "2024-11-15T16:20:19.035Z"
   },
   {
    "duration": 2,
    "start_time": "2024-11-15T16:20:19.040Z"
   },
   {
    "duration": 3,
    "start_time": "2024-11-15T16:20:19.044Z"
   },
   {
    "duration": 3,
    "start_time": "2024-11-15T16:20:19.048Z"
   },
   {
    "duration": 3,
    "start_time": "2024-11-15T16:20:19.052Z"
   },
   {
    "duration": 3,
    "start_time": "2024-11-15T16:20:19.056Z"
   },
   {
    "duration": 3,
    "start_time": "2024-11-15T16:20:19.061Z"
   },
   {
    "duration": 205,
    "start_time": "2024-11-15T16:22:42.920Z"
   },
   {
    "duration": 24,
    "start_time": "2024-11-15T16:22:57.818Z"
   },
   {
    "duration": 26,
    "start_time": "2024-11-15T16:22:59.848Z"
   },
   {
    "duration": 27,
    "start_time": "2024-11-15T16:28:01.802Z"
   },
   {
    "duration": 14,
    "start_time": "2024-11-15T16:28:02.651Z"
   },
   {
    "duration": 17,
    "start_time": "2024-11-15T16:28:02.993Z"
   },
   {
    "duration": 20,
    "start_time": "2024-11-15T16:28:03.242Z"
   },
   {
    "duration": 19,
    "start_time": "2024-11-15T16:28:04.647Z"
   },
   {
    "duration": 11,
    "start_time": "2024-11-15T16:29:19.604Z"
   },
   {
    "duration": 17,
    "start_time": "2024-11-15T16:29:31.438Z"
   },
   {
    "duration": 22,
    "start_time": "2024-11-15T16:29:32.089Z"
   },
   {
    "duration": 20,
    "start_time": "2024-11-15T16:29:33.155Z"
   },
   {
    "duration": 52,
    "start_time": "2024-11-15T16:29:51.224Z"
   },
   {
    "duration": 25,
    "start_time": "2024-11-15T16:29:56.911Z"
   },
   {
    "duration": 6,
    "start_time": "2024-11-15T16:45:59.007Z"
   },
   {
    "duration": 4,
    "start_time": "2024-11-15T16:46:03.010Z"
   },
   {
    "duration": 3,
    "start_time": "2024-11-15T16:46:18.314Z"
   },
   {
    "duration": 3,
    "start_time": "2024-11-15T16:46:29.023Z"
   },
   {
    "duration": 212,
    "start_time": "2024-11-15T16:47:41.119Z"
   },
   {
    "duration": 76,
    "start_time": "2024-11-15T16:47:55.951Z"
   },
   {
    "duration": 3,
    "start_time": "2024-11-15T16:48:42.253Z"
   },
   {
    "duration": 158,
    "start_time": "2024-11-15T16:48:42.258Z"
   },
   {
    "duration": 9,
    "start_time": "2024-11-15T16:48:42.418Z"
   },
   {
    "duration": 8,
    "start_time": "2024-11-15T16:48:42.428Z"
   },
   {
    "duration": 3,
    "start_time": "2024-11-15T16:48:42.438Z"
   },
   {
    "duration": 5,
    "start_time": "2024-11-15T16:48:42.442Z"
   },
   {
    "duration": 8,
    "start_time": "2024-11-15T16:48:42.449Z"
   },
   {
    "duration": 7,
    "start_time": "2024-11-15T16:48:42.459Z"
   },
   {
    "duration": 6,
    "start_time": "2024-11-15T16:48:42.468Z"
   },
   {
    "duration": 4,
    "start_time": "2024-11-15T16:48:42.476Z"
   },
   {
    "duration": 54,
    "start_time": "2024-11-15T16:48:42.483Z"
   },
   {
    "duration": 7,
    "start_time": "2024-11-15T16:48:42.538Z"
   },
   {
    "duration": 15,
    "start_time": "2024-11-15T16:48:42.546Z"
   },
   {
    "duration": 29,
    "start_time": "2024-11-15T16:48:42.563Z"
   },
   {
    "duration": 36,
    "start_time": "2024-11-15T16:48:42.593Z"
   },
   {
    "duration": 6,
    "start_time": "2024-11-15T16:48:42.631Z"
   },
   {
    "duration": 14,
    "start_time": "2024-11-15T16:48:42.639Z"
   },
   {
    "duration": 17,
    "start_time": "2024-11-15T16:48:42.655Z"
   },
   {
    "duration": 14,
    "start_time": "2024-11-15T16:48:42.674Z"
   },
   {
    "duration": 6,
    "start_time": "2024-11-15T16:48:42.689Z"
   },
   {
    "duration": 13,
    "start_time": "2024-11-15T16:48:42.725Z"
   },
   {
    "duration": 33,
    "start_time": "2024-11-15T16:48:42.739Z"
   },
   {
    "duration": 23,
    "start_time": "2024-11-15T16:48:42.774Z"
   },
   {
    "duration": 34,
    "start_time": "2024-11-15T16:48:42.799Z"
   },
   {
    "duration": 15,
    "start_time": "2024-11-15T16:48:42.834Z"
   },
   {
    "duration": 18,
    "start_time": "2024-11-15T16:48:42.850Z"
   },
   {
    "duration": 19,
    "start_time": "2024-11-15T16:48:42.870Z"
   },
   {
    "duration": 99,
    "start_time": "2024-11-15T16:48:42.891Z"
   },
   {
    "duration": 0,
    "start_time": "2024-11-15T16:48:42.992Z"
   },
   {
    "duration": 0,
    "start_time": "2024-11-15T16:48:42.993Z"
   },
   {
    "duration": 0,
    "start_time": "2024-11-15T16:48:42.994Z"
   },
   {
    "duration": 0,
    "start_time": "2024-11-15T16:48:42.996Z"
   },
   {
    "duration": 0,
    "start_time": "2024-11-15T16:48:42.997Z"
   },
   {
    "duration": 0,
    "start_time": "2024-11-15T16:48:42.998Z"
   },
   {
    "duration": 0,
    "start_time": "2024-11-15T16:48:42.999Z"
   },
   {
    "duration": 0,
    "start_time": "2024-11-15T16:48:43.000Z"
   },
   {
    "duration": 3,
    "start_time": "2024-11-15T16:49:53.817Z"
   },
   {
    "duration": 75,
    "start_time": "2024-11-15T16:49:58.257Z"
   },
   {
    "duration": 24,
    "start_time": "2024-11-15T16:51:28.373Z"
   },
   {
    "duration": 23,
    "start_time": "2024-11-15T16:51:33.099Z"
   },
   {
    "duration": 3,
    "start_time": "2024-11-15T16:51:38.638Z"
   },
   {
    "duration": 43,
    "start_time": "2024-11-15T16:51:40.222Z"
   },
   {
    "duration": 3,
    "start_time": "2024-11-15T16:52:29.464Z"
   },
   {
    "duration": 69,
    "start_time": "2024-11-15T16:52:31.525Z"
   },
   {
    "duration": 3,
    "start_time": "2024-11-15T16:53:03.119Z"
   },
   {
    "duration": 161,
    "start_time": "2024-11-15T16:53:04.886Z"
   },
   {
    "duration": 70,
    "start_time": "2024-11-15T16:53:51.573Z"
   },
   {
    "duration": 23,
    "start_time": "2024-11-15T16:55:22.063Z"
   },
   {
    "duration": 23,
    "start_time": "2024-11-15T16:55:59.675Z"
   },
   {
    "duration": 14,
    "start_time": "2024-11-15T16:56:19.905Z"
   },
   {
    "duration": 14,
    "start_time": "2024-11-15T16:56:21.313Z"
   },
   {
    "duration": 13,
    "start_time": "2024-11-15T16:58:29.171Z"
   },
   {
    "duration": 73,
    "start_time": "2024-11-15T17:00:00.200Z"
   },
   {
    "duration": 72,
    "start_time": "2024-11-15T17:00:50.654Z"
   },
   {
    "duration": 13,
    "start_time": "2024-11-15T17:04:08.235Z"
   },
   {
    "duration": 63,
    "start_time": "2024-11-15T17:04:52.125Z"
   },
   {
    "duration": 30,
    "start_time": "2024-11-15T17:05:02.182Z"
   },
   {
    "duration": 13,
    "start_time": "2024-11-15T17:05:26.810Z"
   },
   {
    "duration": 68,
    "start_time": "2024-11-15T17:11:59.597Z"
   },
   {
    "duration": 73,
    "start_time": "2024-11-15T17:12:27.728Z"
   },
   {
    "duration": 4,
    "start_time": "2024-11-15T17:12:40.786Z"
   },
   {
    "duration": 66,
    "start_time": "2024-11-15T17:12:44.456Z"
   },
   {
    "duration": 65,
    "start_time": "2024-11-15T17:13:06.425Z"
   },
   {
    "duration": 65,
    "start_time": "2024-11-15T17:13:30.960Z"
   },
   {
    "duration": 65,
    "start_time": "2024-11-15T17:15:00.443Z"
   },
   {
    "duration": 51,
    "start_time": "2024-11-15T17:18:28.777Z"
   },
   {
    "duration": 142,
    "start_time": "2024-11-15T17:19:05.827Z"
   },
   {
    "duration": 19,
    "start_time": "2024-11-15T17:19:06.949Z"
   },
   {
    "duration": 27,
    "start_time": "2024-11-15T17:19:08.111Z"
   },
   {
    "duration": 3,
    "start_time": "2024-11-15T17:19:08.765Z"
   },
   {
    "duration": 15,
    "start_time": "2024-11-15T17:19:25.124Z"
   },
   {
    "duration": 19,
    "start_time": "2024-11-15T17:19:25.987Z"
   },
   {
    "duration": 23,
    "start_time": "2024-11-15T17:19:26.683Z"
   },
   {
    "duration": 3,
    "start_time": "2024-11-15T17:19:26.760Z"
   },
   {
    "duration": 16,
    "start_time": "2024-11-15T17:29:22.631Z"
   },
   {
    "duration": 19,
    "start_time": "2024-11-15T17:29:23.178Z"
   },
   {
    "duration": 23,
    "start_time": "2024-11-15T17:29:24.605Z"
   },
   {
    "duration": 3,
    "start_time": "2024-11-15T17:29:48.089Z"
   },
   {
    "duration": 73,
    "start_time": "2024-11-15T17:29:49.458Z"
   },
   {
    "duration": 2,
    "start_time": "2024-11-15T17:32:10.115Z"
   },
   {
    "duration": 159,
    "start_time": "2024-11-15T17:32:10.120Z"
   },
   {
    "duration": 8,
    "start_time": "2024-11-15T17:32:10.280Z"
   },
   {
    "duration": 7,
    "start_time": "2024-11-15T17:32:10.290Z"
   },
   {
    "duration": 3,
    "start_time": "2024-11-15T17:32:10.300Z"
   },
   {
    "duration": 20,
    "start_time": "2024-11-15T17:32:10.305Z"
   },
   {
    "duration": 8,
    "start_time": "2024-11-15T17:32:10.326Z"
   },
   {
    "duration": 7,
    "start_time": "2024-11-15T17:32:10.336Z"
   },
   {
    "duration": 7,
    "start_time": "2024-11-15T17:32:10.344Z"
   },
   {
    "duration": 5,
    "start_time": "2024-11-15T17:32:10.352Z"
   },
   {
    "duration": 14,
    "start_time": "2024-11-15T17:32:10.359Z"
   },
   {
    "duration": 6,
    "start_time": "2024-11-15T17:32:10.374Z"
   },
   {
    "duration": 52,
    "start_time": "2024-11-15T17:32:10.382Z"
   },
   {
    "duration": 29,
    "start_time": "2024-11-15T17:32:10.437Z"
   },
   {
    "duration": 12,
    "start_time": "2024-11-15T17:32:10.468Z"
   },
   {
    "duration": 5,
    "start_time": "2024-11-15T17:32:10.482Z"
   },
   {
    "duration": 38,
    "start_time": "2024-11-15T17:32:10.489Z"
   },
   {
    "duration": 15,
    "start_time": "2024-11-15T17:32:10.528Z"
   },
   {
    "duration": 14,
    "start_time": "2024-11-15T17:32:10.544Z"
   },
   {
    "duration": 7,
    "start_time": "2024-11-15T17:32:10.559Z"
   },
   {
    "duration": 12,
    "start_time": "2024-11-15T17:32:10.567Z"
   },
   {
    "duration": 62,
    "start_time": "2024-11-15T17:32:10.580Z"
   },
   {
    "duration": 23,
    "start_time": "2024-11-15T17:32:10.644Z"
   },
   {
    "duration": 12,
    "start_time": "2024-11-15T17:32:10.669Z"
   },
   {
    "duration": 16,
    "start_time": "2024-11-15T17:32:10.682Z"
   },
   {
    "duration": 41,
    "start_time": "2024-11-15T17:32:10.699Z"
   },
   {
    "duration": 24,
    "start_time": "2024-11-15T17:32:10.741Z"
   },
   {
    "duration": 3,
    "start_time": "2024-11-15T17:32:10.767Z"
   },
   {
    "duration": 90,
    "start_time": "2024-11-15T17:32:10.771Z"
   },
   {
    "duration": 0,
    "start_time": "2024-11-15T17:32:10.863Z"
   },
   {
    "duration": 0,
    "start_time": "2024-11-15T17:32:10.864Z"
   },
   {
    "duration": 0,
    "start_time": "2024-11-15T17:32:10.865Z"
   },
   {
    "duration": 0,
    "start_time": "2024-11-15T17:32:10.865Z"
   },
   {
    "duration": 0,
    "start_time": "2024-11-15T17:32:10.866Z"
   },
   {
    "duration": 0,
    "start_time": "2024-11-15T17:32:10.867Z"
   },
   {
    "duration": 0,
    "start_time": "2024-11-15T17:32:10.868Z"
   },
   {
    "duration": 0,
    "start_time": "2024-11-15T17:32:10.869Z"
   },
   {
    "duration": 32,
    "start_time": "2024-11-15T17:39:06.690Z"
   },
   {
    "duration": 3,
    "start_time": "2024-11-15T17:39:08.751Z"
   },
   {
    "duration": 73,
    "start_time": "2024-11-15T17:39:12.856Z"
   },
   {
    "duration": 43,
    "start_time": "2024-11-15T17:46:26.062Z"
   },
   {
    "duration": 80,
    "start_time": "2024-11-15T17:46:36.767Z"
   },
   {
    "duration": 14,
    "start_time": "2024-11-15T17:49:46.309Z"
   },
   {
    "duration": 16,
    "start_time": "2024-11-15T17:49:47.623Z"
   },
   {
    "duration": 19,
    "start_time": "2024-11-15T17:49:47.849Z"
   },
   {
    "duration": 23,
    "start_time": "2024-11-15T17:49:48.946Z"
   },
   {
    "duration": 3,
    "start_time": "2024-11-15T17:49:51.338Z"
   },
   {
    "duration": 71,
    "start_time": "2024-11-15T17:49:52.067Z"
   },
   {
    "duration": 15,
    "start_time": "2024-11-15T17:50:17.384Z"
   },
   {
    "duration": 19,
    "start_time": "2024-11-15T17:50:18.301Z"
   },
   {
    "duration": 23,
    "start_time": "2024-11-15T17:50:18.665Z"
   },
   {
    "duration": 3,
    "start_time": "2024-11-15T17:50:25.197Z"
   },
   {
    "duration": 71,
    "start_time": "2024-11-15T17:50:26.123Z"
   },
   {
    "duration": 27,
    "start_time": "2024-11-15T17:51:47.580Z"
   },
   {
    "duration": 26,
    "start_time": "2024-11-15T17:51:52.891Z"
   },
   {
    "duration": 16,
    "start_time": "2024-11-15T17:51:57.793Z"
   },
   {
    "duration": 19,
    "start_time": "2024-11-15T17:52:03.504Z"
   },
   {
    "duration": 23,
    "start_time": "2024-11-15T17:52:04.480Z"
   },
   {
    "duration": 16,
    "start_time": "2024-11-15T17:53:17.129Z"
   },
   {
    "duration": 22,
    "start_time": "2024-11-15T17:53:18.033Z"
   },
   {
    "duration": 24,
    "start_time": "2024-11-15T17:53:18.903Z"
   },
   {
    "duration": 4,
    "start_time": "2024-11-15T17:53:21.806Z"
   },
   {
    "duration": 89,
    "start_time": "2024-11-15T17:53:29.925Z"
   },
   {
    "duration": 26,
    "start_time": "2024-11-15T17:53:49.098Z"
   },
   {
    "duration": 29,
    "start_time": "2024-11-15T17:54:12.501Z"
   },
   {
    "duration": 24,
    "start_time": "2024-11-15T17:54:54.098Z"
   },
   {
    "duration": 25,
    "start_time": "2024-11-15T17:54:57.326Z"
   },
   {
    "duration": 70,
    "start_time": "2024-11-15T18:24:32.315Z"
   },
   {
    "duration": 3,
    "start_time": "2024-11-15T18:24:36.669Z"
   },
   {
    "duration": 169,
    "start_time": "2024-11-15T18:24:36.674Z"
   },
   {
    "duration": 8,
    "start_time": "2024-11-15T18:24:36.845Z"
   },
   {
    "duration": 8,
    "start_time": "2024-11-15T18:24:36.855Z"
   },
   {
    "duration": 4,
    "start_time": "2024-11-15T18:24:36.864Z"
   },
   {
    "duration": 5,
    "start_time": "2024-11-15T18:24:36.869Z"
   },
   {
    "duration": 9,
    "start_time": "2024-11-15T18:24:36.876Z"
   },
   {
    "duration": 7,
    "start_time": "2024-11-15T18:24:36.888Z"
   },
   {
    "duration": 7,
    "start_time": "2024-11-15T18:24:36.924Z"
   },
   {
    "duration": 5,
    "start_time": "2024-11-15T18:24:36.932Z"
   },
   {
    "duration": 14,
    "start_time": "2024-11-15T18:24:36.939Z"
   },
   {
    "duration": 6,
    "start_time": "2024-11-15T18:24:36.955Z"
   },
   {
    "duration": 15,
    "start_time": "2024-11-15T18:24:36.963Z"
   },
   {
    "duration": 53,
    "start_time": "2024-11-15T18:24:36.979Z"
   },
   {
    "duration": 13,
    "start_time": "2024-11-15T18:24:37.034Z"
   },
   {
    "duration": 7,
    "start_time": "2024-11-15T18:24:37.048Z"
   },
   {
    "duration": 15,
    "start_time": "2024-11-15T18:24:37.056Z"
   },
   {
    "duration": 15,
    "start_time": "2024-11-15T18:24:37.073Z"
   },
   {
    "duration": 41,
    "start_time": "2024-11-15T18:24:37.089Z"
   },
   {
    "duration": 6,
    "start_time": "2024-11-15T18:24:37.131Z"
   },
   {
    "duration": 12,
    "start_time": "2024-11-15T18:24:37.139Z"
   },
   {
    "duration": 31,
    "start_time": "2024-11-15T18:24:37.152Z"
   },
   {
    "duration": 48,
    "start_time": "2024-11-15T18:24:37.185Z"
   },
   {
    "duration": 13,
    "start_time": "2024-11-15T18:24:37.237Z"
   },
   {
    "duration": 15,
    "start_time": "2024-11-15T18:24:37.251Z"
   },
   {
    "duration": 20,
    "start_time": "2024-11-15T18:24:37.268Z"
   },
   {
    "duration": 43,
    "start_time": "2024-11-15T18:24:37.290Z"
   },
   {
    "duration": 3,
    "start_time": "2024-11-15T18:24:37.335Z"
   },
   {
    "duration": 24,
    "start_time": "2024-11-15T18:24:37.340Z"
   },
   {
    "duration": 4,
    "start_time": "2024-11-15T18:24:37.365Z"
   },
   {
    "duration": 3,
    "start_time": "2024-11-15T18:24:37.371Z"
   },
   {
    "duration": 3,
    "start_time": "2024-11-15T18:24:37.376Z"
   },
   {
    "duration": 5,
    "start_time": "2024-11-15T18:24:37.381Z"
   },
   {
    "duration": 39,
    "start_time": "2024-11-15T18:24:37.387Z"
   },
   {
    "duration": 3,
    "start_time": "2024-11-15T18:24:37.427Z"
   },
   {
    "duration": 3,
    "start_time": "2024-11-15T18:24:37.432Z"
   },
   {
    "duration": 4,
    "start_time": "2024-11-15T18:24:37.437Z"
   },
   {
    "duration": 5,
    "start_time": "2024-11-15T18:24:37.442Z"
   },
   {
    "duration": 4,
    "start_time": "2024-11-15T18:24:37.448Z"
   },
   {
    "duration": 3,
    "start_time": "2024-11-15T18:24:37.454Z"
   },
   {
    "duration": 15,
    "start_time": "2024-11-15T18:28:11.945Z"
   },
   {
    "duration": 14,
    "start_time": "2024-11-15T18:28:33.156Z"
   },
   {
    "duration": 3,
    "start_time": "2024-11-15T18:28:58.116Z"
   },
   {
    "duration": 217,
    "start_time": "2024-11-15T18:29:29.020Z"
   },
   {
    "duration": 223,
    "start_time": "2024-11-15T18:29:48.515Z"
   },
   {
    "duration": 217,
    "start_time": "2024-11-15T18:30:00.848Z"
   },
   {
    "duration": 5,
    "start_time": "2024-11-15T18:36:22.375Z"
   },
   {
    "duration": 22,
    "start_time": "2024-11-15T18:36:25.564Z"
   },
   {
    "duration": 199,
    "start_time": "2024-11-15T18:36:32.355Z"
   },
   {
    "duration": 183,
    "start_time": "2024-11-15T18:40:15.691Z"
   },
   {
    "duration": 5,
    "start_time": "2024-11-15T18:40:36.049Z"
   },
   {
    "duration": 7,
    "start_time": "2024-11-15T18:40:39.081Z"
   },
   {
    "duration": 123,
    "start_time": "2024-11-15T18:40:59.883Z"
   },
   {
    "duration": 100,
    "start_time": "2024-11-15T18:41:03.518Z"
   },
   {
    "duration": 337,
    "start_time": "2024-11-15T18:41:35.502Z"
   },
   {
    "duration": 177,
    "start_time": "2024-11-15T18:41:43.886Z"
   },
   {
    "duration": 45,
    "start_time": "2024-11-15T18:45:02.878Z"
   },
   {
    "duration": 195,
    "start_time": "2024-11-15T18:45:18.644Z"
   },
   {
    "duration": 18,
    "start_time": "2024-11-15T18:46:43.502Z"
   },
   {
    "duration": 7,
    "start_time": "2024-11-15T18:47:43.641Z"
   },
   {
    "duration": 16,
    "start_time": "2024-11-15T18:48:11.207Z"
   },
   {
    "duration": 16,
    "start_time": "2024-11-15T18:48:16.156Z"
   },
   {
    "duration": 46,
    "start_time": "2024-11-15T18:48:21.940Z"
   },
   {
    "duration": 46,
    "start_time": "2024-11-15T18:48:45.715Z"
   },
   {
    "duration": 4,
    "start_time": "2024-11-15T18:49:41.778Z"
   },
   {
    "duration": 9,
    "start_time": "2024-11-15T18:49:46.579Z"
   },
   {
    "duration": 44,
    "start_time": "2024-11-15T18:57:08.560Z"
   },
   {
    "duration": 17,
    "start_time": "2024-11-15T18:57:17.477Z"
   },
   {
    "duration": 7,
    "start_time": "2024-11-15T18:57:21.805Z"
   },
   {
    "duration": 5,
    "start_time": "2024-11-15T18:59:01.805Z"
   },
   {
    "duration": 5,
    "start_time": "2024-11-15T18:59:22.929Z"
   },
   {
    "duration": 5,
    "start_time": "2024-11-15T18:59:46.055Z"
   },
   {
    "duration": 5,
    "start_time": "2024-11-15T18:59:54.601Z"
   },
   {
    "duration": 5,
    "start_time": "2024-11-15T18:59:57.045Z"
   },
   {
    "duration": 5,
    "start_time": "2024-11-15T19:00:03.835Z"
   },
   {
    "duration": 7,
    "start_time": "2024-11-15T19:00:32.299Z"
   },
   {
    "duration": 7,
    "start_time": "2024-11-15T19:00:42.289Z"
   },
   {
    "duration": 6,
    "start_time": "2024-11-15T19:00:48.681Z"
   },
   {
    "duration": 4,
    "start_time": "2024-11-15T19:00:54.577Z"
   },
   {
    "duration": 8,
    "start_time": "2024-11-15T19:00:54.993Z"
   },
   {
    "duration": 163,
    "start_time": "2024-11-16T01:40:01.243Z"
   },
   {
    "duration": 2487,
    "start_time": "2024-11-16T01:40:11.210Z"
   },
   {
    "duration": 212,
    "start_time": "2024-11-16T01:40:13.699Z"
   },
   {
    "duration": 9,
    "start_time": "2024-11-16T01:40:13.913Z"
   },
   {
    "duration": 10,
    "start_time": "2024-11-16T01:40:13.925Z"
   },
   {
    "duration": 3,
    "start_time": "2024-11-16T01:40:13.938Z"
   },
   {
    "duration": 5,
    "start_time": "2024-11-16T01:40:13.943Z"
   },
   {
    "duration": 9,
    "start_time": "2024-11-16T01:40:13.950Z"
   },
   {
    "duration": 9,
    "start_time": "2024-11-16T01:40:13.960Z"
   },
   {
    "duration": 39,
    "start_time": "2024-11-16T01:40:13.971Z"
   },
   {
    "duration": 4,
    "start_time": "2024-11-16T01:40:14.013Z"
   },
   {
    "duration": 14,
    "start_time": "2024-11-16T01:40:14.019Z"
   },
   {
    "duration": 6,
    "start_time": "2024-11-16T01:40:14.035Z"
   },
   {
    "duration": 17,
    "start_time": "2024-11-16T01:40:14.043Z"
   },
   {
    "duration": 46,
    "start_time": "2024-11-16T01:40:14.135Z"
   },
   {
    "duration": 15,
    "start_time": "2024-11-16T01:43:16.501Z"
   },
   {
    "duration": 14,
    "start_time": "2024-11-16T01:43:41.862Z"
   },
   {
    "duration": 345,
    "start_time": "2024-11-16T01:44:38.539Z"
   },
   {
    "duration": 4,
    "start_time": "2024-11-16T01:44:42.471Z"
   },
   {
    "duration": 153,
    "start_time": "2024-11-16T01:44:42.477Z"
   },
   {
    "duration": 8,
    "start_time": "2024-11-16T01:44:42.632Z"
   },
   {
    "duration": 7,
    "start_time": "2024-11-16T01:44:42.642Z"
   },
   {
    "duration": 3,
    "start_time": "2024-11-16T01:44:42.651Z"
   },
   {
    "duration": 4,
    "start_time": "2024-11-16T01:44:42.656Z"
   },
   {
    "duration": 8,
    "start_time": "2024-11-16T01:44:42.662Z"
   },
   {
    "duration": 7,
    "start_time": "2024-11-16T01:44:42.671Z"
   },
   {
    "duration": 7,
    "start_time": "2024-11-16T01:44:42.709Z"
   },
   {
    "duration": 6,
    "start_time": "2024-11-16T01:44:42.719Z"
   },
   {
    "duration": 15,
    "start_time": "2024-11-16T01:44:42.726Z"
   },
   {
    "duration": 6,
    "start_time": "2024-11-16T01:44:42.742Z"
   },
   {
    "duration": 17,
    "start_time": "2024-11-16T01:44:42.750Z"
   },
   {
    "duration": 78,
    "start_time": "2024-11-16T01:44:42.769Z"
   },
   {
    "duration": 13,
    "start_time": "2024-11-16T01:44:42.849Z"
   },
   {
    "duration": 6,
    "start_time": "2024-11-16T01:44:42.863Z"
   },
   {
    "duration": 14,
    "start_time": "2024-11-16T01:44:42.872Z"
   },
   {
    "duration": 45,
    "start_time": "2024-11-16T01:44:42.887Z"
   },
   {
    "duration": 24,
    "start_time": "2024-11-16T01:44:43.543Z"
   },
   {
    "duration": 3,
    "start_time": "2024-11-16T01:45:04.765Z"
   },
   {
    "duration": 157,
    "start_time": "2024-11-16T01:45:04.770Z"
   },
   {
    "duration": 9,
    "start_time": "2024-11-16T01:45:04.929Z"
   },
   {
    "duration": 8,
    "start_time": "2024-11-16T01:45:04.939Z"
   },
   {
    "duration": 3,
    "start_time": "2024-11-16T01:45:04.950Z"
   },
   {
    "duration": 5,
    "start_time": "2024-11-16T01:45:04.954Z"
   },
   {
    "duration": 8,
    "start_time": "2024-11-16T01:45:04.961Z"
   },
   {
    "duration": 39,
    "start_time": "2024-11-16T01:45:04.971Z"
   },
   {
    "duration": 7,
    "start_time": "2024-11-16T01:45:05.011Z"
   },
   {
    "duration": 5,
    "start_time": "2024-11-16T01:45:05.019Z"
   },
   {
    "duration": 15,
    "start_time": "2024-11-16T01:45:05.026Z"
   },
   {
    "duration": 6,
    "start_time": "2024-11-16T01:45:05.043Z"
   },
   {
    "duration": 16,
    "start_time": "2024-11-16T01:45:05.051Z"
   },
   {
    "duration": 70,
    "start_time": "2024-11-16T01:45:05.071Z"
   },
   {
    "duration": 13,
    "start_time": "2024-11-16T01:45:05.143Z"
   },
   {
    "duration": 6,
    "start_time": "2024-11-16T01:45:05.157Z"
   },
   {
    "duration": 14,
    "start_time": "2024-11-16T01:45:05.165Z"
   },
   {
    "duration": 45,
    "start_time": "2024-11-16T01:45:05.181Z"
   },
   {
    "duration": 13,
    "start_time": "2024-11-16T01:45:05.228Z"
   },
   {
    "duration": 7,
    "start_time": "2024-11-16T01:45:05.243Z"
   },
   {
    "duration": 11,
    "start_time": "2024-11-16T01:45:05.251Z"
   },
   {
    "duration": 67,
    "start_time": "2024-11-16T01:45:05.264Z"
   },
   {
    "duration": 14,
    "start_time": "2024-11-16T01:45:05.333Z"
   },
   {
    "duration": 12,
    "start_time": "2024-11-16T01:45:05.348Z"
   },
   {
    "duration": 11,
    "start_time": "2024-11-16T01:45:05.361Z"
   },
   {
    "duration": 29,
    "start_time": "2024-11-16T01:45:05.380Z"
   },
   {
    "duration": 15,
    "start_time": "2024-11-16T01:45:05.410Z"
   },
   {
    "duration": 0,
    "start_time": "2024-11-16T01:45:05.427Z"
   },
   {
    "duration": 0,
    "start_time": "2024-11-16T01:45:05.428Z"
   },
   {
    "duration": 0,
    "start_time": "2024-11-16T01:45:05.430Z"
   },
   {
    "duration": 0,
    "start_time": "2024-11-16T01:45:05.431Z"
   },
   {
    "duration": 0,
    "start_time": "2024-11-16T01:45:05.432Z"
   },
   {
    "duration": 0,
    "start_time": "2024-11-16T01:45:05.433Z"
   },
   {
    "duration": 0,
    "start_time": "2024-11-16T01:45:05.434Z"
   },
   {
    "duration": 0,
    "start_time": "2024-11-16T01:45:05.436Z"
   },
   {
    "duration": 0,
    "start_time": "2024-11-16T01:45:05.437Z"
   },
   {
    "duration": 0,
    "start_time": "2024-11-16T01:45:05.439Z"
   },
   {
    "duration": 0,
    "start_time": "2024-11-16T01:45:05.440Z"
   },
   {
    "duration": 0,
    "start_time": "2024-11-16T01:45:05.443Z"
   },
   {
    "duration": 0,
    "start_time": "2024-11-16T01:45:05.444Z"
   },
   {
    "duration": 17,
    "start_time": "2024-11-16T01:45:50.919Z"
   },
   {
    "duration": 23,
    "start_time": "2024-11-16T01:46:00.357Z"
   },
   {
    "duration": 3,
    "start_time": "2024-11-16T01:46:29.272Z"
   },
   {
    "duration": 157,
    "start_time": "2024-11-16T01:46:29.277Z"
   },
   {
    "duration": 9,
    "start_time": "2024-11-16T01:46:29.436Z"
   },
   {
    "duration": 6,
    "start_time": "2024-11-16T01:46:29.447Z"
   },
   {
    "duration": 5,
    "start_time": "2024-11-16T01:46:29.455Z"
   },
   {
    "duration": 5,
    "start_time": "2024-11-16T01:46:29.461Z"
   },
   {
    "duration": 8,
    "start_time": "2024-11-16T01:46:29.467Z"
   },
   {
    "duration": 32,
    "start_time": "2024-11-16T01:46:29.477Z"
   },
   {
    "duration": 9,
    "start_time": "2024-11-16T01:46:29.510Z"
   },
   {
    "duration": 6,
    "start_time": "2024-11-16T01:46:29.521Z"
   },
   {
    "duration": 14,
    "start_time": "2024-11-16T01:46:29.531Z"
   },
   {
    "duration": 7,
    "start_time": "2024-11-16T01:46:29.546Z"
   },
   {
    "duration": 16,
    "start_time": "2024-11-16T01:46:29.554Z"
   },
   {
    "duration": 70,
    "start_time": "2024-11-16T01:46:29.571Z"
   },
   {
    "duration": 12,
    "start_time": "2024-11-16T01:46:29.643Z"
   },
   {
    "duration": 6,
    "start_time": "2024-11-16T01:46:29.656Z"
   },
   {
    "duration": 16,
    "start_time": "2024-11-16T01:46:29.664Z"
   },
   {
    "duration": 47,
    "start_time": "2024-11-16T01:46:29.681Z"
   },
   {
    "duration": 14,
    "start_time": "2024-11-16T01:46:29.730Z"
   },
   {
    "duration": 7,
    "start_time": "2024-11-16T01:46:29.745Z"
   },
   {
    "duration": 17,
    "start_time": "2024-11-16T01:46:29.754Z"
   },
   {
    "duration": 67,
    "start_time": "2024-11-16T01:46:29.773Z"
   },
   {
    "duration": 13,
    "start_time": "2024-11-16T01:46:29.842Z"
   },
   {
    "duration": 13,
    "start_time": "2024-11-16T01:46:29.856Z"
   },
   {
    "duration": 9,
    "start_time": "2024-11-16T01:46:29.870Z"
   },
   {
    "duration": 35,
    "start_time": "2024-11-16T01:46:29.880Z"
   },
   {
    "duration": 23,
    "start_time": "2024-11-16T01:46:29.916Z"
   },
   {
    "duration": 3,
    "start_time": "2024-11-16T01:46:29.941Z"
   },
   {
    "duration": 658,
    "start_time": "2024-11-16T01:46:29.948Z"
   },
   {
    "duration": 0,
    "start_time": "2024-11-16T01:46:30.609Z"
   },
   {
    "duration": 0,
    "start_time": "2024-11-16T01:46:30.610Z"
   },
   {
    "duration": 0,
    "start_time": "2024-11-16T01:46:30.612Z"
   },
   {
    "duration": 0,
    "start_time": "2024-11-16T01:46:30.613Z"
   },
   {
    "duration": 0,
    "start_time": "2024-11-16T01:46:30.615Z"
   },
   {
    "duration": 0,
    "start_time": "2024-11-16T01:46:30.616Z"
   },
   {
    "duration": 0,
    "start_time": "2024-11-16T01:46:30.617Z"
   },
   {
    "duration": 0,
    "start_time": "2024-11-16T01:46:30.619Z"
   },
   {
    "duration": 0,
    "start_time": "2024-11-16T01:46:30.620Z"
   },
   {
    "duration": 0,
    "start_time": "2024-11-16T01:46:30.621Z"
   },
   {
    "duration": 0,
    "start_time": "2024-11-16T01:46:30.622Z"
   },
   {
    "duration": 11,
    "start_time": "2024-11-16T01:48:44.910Z"
   },
   {
    "duration": 18,
    "start_time": "2024-11-16T01:48:54.996Z"
   },
   {
    "duration": 13,
    "start_time": "2024-11-16T01:49:36.673Z"
   },
   {
    "duration": 17,
    "start_time": "2024-11-16T01:49:47.205Z"
   },
   {
    "duration": 14,
    "start_time": "2024-11-16T01:51:04.557Z"
   },
   {
    "duration": 12,
    "start_time": "2024-11-16T01:51:17.562Z"
   },
   {
    "duration": 22,
    "start_time": "2024-11-16T01:52:04.439Z"
   },
   {
    "duration": 3,
    "start_time": "2024-11-16T01:52:24.637Z"
   },
   {
    "duration": 3,
    "start_time": "2024-11-16T01:52:27.368Z"
   },
   {
    "duration": 167,
    "start_time": "2024-11-16T01:52:27.373Z"
   },
   {
    "duration": 9,
    "start_time": "2024-11-16T01:52:27.542Z"
   },
   {
    "duration": 7,
    "start_time": "2024-11-16T01:52:27.553Z"
   },
   {
    "duration": 4,
    "start_time": "2024-11-16T01:52:27.561Z"
   },
   {
    "duration": 5,
    "start_time": "2024-11-16T01:52:27.567Z"
   },
   {
    "duration": 8,
    "start_time": "2024-11-16T01:52:27.573Z"
   },
   {
    "duration": 36,
    "start_time": "2024-11-16T01:52:27.582Z"
   },
   {
    "duration": 8,
    "start_time": "2024-11-16T01:52:27.621Z"
   },
   {
    "duration": 6,
    "start_time": "2024-11-16T01:52:27.631Z"
   },
   {
    "duration": 15,
    "start_time": "2024-11-16T01:52:27.638Z"
   },
   {
    "duration": 7,
    "start_time": "2024-11-16T01:52:27.654Z"
   },
   {
    "duration": 15,
    "start_time": "2024-11-16T01:52:27.662Z"
   },
   {
    "duration": 76,
    "start_time": "2024-11-16T01:52:27.679Z"
   },
   {
    "duration": 13,
    "start_time": "2024-11-16T01:52:27.757Z"
   },
   {
    "duration": 5,
    "start_time": "2024-11-16T01:52:27.772Z"
   },
   {
    "duration": 40,
    "start_time": "2024-11-16T01:52:27.779Z"
   },
   {
    "duration": 25,
    "start_time": "2024-11-16T01:52:27.821Z"
   },
   {
    "duration": 13,
    "start_time": "2024-11-16T01:52:27.848Z"
   },
   {
    "duration": 6,
    "start_time": "2024-11-16T01:52:27.863Z"
   },
   {
    "duration": 12,
    "start_time": "2024-11-16T01:52:27.871Z"
   },
   {
    "duration": 44,
    "start_time": "2024-11-16T01:52:27.908Z"
   },
   {
    "duration": 15,
    "start_time": "2024-11-16T01:52:27.954Z"
   },
   {
    "duration": 13,
    "start_time": "2024-11-16T01:52:27.972Z"
   },
   {
    "duration": 25,
    "start_time": "2024-11-16T01:52:27.986Z"
   },
   {
    "duration": 35,
    "start_time": "2024-11-16T01:52:28.013Z"
   },
   {
    "duration": 0,
    "start_time": "2024-11-16T01:52:28.052Z"
   },
   {
    "duration": 0,
    "start_time": "2024-11-16T01:52:28.056Z"
   },
   {
    "duration": 0,
    "start_time": "2024-11-16T01:52:28.058Z"
   },
   {
    "duration": 0,
    "start_time": "2024-11-16T01:52:28.058Z"
   },
   {
    "duration": 0,
    "start_time": "2024-11-16T01:52:28.059Z"
   },
   {
    "duration": 0,
    "start_time": "2024-11-16T01:52:28.060Z"
   },
   {
    "duration": 0,
    "start_time": "2024-11-16T01:52:28.063Z"
   },
   {
    "duration": 0,
    "start_time": "2024-11-16T01:52:28.064Z"
   },
   {
    "duration": 0,
    "start_time": "2024-11-16T01:52:28.065Z"
   },
   {
    "duration": 0,
    "start_time": "2024-11-16T01:52:28.066Z"
   },
   {
    "duration": 0,
    "start_time": "2024-11-16T01:52:28.067Z"
   },
   {
    "duration": 0,
    "start_time": "2024-11-16T01:52:28.069Z"
   },
   {
    "duration": 0,
    "start_time": "2024-11-16T01:52:28.070Z"
   },
   {
    "duration": 0,
    "start_time": "2024-11-16T01:52:28.071Z"
   },
   {
    "duration": 27,
    "start_time": "2024-11-16T01:52:49.898Z"
   },
   {
    "duration": 28,
    "start_time": "2024-11-16T01:53:12.858Z"
   },
   {
    "duration": 27,
    "start_time": "2024-11-16T01:53:17.622Z"
   },
   {
    "duration": 13,
    "start_time": "2024-11-16T01:54:12.946Z"
   },
   {
    "duration": 15,
    "start_time": "2024-11-16T01:54:22.422Z"
   },
   {
    "duration": 28,
    "start_time": "2024-11-16T01:56:08.635Z"
   },
   {
    "duration": 17,
    "start_time": "2024-11-16T01:57:22.173Z"
   },
   {
    "duration": 15,
    "start_time": "2024-11-16T01:57:32.268Z"
   },
   {
    "duration": 22,
    "start_time": "2024-11-16T01:57:46.741Z"
   },
   {
    "duration": 24,
    "start_time": "2024-11-16T01:58:50.415Z"
   },
   {
    "duration": 27,
    "start_time": "2024-11-16T01:59:15.233Z"
   },
   {
    "duration": 23,
    "start_time": "2024-11-16T01:59:42.893Z"
   },
   {
    "duration": 14,
    "start_time": "2024-11-16T02:00:47.666Z"
   },
   {
    "duration": 5,
    "start_time": "2024-11-16T02:04:39.715Z"
   },
   {
    "duration": 15,
    "start_time": "2024-11-16T02:04:47.090Z"
   },
   {
    "duration": 17,
    "start_time": "2024-11-16T02:05:06.204Z"
   },
   {
    "duration": 21,
    "start_time": "2024-11-16T02:05:22.934Z"
   },
   {
    "duration": 18,
    "start_time": "2024-11-16T02:05:32.618Z"
   },
   {
    "duration": 18,
    "start_time": "2024-11-16T02:05:34.789Z"
   },
   {
    "duration": 15,
    "start_time": "2024-11-16T02:05:44.045Z"
   },
   {
    "duration": 26,
    "start_time": "2024-11-16T02:06:15.556Z"
   },
   {
    "duration": 15,
    "start_time": "2024-11-16T02:06:31.507Z"
   },
   {
    "duration": 3,
    "start_time": "2024-11-16T02:06:35.855Z"
   },
   {
    "duration": 158,
    "start_time": "2024-11-16T02:06:35.862Z"
   },
   {
    "duration": 8,
    "start_time": "2024-11-16T02:06:36.022Z"
   },
   {
    "duration": 7,
    "start_time": "2024-11-16T02:06:36.032Z"
   },
   {
    "duration": 3,
    "start_time": "2024-11-16T02:06:36.041Z"
   },
   {
    "duration": 6,
    "start_time": "2024-11-16T02:06:36.046Z"
   },
   {
    "duration": 8,
    "start_time": "2024-11-16T02:06:36.054Z"
   },
   {
    "duration": 8,
    "start_time": "2024-11-16T02:06:36.063Z"
   },
   {
    "duration": 40,
    "start_time": "2024-11-16T02:06:36.072Z"
   },
   {
    "duration": 8,
    "start_time": "2024-11-16T02:06:36.114Z"
   },
   {
    "duration": 15,
    "start_time": "2024-11-16T02:06:36.124Z"
   },
   {
    "duration": 7,
    "start_time": "2024-11-16T02:06:36.141Z"
   },
   {
    "duration": 17,
    "start_time": "2024-11-16T02:06:36.150Z"
   },
   {
    "duration": 72,
    "start_time": "2024-11-16T02:06:36.169Z"
   },
   {
    "duration": 11,
    "start_time": "2024-11-16T02:06:36.244Z"
   },
   {
    "duration": 6,
    "start_time": "2024-11-16T02:06:36.257Z"
   },
   {
    "duration": 14,
    "start_time": "2024-11-16T02:06:36.265Z"
   },
   {
    "duration": 43,
    "start_time": "2024-11-16T02:06:36.281Z"
   },
   {
    "duration": 14,
    "start_time": "2024-11-16T02:06:36.326Z"
   },
   {
    "duration": 7,
    "start_time": "2024-11-16T02:06:36.341Z"
   },
   {
    "duration": 11,
    "start_time": "2024-11-16T02:06:36.349Z"
   },
   {
    "duration": 73,
    "start_time": "2024-11-16T02:06:36.362Z"
   },
   {
    "duration": 15,
    "start_time": "2024-11-16T02:06:36.436Z"
   },
   {
    "duration": 13,
    "start_time": "2024-11-16T02:06:36.453Z"
   },
   {
    "duration": 9,
    "start_time": "2024-11-16T02:06:36.468Z"
   },
   {
    "duration": 33,
    "start_time": "2024-11-16T02:06:36.479Z"
   },
   {
    "duration": 17,
    "start_time": "2024-11-16T02:06:37.611Z"
   },
   {
    "duration": 19,
    "start_time": "2024-11-16T02:06:54.971Z"
   },
   {
    "duration": 3,
    "start_time": "2024-11-16T02:06:55.851Z"
   },
   {
    "duration": 3,
    "start_time": "2024-11-16T02:07:51.090Z"
   },
   {
    "duration": 356,
    "start_time": "2024-11-16T02:08:05.337Z"
   },
   {
    "duration": 74,
    "start_time": "2024-11-16T02:08:20.677Z"
   },
   {
    "duration": 92,
    "start_time": "2024-11-16T02:15:27.285Z"
   },
   {
    "duration": 6,
    "start_time": "2024-11-16T02:16:35.160Z"
   },
   {
    "duration": 9,
    "start_time": "2024-11-16T02:16:38.628Z"
   },
   {
    "duration": 129,
    "start_time": "2024-11-16T02:17:15.868Z"
   },
   {
    "duration": 11,
    "start_time": "2024-11-16T02:17:22.560Z"
   },
   {
    "duration": 18,
    "start_time": "2024-11-16T02:17:25.172Z"
   },
   {
    "duration": 18,
    "start_time": "2024-11-16T02:17:26.792Z"
   },
   {
    "duration": 3,
    "start_time": "2024-11-16T02:17:27.596Z"
   },
   {
    "duration": 9,
    "start_time": "2024-11-16T02:17:28.916Z"
   },
   {
    "duration": 73,
    "start_time": "2024-11-16T02:17:30.472Z"
   },
   {
    "duration": 12,
    "start_time": "2024-11-16T02:19:40.257Z"
   },
   {
    "duration": 17,
    "start_time": "2024-11-16T02:19:44.098Z"
   },
   {
    "duration": 18,
    "start_time": "2024-11-16T02:19:45.553Z"
   },
   {
    "duration": 3,
    "start_time": "2024-11-16T02:19:46.573Z"
   },
   {
    "duration": 11,
    "start_time": "2024-11-16T02:19:47.600Z"
   },
   {
    "duration": 75,
    "start_time": "2024-11-16T02:20:12.120Z"
   },
   {
    "duration": 2,
    "start_time": "2024-11-16T02:21:19.234Z"
   },
   {
    "duration": 159,
    "start_time": "2024-11-16T02:21:19.239Z"
   },
   {
    "duration": 8,
    "start_time": "2024-11-16T02:21:19.400Z"
   },
   {
    "duration": 7,
    "start_time": "2024-11-16T02:21:19.410Z"
   },
   {
    "duration": 3,
    "start_time": "2024-11-16T02:21:19.420Z"
   },
   {
    "duration": 6,
    "start_time": "2024-11-16T02:21:19.425Z"
   },
   {
    "duration": 9,
    "start_time": "2024-11-16T02:21:19.432Z"
   },
   {
    "duration": 9,
    "start_time": "2024-11-16T02:21:19.442Z"
   },
   {
    "duration": 9,
    "start_time": "2024-11-16T02:21:19.452Z"
   },
   {
    "duration": 5,
    "start_time": "2024-11-16T02:21:19.462Z"
   },
   {
    "duration": 51,
    "start_time": "2024-11-16T02:21:19.469Z"
   },
   {
    "duration": 6,
    "start_time": "2024-11-16T02:21:19.521Z"
   },
   {
    "duration": 15,
    "start_time": "2024-11-16T02:21:19.529Z"
   },
   {
    "duration": 63,
    "start_time": "2024-11-16T02:21:19.549Z"
   },
   {
    "duration": 13,
    "start_time": "2024-11-16T02:21:19.614Z"
   },
   {
    "duration": 5,
    "start_time": "2024-11-16T02:21:19.629Z"
   },
   {
    "duration": 15,
    "start_time": "2024-11-16T02:21:19.636Z"
   },
   {
    "duration": 24,
    "start_time": "2024-11-16T02:21:19.652Z"
   },
   {
    "duration": 36,
    "start_time": "2024-11-16T02:21:19.678Z"
   },
   {
    "duration": 6,
    "start_time": "2024-11-16T02:21:19.716Z"
   },
   {
    "duration": 12,
    "start_time": "2024-11-16T02:21:19.724Z"
   },
   {
    "duration": 71,
    "start_time": "2024-11-16T02:21:19.737Z"
   },
   {
    "duration": 16,
    "start_time": "2024-11-16T02:21:19.810Z"
   },
   {
    "duration": 13,
    "start_time": "2024-11-16T02:21:19.827Z"
   },
   {
    "duration": 9,
    "start_time": "2024-11-16T02:21:19.842Z"
   },
   {
    "duration": 13,
    "start_time": "2024-11-16T02:21:19.853Z"
   },
   {
    "duration": 42,
    "start_time": "2024-11-16T02:21:19.867Z"
   },
   {
    "duration": 3,
    "start_time": "2024-11-16T02:21:19.910Z"
   },
   {
    "duration": 8,
    "start_time": "2024-11-16T02:21:19.914Z"
   },
   {
    "duration": 85,
    "start_time": "2024-11-16T02:21:19.924Z"
   },
   {
    "duration": 0,
    "start_time": "2024-11-16T02:21:20.010Z"
   },
   {
    "duration": 0,
    "start_time": "2024-11-16T02:21:20.011Z"
   },
   {
    "duration": 0,
    "start_time": "2024-11-16T02:21:20.012Z"
   },
   {
    "duration": 0,
    "start_time": "2024-11-16T02:21:20.013Z"
   },
   {
    "duration": 0,
    "start_time": "2024-11-16T02:21:20.015Z"
   },
   {
    "duration": 0,
    "start_time": "2024-11-16T02:21:20.016Z"
   },
   {
    "duration": 0,
    "start_time": "2024-11-16T02:21:20.016Z"
   },
   {
    "duration": 0,
    "start_time": "2024-11-16T02:21:20.017Z"
   },
   {
    "duration": 0,
    "start_time": "2024-11-16T02:21:20.018Z"
   },
   {
    "duration": 0,
    "start_time": "2024-11-16T02:21:20.020Z"
   },
   {
    "duration": 0,
    "start_time": "2024-11-16T02:21:20.020Z"
   },
   {
    "duration": 14,
    "start_time": "2024-11-16T02:23:19.929Z"
   },
   {
    "duration": 3,
    "start_time": "2024-11-16T02:23:26.759Z"
   },
   {
    "duration": 155,
    "start_time": "2024-11-16T02:23:26.765Z"
   },
   {
    "duration": 9,
    "start_time": "2024-11-16T02:23:26.922Z"
   },
   {
    "duration": 10,
    "start_time": "2024-11-16T02:23:26.932Z"
   },
   {
    "duration": 3,
    "start_time": "2024-11-16T02:23:26.944Z"
   },
   {
    "duration": 8,
    "start_time": "2024-11-16T02:23:26.949Z"
   },
   {
    "duration": 4,
    "start_time": "2024-11-16T02:23:27.630Z"
   },
   {
    "duration": 4,
    "start_time": "2024-11-16T02:23:46.109Z"
   },
   {
    "duration": 74,
    "start_time": "2024-11-16T02:24:06.089Z"
   },
   {
    "duration": 3,
    "start_time": "2024-11-16T02:24:52.932Z"
   },
   {
    "duration": 4,
    "start_time": "2024-11-16T02:25:06.465Z"
   },
   {
    "duration": 5,
    "start_time": "2024-11-16T02:25:24.562Z"
   },
   {
    "duration": 4,
    "start_time": "2024-11-16T02:25:30.688Z"
   },
   {
    "duration": 5,
    "start_time": "2024-11-16T02:25:40.235Z"
   },
   {
    "duration": 66,
    "start_time": "2024-11-16T02:25:52.657Z"
   },
   {
    "duration": 41,
    "start_time": "2024-11-16T02:25:55.981Z"
   },
   {
    "duration": 14,
    "start_time": "2024-11-16T02:27:38.082Z"
   },
   {
    "duration": 3,
    "start_time": "2024-11-16T02:27:42.310Z"
   },
   {
    "duration": 167,
    "start_time": "2024-11-16T02:27:42.318Z"
   },
   {
    "duration": 13,
    "start_time": "2024-11-16T02:27:42.487Z"
   },
   {
    "duration": 0,
    "start_time": "2024-11-16T02:27:42.503Z"
   },
   {
    "duration": 0,
    "start_time": "2024-11-16T02:27:42.504Z"
   },
   {
    "duration": 0,
    "start_time": "2024-11-16T02:27:42.508Z"
   },
   {
    "duration": 0,
    "start_time": "2024-11-16T02:27:42.509Z"
   },
   {
    "duration": 0,
    "start_time": "2024-11-16T02:27:42.511Z"
   },
   {
    "duration": 0,
    "start_time": "2024-11-16T02:27:42.511Z"
   },
   {
    "duration": 0,
    "start_time": "2024-11-16T02:27:42.512Z"
   },
   {
    "duration": 0,
    "start_time": "2024-11-16T02:27:42.513Z"
   },
   {
    "duration": 0,
    "start_time": "2024-11-16T02:27:42.514Z"
   },
   {
    "duration": 0,
    "start_time": "2024-11-16T02:27:42.515Z"
   },
   {
    "duration": 0,
    "start_time": "2024-11-16T02:27:42.517Z"
   },
   {
    "duration": 0,
    "start_time": "2024-11-16T02:27:42.518Z"
   },
   {
    "duration": 0,
    "start_time": "2024-11-16T02:27:42.520Z"
   },
   {
    "duration": 0,
    "start_time": "2024-11-16T02:27:42.521Z"
   },
   {
    "duration": 0,
    "start_time": "2024-11-16T02:27:42.523Z"
   },
   {
    "duration": 0,
    "start_time": "2024-11-16T02:27:42.526Z"
   },
   {
    "duration": 0,
    "start_time": "2024-11-16T02:27:42.527Z"
   },
   {
    "duration": 0,
    "start_time": "2024-11-16T02:27:42.528Z"
   },
   {
    "duration": 0,
    "start_time": "2024-11-16T02:27:42.530Z"
   },
   {
    "duration": 0,
    "start_time": "2024-11-16T02:27:42.531Z"
   },
   {
    "duration": 0,
    "start_time": "2024-11-16T02:27:42.533Z"
   },
   {
    "duration": 0,
    "start_time": "2024-11-16T02:27:42.534Z"
   },
   {
    "duration": 0,
    "start_time": "2024-11-16T02:27:42.535Z"
   },
   {
    "duration": 0,
    "start_time": "2024-11-16T02:27:42.537Z"
   },
   {
    "duration": 0,
    "start_time": "2024-11-16T02:27:42.538Z"
   },
   {
    "duration": 0,
    "start_time": "2024-11-16T02:27:42.540Z"
   },
   {
    "duration": 14,
    "start_time": "2024-11-16T02:27:43.755Z"
   },
   {
    "duration": 3,
    "start_time": "2024-11-16T02:28:01.525Z"
   },
   {
    "duration": 155,
    "start_time": "2024-11-16T02:28:01.530Z"
   },
   {
    "duration": 9,
    "start_time": "2024-11-16T02:28:01.687Z"
   },
   {
    "duration": 11,
    "start_time": "2024-11-16T02:28:01.699Z"
   },
   {
    "duration": 4,
    "start_time": "2024-11-16T02:28:01.711Z"
   },
   {
    "duration": 5,
    "start_time": "2024-11-16T02:28:01.716Z"
   },
   {
    "duration": 10,
    "start_time": "2024-11-16T02:28:01.723Z"
   },
   {
    "duration": 8,
    "start_time": "2024-11-16T02:28:01.734Z"
   },
   {
    "duration": 7,
    "start_time": "2024-11-16T02:28:01.744Z"
   },
   {
    "duration": 7,
    "start_time": "2024-11-16T02:28:01.752Z"
   },
   {
    "duration": 54,
    "start_time": "2024-11-16T02:28:01.760Z"
   },
   {
    "duration": 6,
    "start_time": "2024-11-16T02:28:01.816Z"
   },
   {
    "duration": 15,
    "start_time": "2024-11-16T02:28:01.824Z"
   },
   {
    "duration": 37,
    "start_time": "2024-11-16T02:28:01.841Z"
   },
   {
    "duration": 33,
    "start_time": "2024-11-16T02:28:01.880Z"
   },
   {
    "duration": 7,
    "start_time": "2024-11-16T02:28:01.914Z"
   },
   {
    "duration": 15,
    "start_time": "2024-11-16T02:28:01.922Z"
   },
   {
    "duration": 23,
    "start_time": "2024-11-16T02:28:01.938Z"
   },
   {
    "duration": 16,
    "start_time": "2024-11-16T02:28:01.963Z"
   },
   {
    "duration": 31,
    "start_time": "2024-11-16T02:28:01.980Z"
   },
   {
    "duration": 12,
    "start_time": "2024-11-16T02:28:02.012Z"
   },
   {
    "duration": 42,
    "start_time": "2024-11-16T02:28:02.025Z"
   },
   {
    "duration": 13,
    "start_time": "2024-11-16T02:28:02.068Z"
   },
   {
    "duration": 12,
    "start_time": "2024-11-16T02:28:02.110Z"
   },
   {
    "duration": 9,
    "start_time": "2024-11-16T02:28:02.123Z"
   },
   {
    "duration": 12,
    "start_time": "2024-11-16T02:28:02.133Z"
   },
   {
    "duration": 18,
    "start_time": "2024-11-16T02:28:02.146Z"
   },
   {
    "duration": 4,
    "start_time": "2024-11-16T02:28:02.165Z"
   },
   {
    "duration": 63,
    "start_time": "2024-11-16T02:28:02.170Z"
   },
   {
    "duration": 0,
    "start_time": "2024-11-16T02:28:02.235Z"
   },
   {
    "duration": 0,
    "start_time": "2024-11-16T02:28:02.236Z"
   },
   {
    "duration": 0,
    "start_time": "2024-11-16T02:28:02.237Z"
   },
   {
    "duration": 0,
    "start_time": "2024-11-16T02:28:02.237Z"
   },
   {
    "duration": 0,
    "start_time": "2024-11-16T02:28:02.238Z"
   },
   {
    "duration": 0,
    "start_time": "2024-11-16T02:28:02.239Z"
   },
   {
    "duration": 0,
    "start_time": "2024-11-16T02:28:02.240Z"
   },
   {
    "duration": 0,
    "start_time": "2024-11-16T02:28:02.242Z"
   },
   {
    "duration": 0,
    "start_time": "2024-11-16T02:28:02.243Z"
   },
   {
    "duration": 0,
    "start_time": "2024-11-16T02:28:02.245Z"
   },
   {
    "duration": 0,
    "start_time": "2024-11-16T02:28:02.246Z"
   },
   {
    "duration": 0,
    "start_time": "2024-11-16T02:28:02.247Z"
   },
   {
    "duration": 41,
    "start_time": "2024-11-16T02:28:09.269Z"
   },
   {
    "duration": 4,
    "start_time": "2024-11-16T02:28:28.417Z"
   },
   {
    "duration": 4,
    "start_time": "2024-11-16T02:28:40.124Z"
   },
   {
    "duration": 77,
    "start_time": "2024-11-16T02:28:58.583Z"
   },
   {
    "duration": 5,
    "start_time": "2024-11-16T02:30:09.531Z"
   },
   {
    "duration": 4,
    "start_time": "2024-11-16T02:31:10.245Z"
   },
   {
    "duration": 261,
    "start_time": "2024-11-16T02:33:17.836Z"
   },
   {
    "duration": 29,
    "start_time": "2024-11-16T02:33:29.266Z"
   },
   {
    "duration": 25,
    "start_time": "2024-11-16T02:34:07.613Z"
   },
   {
    "duration": 3,
    "start_time": "2024-11-16T02:34:11.751Z"
   },
   {
    "duration": 81,
    "start_time": "2024-11-16T02:34:12.585Z"
   },
   {
    "duration": 81,
    "start_time": "2024-11-16T02:34:15.539Z"
   },
   {
    "duration": 3,
    "start_time": "2024-11-16T02:34:52.330Z"
   },
   {
    "duration": 161,
    "start_time": "2024-11-16T02:34:52.335Z"
   },
   {
    "duration": 9,
    "start_time": "2024-11-16T02:34:52.498Z"
   },
   {
    "duration": 7,
    "start_time": "2024-11-16T02:34:52.510Z"
   },
   {
    "duration": 4,
    "start_time": "2024-11-16T02:34:52.519Z"
   },
   {
    "duration": 6,
    "start_time": "2024-11-16T02:34:52.524Z"
   },
   {
    "duration": 8,
    "start_time": "2024-11-16T02:34:52.532Z"
   },
   {
    "duration": 8,
    "start_time": "2024-11-16T02:34:52.542Z"
   },
   {
    "duration": 8,
    "start_time": "2024-11-16T02:34:52.551Z"
   },
   {
    "duration": 6,
    "start_time": "2024-11-16T02:34:52.561Z"
   },
   {
    "duration": 56,
    "start_time": "2024-11-16T02:34:52.568Z"
   },
   {
    "duration": 7,
    "start_time": "2024-11-16T02:34:52.626Z"
   },
   {
    "duration": 19,
    "start_time": "2024-11-16T02:34:52.635Z"
   },
   {
    "duration": 60,
    "start_time": "2024-11-16T02:34:52.659Z"
   },
   {
    "duration": 11,
    "start_time": "2024-11-16T02:34:52.721Z"
   },
   {
    "duration": 6,
    "start_time": "2024-11-16T02:34:52.734Z"
   },
   {
    "duration": 14,
    "start_time": "2024-11-16T02:34:52.743Z"
   },
   {
    "duration": 22,
    "start_time": "2024-11-16T02:34:52.759Z"
   },
   {
    "duration": 39,
    "start_time": "2024-11-16T02:34:52.782Z"
   },
   {
    "duration": 7,
    "start_time": "2024-11-16T02:34:52.823Z"
   },
   {
    "duration": 12,
    "start_time": "2024-11-16T02:34:52.832Z"
   },
   {
    "duration": 65,
    "start_time": "2024-11-16T02:34:52.845Z"
   },
   {
    "duration": 13,
    "start_time": "2024-11-16T02:34:52.911Z"
   },
   {
    "duration": 11,
    "start_time": "2024-11-16T02:34:52.925Z"
   },
   {
    "duration": 9,
    "start_time": "2024-11-16T02:34:52.937Z"
   },
   {
    "duration": 14,
    "start_time": "2024-11-16T02:34:54.665Z"
   },
   {
    "duration": 26,
    "start_time": "2024-11-16T02:34:56.101Z"
   },
   {
    "duration": 13,
    "start_time": "2024-11-16T02:35:34.840Z"
   },
   {
    "duration": 36,
    "start_time": "2024-11-16T02:35:38.337Z"
   },
   {
    "duration": 3,
    "start_time": "2024-11-16T02:36:03.019Z"
   },
   {
    "duration": 81,
    "start_time": "2024-11-16T02:36:03.853Z"
   },
   {
    "duration": 25,
    "start_time": "2024-11-16T02:40:39.625Z"
   },
   {
    "duration": 23,
    "start_time": "2024-11-16T02:40:49.173Z"
   },
   {
    "duration": 3,
    "start_time": "2024-11-16T02:40:51.929Z"
   },
   {
    "duration": 78,
    "start_time": "2024-11-16T02:40:52.740Z"
   },
   {
    "duration": 3,
    "start_time": "2024-11-16T02:42:19.779Z"
   },
   {
    "duration": 156,
    "start_time": "2024-11-16T02:42:19.784Z"
   },
   {
    "duration": 9,
    "start_time": "2024-11-16T02:42:19.941Z"
   },
   {
    "duration": 7,
    "start_time": "2024-11-16T02:42:19.951Z"
   },
   {
    "duration": 3,
    "start_time": "2024-11-16T02:42:19.960Z"
   },
   {
    "duration": 5,
    "start_time": "2024-11-16T02:42:19.965Z"
   },
   {
    "duration": 8,
    "start_time": "2024-11-16T02:42:19.972Z"
   },
   {
    "duration": 32,
    "start_time": "2024-11-16T02:42:19.981Z"
   },
   {
    "duration": 7,
    "start_time": "2024-11-16T02:42:20.015Z"
   },
   {
    "duration": 5,
    "start_time": "2024-11-16T02:42:20.024Z"
   },
   {
    "duration": 15,
    "start_time": "2024-11-16T02:42:20.032Z"
   },
   {
    "duration": 7,
    "start_time": "2024-11-16T02:42:20.048Z"
   },
   {
    "duration": 16,
    "start_time": "2024-11-16T02:42:20.056Z"
   },
   {
    "duration": 42,
    "start_time": "2024-11-16T02:42:20.108Z"
   },
   {
    "duration": 12,
    "start_time": "2024-11-16T02:42:20.152Z"
   },
   {
    "duration": 6,
    "start_time": "2024-11-16T02:42:20.166Z"
   },
   {
    "duration": 35,
    "start_time": "2024-11-16T02:42:20.174Z"
   },
   {
    "duration": 21,
    "start_time": "2024-11-16T02:42:20.210Z"
   },
   {
    "duration": 13,
    "start_time": "2024-11-16T02:42:20.233Z"
   },
   {
    "duration": 6,
    "start_time": "2024-11-16T02:42:20.248Z"
   },
   {
    "duration": 12,
    "start_time": "2024-11-16T02:42:20.256Z"
   },
   {
    "duration": 69,
    "start_time": "2024-11-16T02:42:20.269Z"
   },
   {
    "duration": 13,
    "start_time": "2024-11-16T02:42:20.340Z"
   },
   {
    "duration": 16,
    "start_time": "2024-11-16T02:42:20.355Z"
   },
   {
    "duration": 10,
    "start_time": "2024-11-16T02:42:22.075Z"
   },
   {
    "duration": 12,
    "start_time": "2024-11-16T02:42:22.555Z"
   },
   {
    "duration": 23,
    "start_time": "2024-11-16T02:42:23.007Z"
   },
   {
    "duration": 4,
    "start_time": "2024-11-16T02:42:24.363Z"
   },
   {
    "duration": 76,
    "start_time": "2024-11-16T02:43:06.761Z"
   },
   {
    "duration": 15,
    "start_time": "2024-11-16T02:43:55.360Z"
   },
   {
    "duration": 25,
    "start_time": "2024-11-16T02:44:09.020Z"
   },
   {
    "duration": 15,
    "start_time": "2024-11-16T02:45:19.258Z"
   },
   {
    "duration": 2,
    "start_time": "2024-11-16T02:45:22.108Z"
   },
   {
    "duration": 169,
    "start_time": "2024-11-16T02:45:22.113Z"
   },
   {
    "duration": 9,
    "start_time": "2024-11-16T02:45:22.284Z"
   },
   {
    "duration": 14,
    "start_time": "2024-11-16T02:45:22.296Z"
   },
   {
    "duration": 4,
    "start_time": "2024-11-16T02:45:22.311Z"
   },
   {
    "duration": 5,
    "start_time": "2024-11-16T02:45:22.316Z"
   },
   {
    "duration": 7,
    "start_time": "2024-11-16T02:45:22.323Z"
   },
   {
    "duration": 8,
    "start_time": "2024-11-16T02:45:22.332Z"
   },
   {
    "duration": 7,
    "start_time": "2024-11-16T02:45:22.342Z"
   },
   {
    "duration": 5,
    "start_time": "2024-11-16T02:45:22.351Z"
   },
   {
    "duration": 55,
    "start_time": "2024-11-16T02:45:22.358Z"
   },
   {
    "duration": 7,
    "start_time": "2024-11-16T02:45:22.414Z"
   },
   {
    "duration": 16,
    "start_time": "2024-11-16T02:45:22.423Z"
   },
   {
    "duration": 39,
    "start_time": "2024-11-16T02:45:22.440Z"
   },
   {
    "duration": 32,
    "start_time": "2024-11-16T02:45:22.481Z"
   },
   {
    "duration": 6,
    "start_time": "2024-11-16T02:45:22.514Z"
   },
   {
    "duration": 13,
    "start_time": "2024-11-16T02:45:22.522Z"
   },
   {
    "duration": 21,
    "start_time": "2024-11-16T02:45:22.537Z"
   },
   {
    "duration": 14,
    "start_time": "2024-11-16T02:45:22.559Z"
   },
   {
    "duration": 35,
    "start_time": "2024-11-16T02:45:22.574Z"
   },
   {
    "duration": 12,
    "start_time": "2024-11-16T02:45:22.610Z"
   },
   {
    "duration": 50,
    "start_time": "2024-11-16T02:45:22.624Z"
   },
   {
    "duration": 44,
    "start_time": "2024-11-16T02:45:22.675Z"
   },
   {
    "duration": 0,
    "start_time": "2024-11-16T02:45:22.721Z"
   },
   {
    "duration": 0,
    "start_time": "2024-11-16T02:45:22.723Z"
   },
   {
    "duration": 0,
    "start_time": "2024-11-16T02:45:22.724Z"
   },
   {
    "duration": 0,
    "start_time": "2024-11-16T02:45:22.725Z"
   },
   {
    "duration": 0,
    "start_time": "2024-11-16T02:45:22.726Z"
   },
   {
    "duration": 0,
    "start_time": "2024-11-16T02:45:22.727Z"
   },
   {
    "duration": 0,
    "start_time": "2024-11-16T02:45:22.729Z"
   },
   {
    "duration": 0,
    "start_time": "2024-11-16T02:45:22.729Z"
   },
   {
    "duration": 0,
    "start_time": "2024-11-16T02:45:22.730Z"
   },
   {
    "duration": 0,
    "start_time": "2024-11-16T02:45:22.731Z"
   },
   {
    "duration": 0,
    "start_time": "2024-11-16T02:45:22.733Z"
   },
   {
    "duration": 0,
    "start_time": "2024-11-16T02:45:22.734Z"
   },
   {
    "duration": 0,
    "start_time": "2024-11-16T02:45:22.735Z"
   },
   {
    "duration": 0,
    "start_time": "2024-11-16T02:45:22.737Z"
   },
   {
    "duration": 0,
    "start_time": "2024-11-16T02:45:22.738Z"
   },
   {
    "duration": 0,
    "start_time": "2024-11-16T02:45:22.740Z"
   },
   {
    "duration": 0,
    "start_time": "2024-11-16T02:45:22.741Z"
   },
   {
    "duration": 24,
    "start_time": "2024-11-16T02:45:33.489Z"
   },
   {
    "duration": 4,
    "start_time": "2024-11-16T02:45:34.457Z"
   },
   {
    "duration": 26,
    "start_time": "2024-11-16T02:45:35.117Z"
   },
   {
    "duration": 15,
    "start_time": "2024-11-16T02:46:30.387Z"
   },
   {
    "duration": 15,
    "start_time": "2024-11-16T02:46:33.479Z"
   },
   {
    "duration": 25,
    "start_time": "2024-11-16T02:47:21.600Z"
   },
   {
    "duration": 15,
    "start_time": "2024-11-16T02:49:04.956Z"
   },
   {
    "duration": 10,
    "start_time": "2024-11-16T02:49:06.409Z"
   },
   {
    "duration": 14,
    "start_time": "2024-11-16T02:49:07.360Z"
   },
   {
    "duration": 23,
    "start_time": "2024-11-16T02:49:08.601Z"
   },
   {
    "duration": 15,
    "start_time": "2024-11-16T02:50:05.526Z"
   },
   {
    "duration": 15,
    "start_time": "2024-11-16T02:50:07.108Z"
   },
   {
    "duration": 9,
    "start_time": "2024-11-16T02:50:07.629Z"
   },
   {
    "duration": 13,
    "start_time": "2024-11-16T02:50:09.440Z"
   },
   {
    "duration": 23,
    "start_time": "2024-11-16T02:50:10.115Z"
   },
   {
    "duration": 15,
    "start_time": "2024-11-16T02:50:25.914Z"
   },
   {
    "duration": 40,
    "start_time": "2024-11-16T02:51:39.065Z"
   },
   {
    "duration": 5,
    "start_time": "2024-11-16T02:52:11.689Z"
   },
   {
    "duration": 15,
    "start_time": "2024-11-16T02:52:52.657Z"
   },
   {
    "duration": 3,
    "start_time": "2024-11-16T02:52:54.895Z"
   },
   {
    "duration": 156,
    "start_time": "2024-11-16T02:52:54.900Z"
   },
   {
    "duration": 8,
    "start_time": "2024-11-16T02:52:55.058Z"
   },
   {
    "duration": 8,
    "start_time": "2024-11-16T02:52:55.068Z"
   },
   {
    "duration": 3,
    "start_time": "2024-11-16T02:52:55.079Z"
   },
   {
    "duration": 5,
    "start_time": "2024-11-16T02:52:55.084Z"
   },
   {
    "duration": 7,
    "start_time": "2024-11-16T02:52:55.109Z"
   },
   {
    "duration": 7,
    "start_time": "2024-11-16T02:52:55.118Z"
   },
   {
    "duration": 7,
    "start_time": "2024-11-16T02:52:55.127Z"
   },
   {
    "duration": 5,
    "start_time": "2024-11-16T02:52:55.136Z"
   },
   {
    "duration": 16,
    "start_time": "2024-11-16T02:52:55.142Z"
   },
   {
    "duration": 6,
    "start_time": "2024-11-16T02:52:55.159Z"
   },
   {
    "duration": 46,
    "start_time": "2024-11-16T02:52:55.169Z"
   },
   {
    "duration": 38,
    "start_time": "2024-11-16T02:52:55.218Z"
   },
   {
    "duration": 13,
    "start_time": "2024-11-16T02:52:55.258Z"
   },
   {
    "duration": 6,
    "start_time": "2024-11-16T02:52:55.273Z"
   },
   {
    "duration": 38,
    "start_time": "2024-11-16T02:52:55.281Z"
   },
   {
    "duration": 21,
    "start_time": "2024-11-16T02:52:55.320Z"
   },
   {
    "duration": 13,
    "start_time": "2024-11-16T02:52:55.343Z"
   },
   {
    "duration": 8,
    "start_time": "2024-11-16T02:52:55.357Z"
   },
   {
    "duration": 12,
    "start_time": "2024-11-16T02:52:55.368Z"
   },
   {
    "duration": 65,
    "start_time": "2024-11-16T02:52:55.381Z"
   },
   {
    "duration": 15,
    "start_time": "2024-11-16T02:52:55.448Z"
   },
   {
    "duration": 13,
    "start_time": "2024-11-16T02:52:55.465Z"
   },
   {
    "duration": 15,
    "start_time": "2024-11-16T02:52:56.279Z"
   },
   {
    "duration": 10,
    "start_time": "2024-11-16T02:52:56.761Z"
   },
   {
    "duration": 11,
    "start_time": "2024-11-16T02:52:57.141Z"
   },
   {
    "duration": 23,
    "start_time": "2024-11-16T02:53:00.558Z"
   },
   {
    "duration": 3,
    "start_time": "2024-11-16T02:53:12.847Z"
   },
   {
    "duration": 25,
    "start_time": "2024-11-16T02:53:13.501Z"
   },
   {
    "duration": 3,
    "start_time": "2024-11-16T02:53:17.133Z"
   },
   {
    "duration": 197,
    "start_time": "2024-11-16T02:53:17.140Z"
   },
   {
    "duration": 8,
    "start_time": "2024-11-16T02:53:17.341Z"
   },
   {
    "duration": 7,
    "start_time": "2024-11-16T02:53:17.350Z"
   },
   {
    "duration": 4,
    "start_time": "2024-11-16T02:53:17.359Z"
   },
   {
    "duration": 7,
    "start_time": "2024-11-16T02:53:17.365Z"
   },
   {
    "duration": 9,
    "start_time": "2024-11-16T02:53:17.373Z"
   },
   {
    "duration": 28,
    "start_time": "2024-11-16T02:53:17.384Z"
   },
   {
    "duration": 8,
    "start_time": "2024-11-16T02:53:17.414Z"
   },
   {
    "duration": 6,
    "start_time": "2024-11-16T02:53:17.424Z"
   },
   {
    "duration": 14,
    "start_time": "2024-11-16T02:53:17.434Z"
   },
   {
    "duration": 7,
    "start_time": "2024-11-16T02:53:17.450Z"
   },
   {
    "duration": 15,
    "start_time": "2024-11-16T02:53:17.458Z"
   },
   {
    "duration": 39,
    "start_time": "2024-11-16T02:53:17.510Z"
   },
   {
    "duration": 11,
    "start_time": "2024-11-16T02:53:17.551Z"
   },
   {
    "duration": 5,
    "start_time": "2024-11-16T02:53:17.564Z"
   },
   {
    "duration": 37,
    "start_time": "2024-11-16T02:53:17.571Z"
   },
   {
    "duration": 22,
    "start_time": "2024-11-16T02:53:17.610Z"
   },
   {
    "duration": 13,
    "start_time": "2024-11-16T02:53:17.633Z"
   },
   {
    "duration": 6,
    "start_time": "2024-11-16T02:53:17.648Z"
   },
   {
    "duration": 12,
    "start_time": "2024-11-16T02:53:17.656Z"
   },
   {
    "duration": 67,
    "start_time": "2024-11-16T02:53:17.669Z"
   },
   {
    "duration": 14,
    "start_time": "2024-11-16T02:53:17.738Z"
   },
   {
    "duration": 12,
    "start_time": "2024-11-16T02:53:17.753Z"
   },
   {
    "duration": 9,
    "start_time": "2024-11-16T02:53:17.767Z"
   },
   {
    "duration": 31,
    "start_time": "2024-11-16T02:53:17.778Z"
   },
   {
    "duration": 25,
    "start_time": "2024-11-16T02:53:17.810Z"
   },
   {
    "duration": 4,
    "start_time": "2024-11-16T02:53:17.836Z"
   },
   {
    "duration": 25,
    "start_time": "2024-11-16T02:53:17.844Z"
   },
   {
    "duration": 61,
    "start_time": "2024-11-16T02:56:38.998Z"
   },
   {
    "duration": 27,
    "start_time": "2024-11-16T02:57:19.381Z"
   },
   {
    "duration": 26,
    "start_time": "2024-11-16T02:57:25.197Z"
   },
   {
    "duration": 40,
    "start_time": "2024-11-16T02:57:36.657Z"
   },
   {
    "duration": 234,
    "start_time": "2024-11-16T02:57:40.269Z"
   },
   {
    "duration": 201,
    "start_time": "2024-11-16T02:57:43.911Z"
   },
   {
    "duration": 243,
    "start_time": "2024-11-16T02:59:15.285Z"
   },
   {
    "duration": 233,
    "start_time": "2024-11-16T03:00:25.584Z"
   },
   {
    "duration": 216,
    "start_time": "2024-11-16T03:01:13.103Z"
   },
   {
    "duration": 9,
    "start_time": "2024-11-16T03:02:15.411Z"
   },
   {
    "duration": 13,
    "start_time": "2024-11-16T03:02:17.224Z"
   },
   {
    "duration": 8,
    "start_time": "2024-11-16T03:02:42.986Z"
   },
   {
    "duration": 104,
    "start_time": "2024-11-16T03:03:17.736Z"
   },
   {
    "duration": 207,
    "start_time": "2024-11-16T03:03:37.033Z"
   },
   {
    "duration": 5,
    "start_time": "2024-11-16T03:04:51.186Z"
   },
   {
    "duration": 106,
    "start_time": "2024-11-16T03:08:10.461Z"
   },
   {
    "duration": 120,
    "start_time": "2024-11-16T03:08:44.425Z"
   },
   {
    "duration": 368,
    "start_time": "2024-11-16T03:09:33.450Z"
   },
   {
    "duration": 181,
    "start_time": "2024-11-16T03:09:44.124Z"
   },
   {
    "duration": 176,
    "start_time": "2024-11-16T03:11:16.962Z"
   },
   {
    "duration": 7,
    "start_time": "2024-11-16T03:13:58.728Z"
   },
   {
    "duration": 179,
    "start_time": "2024-11-16T03:14:36.954Z"
   },
   {
    "duration": 5,
    "start_time": "2024-11-16T03:14:47.631Z"
   },
   {
    "duration": 184,
    "start_time": "2024-11-16T03:14:54.762Z"
   },
   {
    "duration": 333,
    "start_time": "2024-11-16T03:15:10.072Z"
   },
   {
    "duration": 180,
    "start_time": "2024-11-16T03:15:30.842Z"
   },
   {
    "duration": 482,
    "start_time": "2024-11-16T03:16:59.273Z"
   },
   {
    "duration": 352,
    "start_time": "2024-11-16T03:17:32.407Z"
   },
   {
    "duration": 227,
    "start_time": "2024-11-16T03:21:31.086Z"
   },
   {
    "duration": 220,
    "start_time": "2024-11-16T03:23:03.156Z"
   },
   {
    "duration": 228,
    "start_time": "2024-11-16T03:23:06.208Z"
   },
   {
    "duration": 5,
    "start_time": "2024-11-16T03:23:33.587Z"
   },
   {
    "duration": 230,
    "start_time": "2024-11-16T03:24:08.049Z"
   },
   {
    "duration": 2,
    "start_time": "2024-11-16T03:24:22.614Z"
   },
   {
    "duration": 177,
    "start_time": "2024-11-16T03:24:22.619Z"
   },
   {
    "duration": 12,
    "start_time": "2024-11-16T03:24:22.798Z"
   },
   {
    "duration": 7,
    "start_time": "2024-11-16T03:24:22.812Z"
   },
   {
    "duration": 3,
    "start_time": "2024-11-16T03:24:22.822Z"
   },
   {
    "duration": 5,
    "start_time": "2024-11-16T03:24:22.827Z"
   },
   {
    "duration": 7,
    "start_time": "2024-11-16T03:24:22.834Z"
   },
   {
    "duration": 7,
    "start_time": "2024-11-16T03:24:22.843Z"
   },
   {
    "duration": 8,
    "start_time": "2024-11-16T03:24:22.852Z"
   },
   {
    "duration": 6,
    "start_time": "2024-11-16T03:24:22.861Z"
   },
   {
    "duration": 14,
    "start_time": "2024-11-16T03:24:22.908Z"
   },
   {
    "duration": 6,
    "start_time": "2024-11-16T03:24:22.924Z"
   },
   {
    "duration": 14,
    "start_time": "2024-11-16T03:24:22.932Z"
   },
   {
    "duration": 39,
    "start_time": "2024-11-16T03:24:22.947Z"
   },
   {
    "duration": 32,
    "start_time": "2024-11-16T03:24:22.988Z"
   },
   {
    "duration": 6,
    "start_time": "2024-11-16T03:24:23.021Z"
   },
   {
    "duration": 14,
    "start_time": "2024-11-16T03:24:23.028Z"
   },
   {
    "duration": 22,
    "start_time": "2024-11-16T03:24:23.044Z"
   },
   {
    "duration": 13,
    "start_time": "2024-11-16T03:24:23.068Z"
   },
   {
    "duration": 7,
    "start_time": "2024-11-16T03:24:23.109Z"
   },
   {
    "duration": 12,
    "start_time": "2024-11-16T03:24:23.117Z"
   },
   {
    "duration": 44,
    "start_time": "2024-11-16T03:24:23.130Z"
   },
   {
    "duration": 35,
    "start_time": "2024-11-16T03:24:23.176Z"
   },
   {
    "duration": 13,
    "start_time": "2024-11-16T03:24:23.212Z"
   },
   {
    "duration": 9,
    "start_time": "2024-11-16T03:24:23.227Z"
   },
   {
    "duration": 12,
    "start_time": "2024-11-16T03:24:23.238Z"
   },
   {
    "duration": 24,
    "start_time": "2024-11-16T03:24:23.252Z"
   },
   {
    "duration": 2,
    "start_time": "2024-11-16T03:24:23.278Z"
   },
   {
    "duration": 24,
    "start_time": "2024-11-16T03:24:23.308Z"
   },
   {
    "duration": 243,
    "start_time": "2024-11-16T03:24:23.334Z"
   },
   {
    "duration": 186,
    "start_time": "2024-11-16T03:24:23.579Z"
   },
   {
    "duration": 7,
    "start_time": "2024-11-16T03:24:23.767Z"
   },
   {
    "duration": 120,
    "start_time": "2024-11-16T03:24:23.776Z"
   },
   {
    "duration": 187,
    "start_time": "2024-11-16T03:24:23.898Z"
   },
   {
    "duration": 183,
    "start_time": "2024-11-16T03:24:24.087Z"
   },
   {
    "duration": 2,
    "start_time": "2024-11-16T03:24:24.272Z"
   },
   {
    "duration": 3,
    "start_time": "2024-11-16T03:24:24.276Z"
   },
   {
    "duration": 2,
    "start_time": "2024-11-16T03:24:24.281Z"
   },
   {
    "duration": 2,
    "start_time": "2024-11-16T03:24:24.285Z"
   },
   {
    "duration": 6,
    "start_time": "2024-11-16T03:24:24.308Z"
   },
   {
    "duration": 6,
    "start_time": "2024-11-16T03:24:24.315Z"
   },
   {
    "duration": 3,
    "start_time": "2024-11-16T03:24:24.323Z"
   },
   {
    "duration": 7,
    "start_time": "2024-11-16T03:24:24.327Z"
   },
   {
    "duration": 219,
    "start_time": "2024-11-16T03:24:38.703Z"
   },
   {
    "duration": 194,
    "start_time": "2024-11-16T03:24:46.684Z"
   },
   {
    "duration": 181,
    "start_time": "2024-11-16T03:24:53.065Z"
   },
   {
    "duration": 225,
    "start_time": "2024-11-16T03:24:57.491Z"
   },
   {
    "duration": 101,
    "start_time": "2024-11-16T03:25:03.360Z"
   },
   {
    "duration": 177,
    "start_time": "2024-11-16T03:25:06.635Z"
   },
   {
    "duration": 177,
    "start_time": "2024-11-16T03:25:13.962Z"
   },
   {
    "duration": 181,
    "start_time": "2024-11-16T03:25:28.009Z"
   },
   {
    "duration": 103,
    "start_time": "2024-11-16T03:27:07.677Z"
   },
   {
    "duration": 184,
    "start_time": "2024-11-16T03:28:26.280Z"
   },
   {
    "duration": 391,
    "start_time": "2024-11-16T03:32:22.868Z"
   },
   {
    "duration": 47,
    "start_time": "2024-11-16T03:33:59.139Z"
   },
   {
    "duration": 3,
    "start_time": "2024-11-16T03:34:06.957Z"
   },
   {
    "duration": 160,
    "start_time": "2024-11-16T03:34:06.963Z"
   },
   {
    "duration": 8,
    "start_time": "2024-11-16T03:34:07.125Z"
   },
   {
    "duration": 31,
    "start_time": "2024-11-16T03:34:07.135Z"
   },
   {
    "duration": 35,
    "start_time": "2024-11-16T03:34:07.168Z"
   },
   {
    "duration": 30,
    "start_time": "2024-11-16T03:34:07.207Z"
   },
   {
    "duration": 20,
    "start_time": "2024-11-16T03:34:07.240Z"
   },
   {
    "duration": 10,
    "start_time": "2024-11-16T03:34:07.262Z"
   },
   {
    "duration": 14,
    "start_time": "2024-11-16T03:34:07.276Z"
   },
   {
    "duration": 7,
    "start_time": "2024-11-16T03:34:07.292Z"
   },
   {
    "duration": 19,
    "start_time": "2024-11-16T03:34:07.300Z"
   },
   {
    "duration": 7,
    "start_time": "2024-11-16T03:34:07.320Z"
   },
   {
    "duration": 16,
    "start_time": "2024-11-16T03:34:07.329Z"
   },
   {
    "duration": 66,
    "start_time": "2024-11-16T03:34:07.347Z"
   },
   {
    "duration": 15,
    "start_time": "2024-11-16T03:34:07.415Z"
   },
   {
    "duration": 5,
    "start_time": "2024-11-16T03:34:07.433Z"
   },
   {
    "duration": 15,
    "start_time": "2024-11-16T03:34:07.440Z"
   },
   {
    "duration": 24,
    "start_time": "2024-11-16T03:34:07.457Z"
   },
   {
    "duration": 41,
    "start_time": "2024-11-16T03:34:07.482Z"
   },
   {
    "duration": 7,
    "start_time": "2024-11-16T03:34:07.524Z"
   },
   {
    "duration": 11,
    "start_time": "2024-11-16T03:34:07.533Z"
   },
   {
    "duration": 41,
    "start_time": "2024-11-16T03:34:07.546Z"
   },
   {
    "duration": 19,
    "start_time": "2024-11-16T03:34:07.609Z"
   },
   {
    "duration": 13,
    "start_time": "2024-11-16T03:34:07.631Z"
   },
   {
    "duration": 8,
    "start_time": "2024-11-16T03:34:07.646Z"
   },
   {
    "duration": 12,
    "start_time": "2024-11-16T03:34:07.656Z"
   },
   {
    "duration": 49,
    "start_time": "2024-11-16T03:34:07.670Z"
   },
   {
    "duration": 4,
    "start_time": "2024-11-16T03:34:07.721Z"
   },
   {
    "duration": 25,
    "start_time": "2024-11-16T03:34:07.726Z"
   },
   {
    "duration": 247,
    "start_time": "2024-11-16T03:34:07.753Z"
   },
   {
    "duration": 189,
    "start_time": "2024-11-16T03:34:08.002Z"
   },
   {
    "duration": 16,
    "start_time": "2024-11-16T03:34:08.193Z"
   },
   {
    "duration": 124,
    "start_time": "2024-11-16T03:34:08.211Z"
   },
   {
    "duration": 187,
    "start_time": "2024-11-16T03:34:08.337Z"
   },
   {
    "duration": 186,
    "start_time": "2024-11-16T03:34:08.525Z"
   },
   {
    "duration": 50,
    "start_time": "2024-11-16T03:34:10.289Z"
   },
   {
    "duration": 47,
    "start_time": "2024-11-16T03:34:33.181Z"
   },
   {
    "duration": 191,
    "start_time": "2024-11-16T03:36:09.590Z"
   },
   {
    "duration": 179,
    "start_time": "2024-11-16T03:37:23.234Z"
   },
   {
    "duration": 182,
    "start_time": "2024-11-16T03:37:28.502Z"
   },
   {
    "duration": 192,
    "start_time": "2024-11-16T03:37:43.924Z"
   },
   {
    "duration": 202,
    "start_time": "2024-11-16T03:37:48.776Z"
   },
   {
    "duration": 205,
    "start_time": "2024-11-16T03:38:06.842Z"
   },
   {
    "duration": 234,
    "start_time": "2024-11-16T03:40:49.769Z"
   },
   {
    "duration": 11,
    "start_time": "2024-11-16T03:41:38.702Z"
   },
   {
    "duration": 10,
    "start_time": "2024-11-16T03:42:00.978Z"
   },
   {
    "duration": 11,
    "start_time": "2024-11-16T03:42:35.148Z"
   },
   {
    "duration": 12,
    "start_time": "2024-11-16T03:42:47.585Z"
   },
   {
    "duration": 11,
    "start_time": "2024-11-16T03:43:24.819Z"
   },
   {
    "duration": 4,
    "start_time": "2024-11-16T03:44:01.566Z"
   },
   {
    "duration": 103,
    "start_time": "2024-11-16T03:45:15.154Z"
   },
   {
    "duration": 3,
    "start_time": "2024-11-16T03:50:12.655Z"
   },
   {
    "duration": 156,
    "start_time": "2024-11-16T03:50:12.660Z"
   },
   {
    "duration": 8,
    "start_time": "2024-11-16T03:50:12.818Z"
   },
   {
    "duration": 7,
    "start_time": "2024-11-16T03:50:12.828Z"
   },
   {
    "duration": 3,
    "start_time": "2024-11-16T03:50:12.837Z"
   },
   {
    "duration": 6,
    "start_time": "2024-11-16T03:50:12.842Z"
   },
   {
    "duration": 7,
    "start_time": "2024-11-16T03:50:12.849Z"
   },
   {
    "duration": 8,
    "start_time": "2024-11-16T03:50:12.858Z"
   },
   {
    "duration": 7,
    "start_time": "2024-11-16T03:50:12.867Z"
   },
   {
    "duration": 5,
    "start_time": "2024-11-16T03:50:12.909Z"
   },
   {
    "duration": 14,
    "start_time": "2024-11-16T03:50:12.916Z"
   },
   {
    "duration": 6,
    "start_time": "2024-11-16T03:50:12.932Z"
   },
   {
    "duration": 15,
    "start_time": "2024-11-16T03:50:12.939Z"
   },
   {
    "duration": 63,
    "start_time": "2024-11-16T03:50:12.957Z"
   },
   {
    "duration": 12,
    "start_time": "2024-11-16T03:50:13.021Z"
   },
   {
    "duration": 5,
    "start_time": "2024-11-16T03:50:13.036Z"
   },
   {
    "duration": 14,
    "start_time": "2024-11-16T03:50:13.043Z"
   },
   {
    "duration": 22,
    "start_time": "2024-11-16T03:50:13.059Z"
   },
   {
    "duration": 38,
    "start_time": "2024-11-16T03:50:13.083Z"
   },
   {
    "duration": 6,
    "start_time": "2024-11-16T03:50:13.123Z"
   },
   {
    "duration": 12,
    "start_time": "2024-11-16T03:50:13.131Z"
   },
   {
    "duration": 41,
    "start_time": "2024-11-16T03:50:13.145Z"
   },
   {
    "duration": 14,
    "start_time": "2024-11-16T03:50:13.209Z"
   },
   {
    "duration": 12,
    "start_time": "2024-11-16T03:50:13.225Z"
   },
   {
    "duration": 9,
    "start_time": "2024-11-16T03:50:13.239Z"
   },
   {
    "duration": 11,
    "start_time": "2024-11-16T03:50:13.249Z"
   },
   {
    "duration": 47,
    "start_time": "2024-11-16T03:50:13.262Z"
   },
   {
    "duration": 3,
    "start_time": "2024-11-16T03:50:13.311Z"
   },
   {
    "duration": 24,
    "start_time": "2024-11-16T03:50:13.316Z"
   },
   {
    "duration": 237,
    "start_time": "2024-11-16T03:50:13.342Z"
   },
   {
    "duration": 190,
    "start_time": "2024-11-16T03:50:13.581Z"
   },
   {
    "duration": 9,
    "start_time": "2024-11-16T03:50:13.773Z"
   },
   {
    "duration": 319,
    "start_time": "2024-11-16T03:50:13.784Z"
   },
   {
    "duration": 188,
    "start_time": "2024-11-16T03:50:14.105Z"
   },
   {
    "duration": 187,
    "start_time": "2024-11-16T03:50:14.295Z"
   },
   {
    "duration": 189,
    "start_time": "2024-11-16T03:50:14.484Z"
   },
   {
    "duration": 10,
    "start_time": "2024-11-16T03:52:13.955Z"
   },
   {
    "duration": 182,
    "start_time": "2024-11-16T03:58:07.868Z"
   },
   {
    "duration": 352,
    "start_time": "2024-11-16T03:58:39.671Z"
   },
   {
    "duration": 21,
    "start_time": "2024-11-16T03:58:56.014Z"
   },
   {
    "duration": 205,
    "start_time": "2024-11-16T03:59:10.946Z"
   },
   {
    "duration": 194,
    "start_time": "2024-11-16T03:59:27.370Z"
   },
   {
    "duration": 185,
    "start_time": "2024-11-16T03:59:50.453Z"
   },
   {
    "duration": 272,
    "start_time": "2024-11-16T04:00:21.822Z"
   },
   {
    "duration": 183,
    "start_time": "2024-11-16T04:00:32.586Z"
   },
   {
    "duration": 188,
    "start_time": "2024-11-16T04:02:02.926Z"
   },
   {
    "duration": 185,
    "start_time": "2024-11-16T04:02:32.626Z"
   },
   {
    "duration": 4,
    "start_time": "2024-11-16T04:02:43.502Z"
   },
   {
    "duration": 178,
    "start_time": "2024-11-16T04:02:54.789Z"
   },
   {
    "duration": 236,
    "start_time": "2024-11-16T04:06:21.374Z"
   },
   {
    "duration": 238,
    "start_time": "2024-11-16T04:06:37.297Z"
   },
   {
    "duration": 232,
    "start_time": "2024-11-16T04:06:50.710Z"
   },
   {
    "duration": 217,
    "start_time": "2024-11-16T04:07:02.438Z"
   },
   {
    "duration": 219,
    "start_time": "2024-11-16T04:07:10.374Z"
   },
   {
    "duration": 92,
    "start_time": "2024-11-16T04:07:18.555Z"
   },
   {
    "duration": 47,
    "start_time": "2024-11-16T04:07:20.674Z"
   },
   {
    "duration": 9,
    "start_time": "2024-11-16T04:07:27.278Z"
   },
   {
    "duration": 221,
    "start_time": "2024-11-16T04:07:30.416Z"
   },
   {
    "duration": 179,
    "start_time": "2024-11-16T04:07:58.178Z"
   },
   {
    "duration": 133,
    "start_time": "2024-11-16T04:08:27.010Z"
   },
   {
    "duration": 467,
    "start_time": "2024-11-16T04:08:46.909Z"
   },
   {
    "duration": 185,
    "start_time": "2024-11-16T04:09:37.843Z"
   },
   {
    "duration": 185,
    "start_time": "2024-11-16T04:09:42.295Z"
   },
   {
    "duration": 183,
    "start_time": "2024-11-16T04:09:49.177Z"
   },
   {
    "duration": 101,
    "start_time": "2024-11-16T04:09:55.395Z"
   },
   {
    "duration": 217,
    "start_time": "2024-11-16T04:10:04.012Z"
   },
   {
    "duration": 208,
    "start_time": "2024-11-16T04:10:15.408Z"
   },
   {
    "duration": 116,
    "start_time": "2024-11-16T04:10:22.251Z"
   },
   {
    "duration": 205,
    "start_time": "2024-11-16T04:10:27.307Z"
   },
   {
    "duration": 3,
    "start_time": "2024-11-16T04:11:07.845Z"
   },
   {
    "duration": 155,
    "start_time": "2024-11-16T04:11:07.850Z"
   },
   {
    "duration": 9,
    "start_time": "2024-11-16T04:11:08.007Z"
   },
   {
    "duration": 8,
    "start_time": "2024-11-16T04:11:08.017Z"
   },
   {
    "duration": 3,
    "start_time": "2024-11-16T04:11:08.028Z"
   },
   {
    "duration": 5,
    "start_time": "2024-11-16T04:11:08.032Z"
   },
   {
    "duration": 7,
    "start_time": "2024-11-16T04:11:08.038Z"
   },
   {
    "duration": 8,
    "start_time": "2024-11-16T04:11:08.047Z"
   },
   {
    "duration": 7,
    "start_time": "2024-11-16T04:11:08.056Z"
   },
   {
    "duration": 49,
    "start_time": "2024-11-16T04:11:08.064Z"
   },
   {
    "duration": 16,
    "start_time": "2024-11-16T04:11:08.115Z"
   },
   {
    "duration": 6,
    "start_time": "2024-11-16T04:11:08.133Z"
   },
   {
    "duration": 14,
    "start_time": "2024-11-16T04:11:08.141Z"
   },
   {
    "duration": 69,
    "start_time": "2024-11-16T04:11:08.157Z"
   },
   {
    "duration": 13,
    "start_time": "2024-11-16T04:11:08.227Z"
   },
   {
    "duration": 6,
    "start_time": "2024-11-16T04:11:08.241Z"
   },
   {
    "duration": 14,
    "start_time": "2024-11-16T04:11:08.248Z"
   },
   {
    "duration": 20,
    "start_time": "2024-11-16T04:11:08.263Z"
   },
   {
    "duration": 14,
    "start_time": "2024-11-16T04:11:08.310Z"
   },
   {
    "duration": 7,
    "start_time": "2024-11-16T04:11:08.325Z"
   },
   {
    "duration": 12,
    "start_time": "2024-11-16T04:11:08.334Z"
   },
   {
    "duration": 62,
    "start_time": "2024-11-16T04:11:08.347Z"
   },
   {
    "duration": 14,
    "start_time": "2024-11-16T04:11:08.411Z"
   },
   {
    "duration": 13,
    "start_time": "2024-11-16T04:11:08.426Z"
   },
   {
    "duration": 9,
    "start_time": "2024-11-16T04:11:08.440Z"
   },
   {
    "duration": 10,
    "start_time": "2024-11-16T04:11:08.450Z"
   },
   {
    "duration": 47,
    "start_time": "2024-11-16T04:11:08.462Z"
   },
   {
    "duration": 3,
    "start_time": "2024-11-16T04:11:08.511Z"
   },
   {
    "duration": 24,
    "start_time": "2024-11-16T04:11:08.518Z"
   },
   {
    "duration": 238,
    "start_time": "2024-11-16T04:11:08.544Z"
   },
   {
    "duration": 194,
    "start_time": "2024-11-16T04:11:08.784Z"
   },
   {
    "duration": 9,
    "start_time": "2024-11-16T04:11:08.979Z"
   },
   {
    "duration": 114,
    "start_time": "2024-11-16T04:11:08.990Z"
   },
   {
    "duration": 189,
    "start_time": "2024-11-16T04:11:09.108Z"
   },
   {
    "duration": 186,
    "start_time": "2024-11-16T04:11:09.299Z"
   },
   {
    "duration": 191,
    "start_time": "2024-11-16T04:11:09.487Z"
   },
   {
    "duration": 201,
    "start_time": "2024-11-16T04:11:09.680Z"
   },
   {
    "duration": 9,
    "start_time": "2024-11-16T04:11:09.883Z"
   },
   {
    "duration": 115,
    "start_time": "2024-11-16T04:11:09.894Z"
   },
   {
    "duration": 213,
    "start_time": "2024-11-16T04:12:44.115Z"
   },
   {
    "duration": 214,
    "start_time": "2024-11-16T04:13:06.991Z"
   },
   {
    "duration": 188,
    "start_time": "2024-11-16T04:13:22.127Z"
   },
   {
    "duration": 195,
    "start_time": "2024-11-16T04:14:14.477Z"
   },
   {
    "duration": 192,
    "start_time": "2024-11-16T04:14:18.618Z"
   },
   {
    "duration": 197,
    "start_time": "2024-11-16T04:14:20.407Z"
   },
   {
    "duration": 9,
    "start_time": "2024-11-16T04:16:07.438Z"
   },
   {
    "duration": 14,
    "start_time": "2024-11-16T04:17:11.093Z"
   },
   {
    "duration": 42,
    "start_time": "2024-11-16T04:17:24.736Z"
   },
   {
    "duration": 44,
    "start_time": "2024-11-16T04:17:48.132Z"
   },
   {
    "duration": 3,
    "start_time": "2024-11-16T04:17:54.147Z"
   },
   {
    "duration": 158,
    "start_time": "2024-11-16T04:17:54.152Z"
   },
   {
    "duration": 9,
    "start_time": "2024-11-16T04:17:54.311Z"
   },
   {
    "duration": 7,
    "start_time": "2024-11-16T04:17:54.322Z"
   },
   {
    "duration": 3,
    "start_time": "2024-11-16T04:17:54.332Z"
   },
   {
    "duration": 5,
    "start_time": "2024-11-16T04:17:54.336Z"
   },
   {
    "duration": 7,
    "start_time": "2024-11-16T04:17:54.343Z"
   },
   {
    "duration": 7,
    "start_time": "2024-11-16T04:17:54.352Z"
   },
   {
    "duration": 8,
    "start_time": "2024-11-16T04:17:54.361Z"
   },
   {
    "duration": 41,
    "start_time": "2024-11-16T04:17:54.371Z"
   },
   {
    "duration": 15,
    "start_time": "2024-11-16T04:17:54.414Z"
   },
   {
    "duration": 7,
    "start_time": "2024-11-16T04:17:54.430Z"
   },
   {
    "duration": 14,
    "start_time": "2024-11-16T04:17:54.439Z"
   },
   {
    "duration": 68,
    "start_time": "2024-11-16T04:17:54.458Z"
   },
   {
    "duration": 12,
    "start_time": "2024-11-16T04:17:54.527Z"
   },
   {
    "duration": 6,
    "start_time": "2024-11-16T04:17:54.541Z"
   },
   {
    "duration": 14,
    "start_time": "2024-11-16T04:17:54.548Z"
   },
   {
    "duration": 45,
    "start_time": "2024-11-16T04:17:54.564Z"
   },
   {
    "duration": 13,
    "start_time": "2024-11-16T04:17:54.611Z"
   },
   {
    "duration": 6,
    "start_time": "2024-11-16T04:17:54.626Z"
   },
   {
    "duration": 12,
    "start_time": "2024-11-16T04:17:54.634Z"
   },
   {
    "duration": 67,
    "start_time": "2024-11-16T04:17:54.647Z"
   },
   {
    "duration": 14,
    "start_time": "2024-11-16T04:17:54.716Z"
   },
   {
    "duration": 13,
    "start_time": "2024-11-16T04:17:54.732Z"
   },
   {
    "duration": 9,
    "start_time": "2024-11-16T04:17:54.746Z"
   },
   {
    "duration": 10,
    "start_time": "2024-11-16T04:17:54.757Z"
   },
   {
    "duration": 47,
    "start_time": "2024-11-16T04:17:54.769Z"
   },
   {
    "duration": 2,
    "start_time": "2024-11-16T04:17:54.818Z"
   },
   {
    "duration": 24,
    "start_time": "2024-11-16T04:17:54.822Z"
   },
   {
    "duration": 462,
    "start_time": "2024-11-16T04:17:54.847Z"
   },
   {
    "duration": 189,
    "start_time": "2024-11-16T04:17:55.310Z"
   },
   {
    "duration": 14,
    "start_time": "2024-11-16T04:17:55.501Z"
   },
   {
    "duration": 108,
    "start_time": "2024-11-16T04:17:55.517Z"
   },
   {
    "duration": 191,
    "start_time": "2024-11-16T04:17:55.626Z"
   },
   {
    "duration": 187,
    "start_time": "2024-11-16T04:17:55.819Z"
   },
   {
    "duration": 189,
    "start_time": "2024-11-16T04:17:56.007Z"
   },
   {
    "duration": 192,
    "start_time": "2024-11-16T04:17:56.198Z"
   },
   {
    "duration": 18,
    "start_time": "2024-11-16T04:17:56.392Z"
   },
   {
    "duration": 104,
    "start_time": "2024-11-16T04:17:56.411Z"
   },
   {
    "duration": 201,
    "start_time": "2024-11-16T04:17:56.516Z"
   },
   {
    "duration": 40,
    "start_time": "2024-11-16T04:17:56.721Z"
   },
   {
    "duration": 28,
    "start_time": "2024-11-16T04:18:53.363Z"
   },
   {
    "duration": 183,
    "start_time": "2024-11-16T04:19:17.267Z"
   },
   {
    "duration": 25,
    "start_time": "2024-11-16T04:19:18.123Z"
   },
   {
    "duration": 42,
    "start_time": "2024-11-16T04:19:33.598Z"
   },
   {
    "duration": 216,
    "start_time": "2024-11-16T04:19:49.916Z"
   },
   {
    "duration": 42,
    "start_time": "2024-11-16T04:19:50.320Z"
   },
   {
    "duration": 3,
    "start_time": "2024-11-16T04:20:20.833Z"
   },
   {
    "duration": 154,
    "start_time": "2024-11-16T04:20:20.838Z"
   },
   {
    "duration": 9,
    "start_time": "2024-11-16T04:20:20.993Z"
   },
   {
    "duration": 6,
    "start_time": "2024-11-16T04:20:21.004Z"
   },
   {
    "duration": 3,
    "start_time": "2024-11-16T04:20:21.014Z"
   },
   {
    "duration": 5,
    "start_time": "2024-11-16T04:20:21.018Z"
   },
   {
    "duration": 9,
    "start_time": "2024-11-16T04:20:21.024Z"
   },
   {
    "duration": 8,
    "start_time": "2024-11-16T04:20:21.034Z"
   },
   {
    "duration": 8,
    "start_time": "2024-11-16T04:20:21.043Z"
   },
   {
    "duration": 6,
    "start_time": "2024-11-16T04:20:21.052Z"
   },
   {
    "duration": 58,
    "start_time": "2024-11-16T04:20:21.059Z"
   },
   {
    "duration": 6,
    "start_time": "2024-11-16T04:20:21.121Z"
   },
   {
    "duration": 16,
    "start_time": "2024-11-16T04:20:21.129Z"
   },
   {
    "duration": 41,
    "start_time": "2024-11-16T04:20:21.148Z"
   },
   {
    "duration": 12,
    "start_time": "2024-11-16T04:20:21.208Z"
   },
   {
    "duration": 6,
    "start_time": "2024-11-16T04:20:21.222Z"
   },
   {
    "duration": 13,
    "start_time": "2024-11-16T04:20:21.230Z"
   },
   {
    "duration": 21,
    "start_time": "2024-11-16T04:20:21.245Z"
   },
   {
    "duration": 41,
    "start_time": "2024-11-16T04:20:21.268Z"
   },
   {
    "duration": 6,
    "start_time": "2024-11-16T04:20:21.311Z"
   },
   {
    "duration": 11,
    "start_time": "2024-11-16T04:20:21.319Z"
   },
   {
    "duration": 39,
    "start_time": "2024-11-16T04:20:21.331Z"
   },
   {
    "duration": 36,
    "start_time": "2024-11-16T04:20:21.372Z"
   },
   {
    "duration": 13,
    "start_time": "2024-11-16T04:20:21.410Z"
   },
   {
    "duration": 9,
    "start_time": "2024-11-16T04:20:21.424Z"
   },
   {
    "duration": 10,
    "start_time": "2024-11-16T04:20:21.434Z"
   },
   {
    "duration": 23,
    "start_time": "2024-11-16T04:20:21.446Z"
   },
   {
    "duration": 3,
    "start_time": "2024-11-16T04:20:21.470Z"
   },
   {
    "duration": 52,
    "start_time": "2024-11-16T04:20:21.474Z"
   },
   {
    "duration": 220,
    "start_time": "2024-11-16T04:20:21.527Z"
   },
   {
    "duration": 196,
    "start_time": "2024-11-16T04:20:21.750Z"
   },
   {
    "duration": 9,
    "start_time": "2024-11-16T04:20:21.947Z"
   },
   {
    "duration": 116,
    "start_time": "2024-11-16T04:20:21.958Z"
   },
   {
    "duration": 185,
    "start_time": "2024-11-16T04:20:22.075Z"
   },
   {
    "duration": 191,
    "start_time": "2024-11-16T04:20:22.262Z"
   },
   {
    "duration": 190,
    "start_time": "2024-11-16T04:20:22.455Z"
   },
   {
    "duration": 188,
    "start_time": "2024-11-16T04:20:22.647Z"
   },
   {
    "duration": 9,
    "start_time": "2024-11-16T04:20:22.836Z"
   },
   {
    "duration": 110,
    "start_time": "2024-11-16T04:20:22.848Z"
   },
   {
    "duration": 41,
    "start_time": "2024-11-16T04:20:30.339Z"
   },
   {
    "duration": 42,
    "start_time": "2024-11-16T04:20:58.666Z"
   },
   {
    "duration": 45,
    "start_time": "2024-11-16T04:22:12.976Z"
   },
   {
    "duration": 46,
    "start_time": "2024-11-16T04:22:22.976Z"
   },
   {
    "duration": 80,
    "start_time": "2024-11-16T04:24:27.194Z"
   },
   {
    "duration": 103,
    "start_time": "2024-11-16T04:24:39.501Z"
   },
   {
    "duration": 7,
    "start_time": "2024-11-16T04:25:48.428Z"
   },
   {
    "duration": 4,
    "start_time": "2024-11-16T04:25:51.644Z"
   },
   {
    "duration": 10,
    "start_time": "2024-11-16T04:25:52.130Z"
   },
   {
    "duration": 179,
    "start_time": "2024-11-16T04:34:53.567Z"
   },
   {
    "duration": 181,
    "start_time": "2024-11-16T04:35:06.534Z"
   },
   {
    "duration": 218,
    "start_time": "2024-11-16T04:55:36.946Z"
   },
   {
    "duration": 3,
    "start_time": "2024-11-16T04:57:56.544Z"
   },
   {
    "duration": 167,
    "start_time": "2024-11-16T04:57:56.550Z"
   },
   {
    "duration": 12,
    "start_time": "2024-11-16T04:57:56.719Z"
   },
   {
    "duration": 10,
    "start_time": "2024-11-16T04:57:56.733Z"
   },
   {
    "duration": 5,
    "start_time": "2024-11-16T04:57:56.746Z"
   },
   {
    "duration": 5,
    "start_time": "2024-11-16T04:57:56.754Z"
   },
   {
    "duration": 9,
    "start_time": "2024-11-16T04:57:56.761Z"
   },
   {
    "duration": 8,
    "start_time": "2024-11-16T04:57:56.771Z"
   },
   {
    "duration": 34,
    "start_time": "2024-11-16T04:57:56.780Z"
   },
   {
    "duration": 10,
    "start_time": "2024-11-16T04:57:56.816Z"
   },
   {
    "duration": 22,
    "start_time": "2024-11-16T04:57:56.831Z"
   },
   {
    "duration": 6,
    "start_time": "2024-11-16T04:57:56.857Z"
   },
   {
    "duration": 15,
    "start_time": "2024-11-16T04:57:56.865Z"
   },
   {
    "duration": 80,
    "start_time": "2024-11-16T04:57:56.881Z"
   },
   {
    "duration": 13,
    "start_time": "2024-11-16T04:57:56.962Z"
   },
   {
    "duration": 5,
    "start_time": "2024-11-16T04:57:56.977Z"
   },
   {
    "duration": 46,
    "start_time": "2024-11-16T04:57:56.984Z"
   },
   {
    "duration": 29,
    "start_time": "2024-11-16T04:57:57.032Z"
   },
   {
    "duration": 14,
    "start_time": "2024-11-16T04:57:57.063Z"
   },
   {
    "duration": 6,
    "start_time": "2024-11-16T04:57:57.079Z"
   },
   {
    "duration": 29,
    "start_time": "2024-11-16T04:57:57.087Z"
   },
   {
    "duration": 60,
    "start_time": "2024-11-16T04:57:57.118Z"
   },
   {
    "duration": 40,
    "start_time": "2024-11-16T04:57:57.183Z"
   },
   {
    "duration": 16,
    "start_time": "2024-11-16T04:57:57.225Z"
   },
   {
    "duration": 13,
    "start_time": "2024-11-16T04:57:57.243Z"
   },
   {
    "duration": 12,
    "start_time": "2024-11-16T04:57:57.257Z"
   },
   {
    "duration": 48,
    "start_time": "2024-11-16T04:57:57.270Z"
   },
   {
    "duration": 6,
    "start_time": "2024-11-16T04:57:57.319Z"
   },
   {
    "duration": 26,
    "start_time": "2024-11-16T04:57:57.330Z"
   },
   {
    "duration": 255,
    "start_time": "2024-11-16T04:57:57.360Z"
   },
   {
    "duration": 205,
    "start_time": "2024-11-16T04:57:57.621Z"
   },
   {
    "duration": 14,
    "start_time": "2024-11-16T04:57:57.829Z"
   },
   {
    "duration": 123,
    "start_time": "2024-11-16T04:57:57.846Z"
   },
   {
    "duration": 526,
    "start_time": "2024-11-16T04:57:57.971Z"
   },
   {
    "duration": 228,
    "start_time": "2024-11-16T04:57:58.499Z"
   },
   {
    "duration": 231,
    "start_time": "2024-11-16T04:57:58.729Z"
   },
   {
    "duration": 218,
    "start_time": "2024-11-16T04:57:58.961Z"
   },
   {
    "duration": 11,
    "start_time": "2024-11-16T04:57:59.181Z"
   },
   {
    "duration": 129,
    "start_time": "2024-11-16T04:57:59.193Z"
   },
   {
    "duration": 215,
    "start_time": "2024-11-16T04:57:59.324Z"
   },
   {
    "duration": 121,
    "start_time": "2024-11-16T04:57:59.545Z"
   },
   {
    "duration": 9,
    "start_time": "2024-11-16T04:57:59.668Z"
   },
   {
    "duration": 4,
    "start_time": "2024-11-16T04:57:59.679Z"
   },
   {
    "duration": 28,
    "start_time": "2024-11-16T04:57:59.685Z"
   },
   {
    "duration": 4,
    "start_time": "2024-11-16T04:57:59.717Z"
   },
   {
    "duration": 13,
    "start_time": "2024-11-16T04:57:59.723Z"
   },
   {
    "duration": 897,
    "start_time": "2024-11-16T07:18:30.061Z"
   },
   {
    "duration": 228,
    "start_time": "2024-11-16T07:18:30.960Z"
   },
   {
    "duration": 9,
    "start_time": "2024-11-16T07:18:31.190Z"
   },
   {
    "duration": 10,
    "start_time": "2024-11-16T07:18:31.200Z"
   },
   {
    "duration": 3,
    "start_time": "2024-11-16T07:18:31.213Z"
   },
   {
    "duration": 5,
    "start_time": "2024-11-16T07:18:31.217Z"
   },
   {
    "duration": 8,
    "start_time": "2024-11-16T07:18:31.224Z"
   },
   {
    "duration": 7,
    "start_time": "2024-11-16T07:18:31.234Z"
   },
   {
    "duration": 8,
    "start_time": "2024-11-16T07:18:31.243Z"
   },
   {
    "duration": 6,
    "start_time": "2024-11-16T07:18:31.252Z"
   },
   {
    "duration": 14,
    "start_time": "2024-11-16T07:18:31.259Z"
   },
   {
    "duration": 38,
    "start_time": "2024-11-16T07:18:31.275Z"
   },
   {
    "duration": 15,
    "start_time": "2024-11-16T07:18:31.315Z"
   },
   {
    "duration": 39,
    "start_time": "2024-11-16T07:18:31.333Z"
   },
   {
    "duration": 37,
    "start_time": "2024-11-16T07:18:31.374Z"
   },
   {
    "duration": 6,
    "start_time": "2024-11-16T07:18:31.412Z"
   },
   {
    "duration": 14,
    "start_time": "2024-11-16T07:18:31.420Z"
   },
   {
    "duration": 24,
    "start_time": "2024-11-16T07:18:31.435Z"
   },
   {
    "duration": 13,
    "start_time": "2024-11-16T07:18:31.460Z"
   },
   {
    "duration": 38,
    "start_time": "2024-11-16T07:18:31.475Z"
   },
   {
    "duration": 12,
    "start_time": "2024-11-16T07:18:31.514Z"
   },
   {
    "duration": 43,
    "start_time": "2024-11-16T07:18:31.528Z"
   },
   {
    "duration": 37,
    "start_time": "2024-11-16T07:18:31.573Z"
   },
   {
    "duration": 16,
    "start_time": "2024-11-16T07:18:31.611Z"
   },
   {
    "duration": 10,
    "start_time": "2024-11-16T07:18:31.628Z"
   },
   {
    "duration": 12,
    "start_time": "2024-11-16T07:18:31.640Z"
   },
   {
    "duration": 25,
    "start_time": "2024-11-16T07:18:31.654Z"
   },
   {
    "duration": 29,
    "start_time": "2024-11-16T07:18:31.680Z"
   },
   {
    "duration": 25,
    "start_time": "2024-11-16T07:18:31.710Z"
   },
   {
    "duration": 241,
    "start_time": "2024-11-16T07:18:31.736Z"
   },
   {
    "duration": 234,
    "start_time": "2024-11-16T07:18:31.979Z"
   },
   {
    "duration": 9,
    "start_time": "2024-11-16T07:18:32.214Z"
   },
   {
    "duration": 111,
    "start_time": "2024-11-16T07:18:32.224Z"
   },
   {
    "duration": 183,
    "start_time": "2024-11-16T07:18:32.337Z"
   },
   {
    "duration": 191,
    "start_time": "2024-11-16T07:18:32.522Z"
   },
   {
    "duration": 194,
    "start_time": "2024-11-16T07:18:32.715Z"
   },
   {
    "duration": 192,
    "start_time": "2024-11-16T07:18:32.910Z"
   },
   {
    "duration": 11,
    "start_time": "2024-11-16T07:18:33.104Z"
   },
   {
    "duration": 105,
    "start_time": "2024-11-16T07:18:33.117Z"
   },
   {
    "duration": 213,
    "start_time": "2024-11-16T07:18:33.224Z"
   },
   {
    "duration": 106,
    "start_time": "2024-11-16T07:18:33.441Z"
   },
   {
    "duration": 8,
    "start_time": "2024-11-16T07:18:33.549Z"
   },
   {
    "duration": 5,
    "start_time": "2024-11-16T07:18:33.558Z"
   },
   {
    "duration": 6,
    "start_time": "2024-11-16T07:18:33.565Z"
   },
   {
    "duration": 3,
    "start_time": "2024-11-16T07:18:33.574Z"
   },
   {
    "duration": 36,
    "start_time": "2024-11-16T07:18:33.579Z"
   },
   {
    "duration": 157,
    "start_time": "2024-11-16T13:14:56.132Z"
   },
   {
    "duration": 2516,
    "start_time": "2024-11-16T13:15:15.537Z"
   },
   {
    "duration": 215,
    "start_time": "2024-11-16T13:15:18.055Z"
   },
   {
    "duration": 9,
    "start_time": "2024-11-16T13:15:18.272Z"
   },
   {
    "duration": 9,
    "start_time": "2024-11-16T13:15:18.283Z"
   },
   {
    "duration": 3,
    "start_time": "2024-11-16T13:15:18.294Z"
   },
   {
    "duration": 8,
    "start_time": "2024-11-16T13:15:18.299Z"
   },
   {
    "duration": 8,
    "start_time": "2024-11-16T13:15:18.308Z"
   },
   {
    "duration": 9,
    "start_time": "2024-11-16T13:15:18.317Z"
   },
   {
    "duration": 43,
    "start_time": "2024-11-16T13:15:18.327Z"
   },
   {
    "duration": 15,
    "start_time": "2024-11-16T13:15:18.373Z"
   },
   {
    "duration": 7,
    "start_time": "2024-11-16T13:15:18.389Z"
   },
   {
    "duration": 15,
    "start_time": "2024-11-16T13:15:18.398Z"
   },
   {
    "duration": 60,
    "start_time": "2024-11-16T13:15:18.415Z"
   },
   {
    "duration": 11,
    "start_time": "2024-11-16T13:15:18.477Z"
   },
   {
    "duration": 6,
    "start_time": "2024-11-16T13:15:18.490Z"
   },
   {
    "duration": 15,
    "start_time": "2024-11-16T13:15:18.497Z"
   },
   {
    "duration": 22,
    "start_time": "2024-11-16T13:15:18.514Z"
   },
   {
    "duration": 41,
    "start_time": "2024-11-16T13:15:18.538Z"
   },
   {
    "duration": 7,
    "start_time": "2024-11-16T13:15:18.581Z"
   },
   {
    "duration": 13,
    "start_time": "2024-11-16T13:15:18.589Z"
   },
   {
    "duration": 41,
    "start_time": "2024-11-16T13:15:18.604Z"
   },
   {
    "duration": 37,
    "start_time": "2024-11-16T13:15:18.647Z"
   },
   {
    "duration": 16,
    "start_time": "2024-11-16T13:15:18.685Z"
   },
   {
    "duration": 10,
    "start_time": "2024-11-16T13:15:18.702Z"
   },
   {
    "duration": 13,
    "start_time": "2024-11-16T13:15:19.528Z"
   },
   {
    "duration": 23,
    "start_time": "2024-11-16T13:15:26.144Z"
   },
   {
    "duration": 23,
    "start_time": "2024-11-16T13:17:05.776Z"
   },
   {
    "duration": 26,
    "start_time": "2024-11-16T13:17:58.836Z"
   },
   {
    "duration": 8,
    "start_time": "2024-11-16T13:18:47.530Z"
   },
   {
    "duration": 7,
    "start_time": "2024-11-16T13:19:07.094Z"
   },
   {
    "duration": 341,
    "start_time": "2024-11-16T13:21:22.385Z"
   },
   {
    "duration": 246,
    "start_time": "2024-11-16T13:22:57.097Z"
   },
   {
    "duration": 3,
    "start_time": "2024-11-16T13:23:32.833Z"
   },
   {
    "duration": 159,
    "start_time": "2024-11-16T13:23:32.838Z"
   },
   {
    "duration": 10,
    "start_time": "2024-11-16T13:23:32.998Z"
   },
   {
    "duration": 7,
    "start_time": "2024-11-16T13:23:33.010Z"
   },
   {
    "duration": 3,
    "start_time": "2024-11-16T13:23:33.019Z"
   },
   {
    "duration": 8,
    "start_time": "2024-11-16T13:23:33.024Z"
   },
   {
    "duration": 8,
    "start_time": "2024-11-16T13:23:33.033Z"
   },
   {
    "duration": 31,
    "start_time": "2024-11-16T13:23:33.042Z"
   },
   {
    "duration": 5,
    "start_time": "2024-11-16T13:23:33.076Z"
   },
   {
    "duration": 16,
    "start_time": "2024-11-16T13:23:33.083Z"
   },
   {
    "duration": 6,
    "start_time": "2024-11-16T13:23:33.100Z"
   },
   {
    "duration": 15,
    "start_time": "2024-11-16T13:23:33.107Z"
   },
   {
    "duration": 67,
    "start_time": "2024-11-16T13:23:33.123Z"
   },
   {
    "duration": 16,
    "start_time": "2024-11-16T13:23:33.192Z"
   },
   {
    "duration": 7,
    "start_time": "2024-11-16T13:23:33.210Z"
   },
   {
    "duration": 14,
    "start_time": "2024-11-16T13:23:33.219Z"
   },
   {
    "duration": 43,
    "start_time": "2024-11-16T13:23:33.235Z"
   },
   {
    "duration": 13,
    "start_time": "2024-11-16T13:23:33.280Z"
   },
   {
    "duration": 6,
    "start_time": "2024-11-16T13:23:33.295Z"
   },
   {
    "duration": 13,
    "start_time": "2024-11-16T13:23:33.303Z"
   },
   {
    "duration": 67,
    "start_time": "2024-11-16T13:23:33.318Z"
   },
   {
    "duration": 16,
    "start_time": "2024-11-16T13:23:33.387Z"
   },
   {
    "duration": 16,
    "start_time": "2024-11-16T13:23:33.404Z"
   },
   {
    "duration": 10,
    "start_time": "2024-11-16T13:23:33.423Z"
   },
   {
    "duration": 40,
    "start_time": "2024-11-16T13:23:33.434Z"
   },
   {
    "duration": 27,
    "start_time": "2024-11-16T13:23:33.476Z"
   },
   {
    "duration": 6,
    "start_time": "2024-11-16T13:23:33.505Z"
   },
   {
    "duration": 137,
    "start_time": "2024-11-16T13:23:35.183Z"
   },
   {
    "duration": 159,
    "start_time": "2024-11-17T18:59:13.461Z"
   },
   {
    "duration": 2503,
    "start_time": "2024-11-17T18:59:17.459Z"
   },
   {
    "duration": 199,
    "start_time": "2024-11-17T18:59:19.964Z"
   },
   {
    "duration": 10,
    "start_time": "2024-11-17T18:59:20.165Z"
   },
   {
    "duration": 9,
    "start_time": "2024-11-17T18:59:20.176Z"
   },
   {
    "duration": 3,
    "start_time": "2024-11-17T18:59:20.188Z"
   },
   {
    "duration": 8,
    "start_time": "2024-11-17T18:59:20.192Z"
   },
   {
    "duration": 24,
    "start_time": "2024-11-17T18:59:20.201Z"
   },
   {
    "duration": 8,
    "start_time": "2024-11-17T18:59:20.227Z"
   },
   {
    "duration": 5,
    "start_time": "2024-11-17T18:59:20.237Z"
   },
   {
    "duration": 14,
    "start_time": "2024-11-17T18:59:20.244Z"
   },
   {
    "duration": 6,
    "start_time": "2024-11-17T18:59:20.259Z"
   },
   {
    "duration": 16,
    "start_time": "2024-11-17T18:59:20.267Z"
   },
   {
    "duration": 70,
    "start_time": "2024-11-17T18:59:20.284Z"
   },
   {
    "duration": 12,
    "start_time": "2024-11-17T18:59:20.358Z"
   },
   {
    "duration": 5,
    "start_time": "2024-11-17T18:59:20.372Z"
   },
   {
    "duration": 14,
    "start_time": "2024-11-17T18:59:20.379Z"
   },
   {
    "duration": 47,
    "start_time": "2024-11-17T18:59:20.395Z"
   },
   {
    "duration": 13,
    "start_time": "2024-11-17T18:59:20.444Z"
   },
   {
    "duration": 6,
    "start_time": "2024-11-17T18:59:20.459Z"
   },
   {
    "duration": 11,
    "start_time": "2024-11-17T18:59:20.467Z"
   },
   {
    "duration": 64,
    "start_time": "2024-11-17T18:59:20.480Z"
   },
   {
    "duration": 21,
    "start_time": "2024-11-17T18:59:20.545Z"
   },
   {
    "duration": 15,
    "start_time": "2024-11-17T18:59:20.568Z"
   },
   {
    "duration": 10,
    "start_time": "2024-11-17T18:59:20.585Z"
   },
   {
    "duration": 32,
    "start_time": "2024-11-17T18:59:20.596Z"
   },
   {
    "duration": 26,
    "start_time": "2024-11-17T18:59:20.629Z"
   },
   {
    "duration": 7,
    "start_time": "2024-11-17T18:59:20.656Z"
   },
   {
    "duration": 541,
    "start_time": "2024-11-17T18:59:20.665Z"
   },
   {
    "duration": 228,
    "start_time": "2024-11-17T19:00:39.002Z"
   },
   {
    "duration": 2,
    "start_time": "2024-11-17T19:00:44.431Z"
   },
   {
    "duration": 159,
    "start_time": "2024-11-17T19:00:44.435Z"
   },
   {
    "duration": 10,
    "start_time": "2024-11-17T19:00:44.595Z"
   },
   {
    "duration": 7,
    "start_time": "2024-11-17T19:00:44.606Z"
   },
   {
    "duration": 3,
    "start_time": "2024-11-17T19:00:44.625Z"
   },
   {
    "duration": 8,
    "start_time": "2024-11-17T19:00:44.630Z"
   },
   {
    "duration": 8,
    "start_time": "2024-11-17T19:00:44.640Z"
   },
   {
    "duration": 8,
    "start_time": "2024-11-17T19:00:44.650Z"
   },
   {
    "duration": 6,
    "start_time": "2024-11-17T19:00:44.659Z"
   },
   {
    "duration": 14,
    "start_time": "2024-11-17T19:00:44.667Z"
   },
   {
    "duration": 7,
    "start_time": "2024-11-17T19:00:44.682Z"
   },
   {
    "duration": 14,
    "start_time": "2024-11-17T19:00:44.724Z"
   },
   {
    "duration": 38,
    "start_time": "2024-11-17T19:00:44.740Z"
   },
   {
    "duration": 13,
    "start_time": "2024-11-17T19:00:44.781Z"
   },
   {
    "duration": 30,
    "start_time": "2024-11-17T19:00:44.795Z"
   },
   {
    "duration": 14,
    "start_time": "2024-11-17T19:00:44.827Z"
   },
   {
    "duration": 22,
    "start_time": "2024-11-17T19:00:44.843Z"
   },
   {
    "duration": 14,
    "start_time": "2024-11-17T19:00:44.867Z"
   },
   {
    "duration": 6,
    "start_time": "2024-11-17T19:00:44.882Z"
   },
   {
    "duration": 40,
    "start_time": "2024-11-17T19:00:44.890Z"
   },
   {
    "duration": 41,
    "start_time": "2024-11-17T19:00:44.931Z"
   },
   {
    "duration": 16,
    "start_time": "2024-11-17T19:00:44.973Z"
   },
   {
    "duration": 34,
    "start_time": "2024-11-17T19:00:44.990Z"
   },
   {
    "duration": 9,
    "start_time": "2024-11-17T19:00:45.025Z"
   },
   {
    "duration": 11,
    "start_time": "2024-11-17T19:00:45.036Z"
   },
   {
    "duration": 26,
    "start_time": "2024-11-17T19:00:45.049Z"
   },
   {
    "duration": 7,
    "start_time": "2024-11-17T19:00:45.076Z"
   },
   {
    "duration": 93,
    "start_time": "2024-11-17T19:00:45.085Z"
   },
   {
    "duration": 0,
    "start_time": "2024-11-17T19:00:45.180Z"
   },
   {
    "duration": 0,
    "start_time": "2024-11-17T19:00:45.181Z"
   },
   {
    "duration": 0,
    "start_time": "2024-11-17T19:00:45.182Z"
   },
   {
    "duration": 0,
    "start_time": "2024-11-17T19:00:45.183Z"
   },
   {
    "duration": 0,
    "start_time": "2024-11-17T19:00:45.184Z"
   },
   {
    "duration": 0,
    "start_time": "2024-11-17T19:00:45.186Z"
   },
   {
    "duration": 0,
    "start_time": "2024-11-17T19:00:45.187Z"
   },
   {
    "duration": 0,
    "start_time": "2024-11-17T19:00:45.188Z"
   },
   {
    "duration": 0,
    "start_time": "2024-11-17T19:00:45.190Z"
   },
   {
    "duration": 0,
    "start_time": "2024-11-17T19:00:45.191Z"
   },
   {
    "duration": 0,
    "start_time": "2024-11-17T19:00:45.193Z"
   },
   {
    "duration": 0,
    "start_time": "2024-11-17T19:00:45.223Z"
   },
   {
    "duration": 0,
    "start_time": "2024-11-17T19:00:45.225Z"
   },
   {
    "duration": 0,
    "start_time": "2024-11-17T19:00:45.226Z"
   },
   {
    "duration": 0,
    "start_time": "2024-11-17T19:00:45.228Z"
   },
   {
    "duration": 0,
    "start_time": "2024-11-17T19:00:45.229Z"
   },
   {
    "duration": 0,
    "start_time": "2024-11-17T19:00:45.230Z"
   },
   {
    "duration": 71,
    "start_time": "2024-11-17T19:02:09.291Z"
   },
   {
    "duration": 7,
    "start_time": "2024-11-17T19:02:51.101Z"
   },
   {
    "duration": 70,
    "start_time": "2024-11-17T19:02:53.762Z"
   },
   {
    "duration": 71,
    "start_time": "2024-11-17T19:04:14.829Z"
   },
   {
    "duration": 68,
    "start_time": "2024-11-17T19:04:45.367Z"
   },
   {
    "duration": 3,
    "start_time": "2024-11-17T19:04:49.204Z"
   },
   {
    "duration": 155,
    "start_time": "2024-11-17T19:04:49.209Z"
   },
   {
    "duration": 9,
    "start_time": "2024-11-17T19:04:49.366Z"
   },
   {
    "duration": 8,
    "start_time": "2024-11-17T19:04:49.376Z"
   },
   {
    "duration": 3,
    "start_time": "2024-11-17T19:04:49.386Z"
   },
   {
    "duration": 8,
    "start_time": "2024-11-17T19:04:49.391Z"
   },
   {
    "duration": 27,
    "start_time": "2024-11-17T19:04:49.401Z"
   },
   {
    "duration": 6,
    "start_time": "2024-11-17T19:04:49.430Z"
   },
   {
    "duration": 4,
    "start_time": "2024-11-17T19:04:49.438Z"
   },
   {
    "duration": 14,
    "start_time": "2024-11-17T19:04:49.445Z"
   },
   {
    "duration": 8,
    "start_time": "2024-11-17T19:04:49.460Z"
   },
   {
    "duration": 14,
    "start_time": "2024-11-17T19:04:49.469Z"
   },
   {
    "duration": 64,
    "start_time": "2024-11-17T19:04:49.486Z"
   },
   {
    "duration": 12,
    "start_time": "2024-11-17T19:04:49.552Z"
   },
   {
    "duration": 6,
    "start_time": "2024-11-17T19:04:49.565Z"
   },
   {
    "duration": 15,
    "start_time": "2024-11-17T19:04:49.573Z"
   },
   {
    "duration": 46,
    "start_time": "2024-11-17T19:04:49.589Z"
   },
   {
    "duration": 14,
    "start_time": "2024-11-17T19:04:49.637Z"
   },
   {
    "duration": 6,
    "start_time": "2024-11-17T19:04:49.652Z"
   },
   {
    "duration": 11,
    "start_time": "2024-11-17T19:04:49.660Z"
   },
   {
    "duration": 66,
    "start_time": "2024-11-17T19:04:49.672Z"
   },
   {
    "duration": 17,
    "start_time": "2024-11-17T19:04:49.740Z"
   },
   {
    "duration": 14,
    "start_time": "2024-11-17T19:04:49.758Z"
   },
   {
    "duration": 8,
    "start_time": "2024-11-17T19:04:49.774Z"
   },
   {
    "duration": 11,
    "start_time": "2024-11-17T19:04:49.784Z"
   },
   {
    "duration": 49,
    "start_time": "2024-11-17T19:04:49.797Z"
   },
   {
    "duration": 7,
    "start_time": "2024-11-17T19:04:49.848Z"
   },
   {
    "duration": 67,
    "start_time": "2024-11-17T19:04:52.155Z"
   },
   {
    "duration": 7,
    "start_time": "2024-11-17T19:08:54.216Z"
   },
   {
    "duration": 34,
    "start_time": "2024-11-17T19:09:31.631Z"
   },
   {
    "duration": 37,
    "start_time": "2024-11-17T19:10:05.799Z"
   },
   {
    "duration": 35,
    "start_time": "2024-11-17T19:10:22.457Z"
   },
   {
    "duration": 53,
    "start_time": "2024-11-17T19:11:53.410Z"
   },
   {
    "duration": 15,
    "start_time": "2024-11-17T19:11:54.697Z"
   },
   {
    "duration": 124,
    "start_time": "2024-11-17T19:11:56.591Z"
   },
   {
    "duration": 69,
    "start_time": "2024-11-17T19:12:49.360Z"
   },
   {
    "duration": 104,
    "start_time": "2024-11-17T19:12:58.751Z"
   },
   {
    "duration": 73,
    "start_time": "2024-11-17T20:09:59.097Z"
   },
   {
    "duration": 3,
    "start_time": "2024-11-17T20:10:03.069Z"
   },
   {
    "duration": 164,
    "start_time": "2024-11-17T20:10:03.074Z"
   },
   {
    "duration": 9,
    "start_time": "2024-11-17T20:10:03.240Z"
   },
   {
    "duration": 7,
    "start_time": "2024-11-17T20:10:03.251Z"
   },
   {
    "duration": 4,
    "start_time": "2024-11-17T20:10:03.261Z"
   },
   {
    "duration": 8,
    "start_time": "2024-11-17T20:10:03.266Z"
   },
   {
    "duration": 8,
    "start_time": "2024-11-17T20:10:03.275Z"
   },
   {
    "duration": 7,
    "start_time": "2024-11-17T20:10:03.284Z"
   },
   {
    "duration": 35,
    "start_time": "2024-11-17T20:10:03.293Z"
   },
   {
    "duration": 15,
    "start_time": "2024-11-17T20:10:03.329Z"
   },
   {
    "duration": 8,
    "start_time": "2024-11-17T20:10:03.347Z"
   },
   {
    "duration": 21,
    "start_time": "2024-11-17T20:10:03.357Z"
   },
   {
    "duration": 63,
    "start_time": "2024-11-17T20:10:03.380Z"
   },
   {
    "duration": 13,
    "start_time": "2024-11-17T20:10:03.445Z"
   },
   {
    "duration": 9,
    "start_time": "2024-11-17T20:10:03.459Z"
   },
   {
    "duration": 13,
    "start_time": "2024-11-17T20:10:03.470Z"
   },
   {
    "duration": 42,
    "start_time": "2024-11-17T20:10:03.485Z"
   },
   {
    "duration": 17,
    "start_time": "2024-11-17T20:10:03.528Z"
   },
   {
    "duration": 7,
    "start_time": "2024-11-17T20:10:03.546Z"
   },
   {
    "duration": 11,
    "start_time": "2024-11-17T20:10:03.555Z"
   },
   {
    "duration": 62,
    "start_time": "2024-11-17T20:10:03.568Z"
   },
   {
    "duration": 22,
    "start_time": "2024-11-17T20:10:03.632Z"
   },
   {
    "duration": 19,
    "start_time": "2024-11-17T20:10:03.656Z"
   },
   {
    "duration": 11,
    "start_time": "2024-11-17T20:10:03.677Z"
   },
   {
    "duration": 35,
    "start_time": "2024-11-17T20:10:03.690Z"
   },
   {
    "duration": 43,
    "start_time": "2024-11-17T20:10:03.726Z"
   },
   {
    "duration": 7,
    "start_time": "2024-11-17T20:10:03.771Z"
   },
   {
    "duration": 91,
    "start_time": "2024-11-17T20:10:03.780Z"
   },
   {
    "duration": 70,
    "start_time": "2024-11-17T20:10:05.166Z"
   },
   {
    "duration": 95,
    "start_time": "2024-11-17T20:11:41.889Z"
   },
   {
    "duration": 3,
    "start_time": "2024-11-17T20:12:10.096Z"
   },
   {
    "duration": 175,
    "start_time": "2024-11-17T20:12:10.102Z"
   },
   {
    "duration": 9,
    "start_time": "2024-11-17T20:12:10.278Z"
   },
   {
    "duration": 9,
    "start_time": "2024-11-17T20:12:10.290Z"
   },
   {
    "duration": 4,
    "start_time": "2024-11-17T20:12:10.300Z"
   },
   {
    "duration": 26,
    "start_time": "2024-11-17T20:12:10.306Z"
   },
   {
    "duration": 7,
    "start_time": "2024-11-17T20:12:10.334Z"
   },
   {
    "duration": 6,
    "start_time": "2024-11-17T20:12:10.343Z"
   },
   {
    "duration": 6,
    "start_time": "2024-11-17T20:12:10.352Z"
   },
   {
    "duration": 21,
    "start_time": "2024-11-17T20:12:10.360Z"
   },
   {
    "duration": 7,
    "start_time": "2024-11-17T20:12:10.382Z"
   },
   {
    "duration": 48,
    "start_time": "2024-11-17T20:12:10.390Z"
   },
   {
    "duration": 40,
    "start_time": "2024-11-17T20:12:10.439Z"
   },
   {
    "duration": 15,
    "start_time": "2024-11-17T20:12:10.481Z"
   },
   {
    "duration": 28,
    "start_time": "2024-11-17T20:12:10.498Z"
   },
   {
    "duration": 15,
    "start_time": "2024-11-17T20:12:10.528Z"
   },
   {
    "duration": 22,
    "start_time": "2024-11-17T20:12:10.545Z"
   },
   {
    "duration": 15,
    "start_time": "2024-11-17T20:12:10.569Z"
   },
   {
    "duration": 6,
    "start_time": "2024-11-17T20:12:10.586Z"
   },
   {
    "duration": 18,
    "start_time": "2024-11-17T20:12:10.625Z"
   },
   {
    "duration": 43,
    "start_time": "2024-11-17T20:12:10.645Z"
   },
   {
    "duration": 15,
    "start_time": "2024-11-17T20:12:10.690Z"
   },
   {
    "duration": 31,
    "start_time": "2024-11-17T20:12:10.707Z"
   },
   {
    "duration": 9,
    "start_time": "2024-11-17T20:12:10.741Z"
   },
   {
    "duration": 10,
    "start_time": "2024-11-17T20:12:10.752Z"
   },
   {
    "duration": 36,
    "start_time": "2024-11-17T20:12:10.764Z"
   },
   {
    "duration": 9,
    "start_time": "2024-11-17T20:12:10.824Z"
   },
   {
    "duration": 74,
    "start_time": "2024-11-17T20:12:10.835Z"
   },
   {
    "duration": 85,
    "start_time": "2024-11-17T20:12:12.421Z"
   },
   {
    "duration": 71,
    "start_time": "2024-11-17T20:13:07.006Z"
   },
   {
    "duration": 943,
    "start_time": "2024-11-17T20:13:33.683Z"
   },
   {
    "duration": 964,
    "start_time": "2024-11-17T20:15:40.613Z"
   },
   {
    "duration": 3,
    "start_time": "2024-11-17T20:16:06.606Z"
   },
   {
    "duration": 223,
    "start_time": "2024-11-17T20:16:06.612Z"
   },
   {
    "duration": 10,
    "start_time": "2024-11-17T20:16:06.837Z"
   },
   {
    "duration": 9,
    "start_time": "2024-11-17T20:16:06.849Z"
   },
   {
    "duration": 6,
    "start_time": "2024-11-17T20:16:06.861Z"
   },
   {
    "duration": 11,
    "start_time": "2024-11-17T20:16:06.871Z"
   },
   {
    "duration": 10,
    "start_time": "2024-11-17T20:16:06.884Z"
   },
   {
    "duration": 8,
    "start_time": "2024-11-17T20:16:06.896Z"
   },
   {
    "duration": 7,
    "start_time": "2024-11-17T20:16:06.927Z"
   },
   {
    "duration": 24,
    "start_time": "2024-11-17T20:16:06.937Z"
   },
   {
    "duration": 9,
    "start_time": "2024-11-17T20:16:06.966Z"
   },
   {
    "duration": 22,
    "start_time": "2024-11-17T20:16:06.977Z"
   },
   {
    "duration": 76,
    "start_time": "2024-11-17T20:16:07.001Z"
   },
   {
    "duration": 15,
    "start_time": "2024-11-17T20:16:07.080Z"
   },
   {
    "duration": 10,
    "start_time": "2024-11-17T20:16:07.097Z"
   },
   {
    "duration": 35,
    "start_time": "2024-11-17T20:16:07.109Z"
   },
   {
    "duration": 31,
    "start_time": "2024-11-17T20:16:07.146Z"
   },
   {
    "duration": 17,
    "start_time": "2024-11-17T20:16:07.179Z"
   },
   {
    "duration": 31,
    "start_time": "2024-11-17T20:16:07.198Z"
   },
   {
    "duration": 18,
    "start_time": "2024-11-17T20:16:07.231Z"
   },
   {
    "duration": 59,
    "start_time": "2024-11-17T20:16:07.251Z"
   },
   {
    "duration": 29,
    "start_time": "2024-11-17T20:16:07.325Z"
   },
   {
    "duration": 25,
    "start_time": "2024-11-17T20:16:07.356Z"
   },
   {
    "duration": 12,
    "start_time": "2024-11-17T20:16:07.386Z"
   },
   {
    "duration": 18,
    "start_time": "2024-11-17T20:16:07.399Z"
   },
   {
    "duration": 45,
    "start_time": "2024-11-17T20:16:07.419Z"
   },
   {
    "duration": 9,
    "start_time": "2024-11-17T20:16:07.466Z"
   },
   {
    "duration": 1160,
    "start_time": "2024-11-17T20:16:07.477Z"
   },
   {
    "duration": 242,
    "start_time": "2024-11-17T20:16:23.680Z"
   },
   {
    "duration": 193,
    "start_time": "2024-11-17T20:16:27.125Z"
   },
   {
    "duration": 10,
    "start_time": "2024-11-17T20:16:48.168Z"
   },
   {
    "duration": 143,
    "start_time": "2024-11-17T20:16:48.179Z"
   },
   {
    "duration": 202,
    "start_time": "2024-11-17T20:16:48.324Z"
   },
   {
    "duration": 199,
    "start_time": "2024-11-17T20:16:48.528Z"
   },
   {
    "duration": 230,
    "start_time": "2024-11-17T20:16:48.730Z"
   },
   {
    "duration": 203,
    "start_time": "2024-11-17T20:16:48.963Z"
   },
   {
    "duration": 10,
    "start_time": "2024-11-17T20:16:49.168Z"
   },
   {
    "duration": 232,
    "start_time": "2024-11-17T20:16:49.179Z"
   },
   {
    "duration": 233,
    "start_time": "2024-11-17T20:16:49.413Z"
   },
   {
    "duration": 103,
    "start_time": "2024-11-17T20:16:49.648Z"
   },
   {
    "duration": 10,
    "start_time": "2024-11-17T20:16:49.752Z"
   },
   {
    "duration": 4,
    "start_time": "2024-11-17T20:16:49.764Z"
   },
   {
    "duration": 7,
    "start_time": "2024-11-17T20:16:49.770Z"
   },
   {
    "duration": 3,
    "start_time": "2024-11-17T20:16:49.780Z"
   },
   {
    "duration": 8,
    "start_time": "2024-11-17T20:16:49.784Z"
   },
   {
    "duration": 10,
    "start_time": "2024-11-17T20:18:38.662Z"
   },
   {
    "duration": 101,
    "start_time": "2024-11-17T20:23:57.403Z"
   },
   {
    "duration": 180,
    "start_time": "2024-11-17T20:24:01.314Z"
   },
   {
    "duration": 5,
    "start_time": "2024-11-17T20:26:22.599Z"
   },
   {
    "duration": 11,
    "start_time": "2024-11-17T20:32:23.026Z"
   },
   {
    "duration": 3,
    "start_time": "2024-11-17T20:33:04.374Z"
   },
   {
    "duration": 205,
    "start_time": "2024-11-17T20:33:04.379Z"
   },
   {
    "duration": 9,
    "start_time": "2024-11-17T20:33:04.586Z"
   },
   {
    "duration": 8,
    "start_time": "2024-11-17T20:33:04.598Z"
   },
   {
    "duration": 3,
    "start_time": "2024-11-17T20:33:04.608Z"
   },
   {
    "duration": 8,
    "start_time": "2024-11-17T20:33:04.624Z"
   },
   {
    "duration": 9,
    "start_time": "2024-11-17T20:33:04.634Z"
   },
   {
    "duration": 7,
    "start_time": "2024-11-17T20:33:04.645Z"
   },
   {
    "duration": 5,
    "start_time": "2024-11-17T20:33:04.656Z"
   },
   {
    "duration": 17,
    "start_time": "2024-11-17T20:33:04.662Z"
   },
   {
    "duration": 6,
    "start_time": "2024-11-17T20:33:04.680Z"
   },
   {
    "duration": 46,
    "start_time": "2024-11-17T20:33:04.688Z"
   },
   {
    "duration": 40,
    "start_time": "2024-11-17T20:33:04.736Z"
   },
   {
    "duration": 13,
    "start_time": "2024-11-17T20:33:04.778Z"
   },
   {
    "duration": 6,
    "start_time": "2024-11-17T20:33:04.792Z"
   },
   {
    "duration": 39,
    "start_time": "2024-11-17T20:33:04.799Z"
   },
   {
    "duration": 27,
    "start_time": "2024-11-17T20:33:04.841Z"
   },
   {
    "duration": 14,
    "start_time": "2024-11-17T20:33:04.870Z"
   },
   {
    "duration": 7,
    "start_time": "2024-11-17T20:33:04.886Z"
   },
   {
    "duration": 31,
    "start_time": "2024-11-17T20:33:04.895Z"
   },
   {
    "duration": 39,
    "start_time": "2024-11-17T20:33:04.928Z"
   },
   {
    "duration": 20,
    "start_time": "2024-11-17T20:33:04.968Z"
   },
   {
    "duration": 12,
    "start_time": "2024-11-17T20:33:04.990Z"
   },
   {
    "duration": 9,
    "start_time": "2024-11-17T20:33:05.023Z"
   },
   {
    "duration": 10,
    "start_time": "2024-11-17T20:33:05.033Z"
   },
   {
    "duration": 34,
    "start_time": "2024-11-17T20:33:05.044Z"
   },
   {
    "duration": 8,
    "start_time": "2024-11-17T20:33:05.079Z"
   },
   {
    "duration": 993,
    "start_time": "2024-11-17T20:33:05.088Z"
   },
   {
    "duration": 250,
    "start_time": "2024-11-17T20:33:06.082Z"
   },
   {
    "duration": 196,
    "start_time": "2024-11-17T20:33:06.334Z"
   },
   {
    "duration": 9,
    "start_time": "2024-11-17T20:33:06.533Z"
   },
   {
    "duration": 127,
    "start_time": "2024-11-17T20:33:06.544Z"
   },
   {
    "duration": 208,
    "start_time": "2024-11-17T20:33:06.673Z"
   },
   {
    "duration": 5,
    "start_time": "2024-11-17T20:33:06.883Z"
   },
   {
    "duration": 0,
    "start_time": "2024-11-17T20:33:06.889Z"
   },
   {
    "duration": 0,
    "start_time": "2024-11-17T20:33:06.891Z"
   },
   {
    "duration": 0,
    "start_time": "2024-11-17T20:33:06.892Z"
   },
   {
    "duration": 0,
    "start_time": "2024-11-17T20:33:06.894Z"
   },
   {
    "duration": 0,
    "start_time": "2024-11-17T20:33:06.895Z"
   },
   {
    "duration": 0,
    "start_time": "2024-11-17T20:33:06.896Z"
   },
   {
    "duration": 0,
    "start_time": "2024-11-17T20:33:06.898Z"
   },
   {
    "duration": 0,
    "start_time": "2024-11-17T20:33:06.899Z"
   },
   {
    "duration": 0,
    "start_time": "2024-11-17T20:33:06.900Z"
   },
   {
    "duration": 0,
    "start_time": "2024-11-17T20:33:06.901Z"
   },
   {
    "duration": 0,
    "start_time": "2024-11-17T20:33:06.924Z"
   },
   {
    "duration": 0,
    "start_time": "2024-11-17T20:33:06.926Z"
   },
   {
    "duration": 10,
    "start_time": "2024-11-17T20:34:42.616Z"
   },
   {
    "duration": 113,
    "start_time": "2024-11-17T20:34:46.842Z"
   },
   {
    "duration": 190,
    "start_time": "2024-11-17T20:35:15.575Z"
   },
   {
    "duration": 183,
    "start_time": "2024-11-17T20:35:25.616Z"
   },
   {
    "duration": 228,
    "start_time": "2024-11-17T20:35:25.802Z"
   },
   {
    "duration": 194,
    "start_time": "2024-11-17T20:35:26.032Z"
   },
   {
    "duration": 9,
    "start_time": "2024-11-17T20:35:26.229Z"
   },
   {
    "duration": 231,
    "start_time": "2024-11-17T20:35:26.240Z"
   },
   {
    "duration": 185,
    "start_time": "2024-11-17T20:35:26.473Z"
   },
   {
    "duration": 105,
    "start_time": "2024-11-17T20:35:26.661Z"
   },
   {
    "duration": 10,
    "start_time": "2024-11-17T20:35:26.768Z"
   },
   {
    "duration": 5,
    "start_time": "2024-11-17T20:35:26.780Z"
   },
   {
    "duration": 16,
    "start_time": "2024-11-17T20:35:26.788Z"
   },
   {
    "duration": 6,
    "start_time": "2024-11-17T20:35:26.806Z"
   },
   {
    "duration": 10,
    "start_time": "2024-11-17T20:35:26.823Z"
   },
   {
    "duration": 95,
    "start_time": "2024-11-17T20:36:13.508Z"
   },
   {
    "duration": 9,
    "start_time": "2024-11-17T20:36:36.792Z"
   },
   {
    "duration": 19,
    "start_time": "2024-11-17T20:41:38.594Z"
   },
   {
    "duration": 5,
    "start_time": "2024-11-17T20:41:43.670Z"
   },
   {
    "duration": 9,
    "start_time": "2024-11-17T20:41:46.184Z"
   },
   {
    "duration": 10,
    "start_time": "2024-11-17T20:41:47.094Z"
   },
   {
    "duration": 53,
    "start_time": "2024-11-17T20:41:49.232Z"
   },
   {
    "duration": 4,
    "start_time": "2024-11-17T20:41:58.352Z"
   },
   {
    "duration": 198,
    "start_time": "2024-11-17T20:41:58.358Z"
   },
   {
    "duration": 9,
    "start_time": "2024-11-17T20:41:58.558Z"
   },
   {
    "duration": 9,
    "start_time": "2024-11-17T20:41:58.569Z"
   },
   {
    "duration": 4,
    "start_time": "2024-11-17T20:41:58.580Z"
   },
   {
    "duration": 7,
    "start_time": "2024-11-17T20:41:58.586Z"
   },
   {
    "duration": 30,
    "start_time": "2024-11-17T20:41:58.595Z"
   },
   {
    "duration": 8,
    "start_time": "2024-11-17T20:42:00.089Z"
   },
   {
    "duration": 7,
    "start_time": "2024-11-17T20:42:01.437Z"
   },
   {
    "duration": 17,
    "start_time": "2024-11-17T20:42:02.870Z"
   },
   {
    "duration": 7,
    "start_time": "2024-11-17T20:42:03.093Z"
   },
   {
    "duration": 23,
    "start_time": "2024-11-17T20:42:06.173Z"
   },
   {
    "duration": 51,
    "start_time": "2024-11-17T20:42:06.604Z"
   },
   {
    "duration": 12,
    "start_time": "2024-11-17T20:42:07.993Z"
   },
   {
    "duration": 7,
    "start_time": "2024-11-17T20:42:08.310Z"
   },
   {
    "duration": 22,
    "start_time": "2024-11-17T20:42:09.358Z"
   },
   {
    "duration": 21,
    "start_time": "2024-11-17T20:42:09.837Z"
   },
   {
    "duration": 13,
    "start_time": "2024-11-17T20:42:10.745Z"
   },
   {
    "duration": 7,
    "start_time": "2024-11-17T20:42:10.989Z"
   },
   {
    "duration": 12,
    "start_time": "2024-11-17T20:42:11.928Z"
   },
   {
    "duration": 40,
    "start_time": "2024-11-17T20:42:12.397Z"
   },
   {
    "duration": 17,
    "start_time": "2024-11-17T20:42:14.790Z"
   },
   {
    "duration": 17,
    "start_time": "2024-11-17T20:42:15.222Z"
   },
   {
    "duration": 9,
    "start_time": "2024-11-17T20:42:15.724Z"
   },
   {
    "duration": 11,
    "start_time": "2024-11-17T20:42:16.262Z"
   },
   {
    "duration": 42,
    "start_time": "2024-11-17T20:42:23.141Z"
   },
   {
    "duration": 10,
    "start_time": "2024-11-17T20:43:10.316Z"
   },
   {
    "duration": 977,
    "start_time": "2024-11-17T20:43:11.169Z"
   },
   {
    "duration": 247,
    "start_time": "2024-11-17T20:43:12.734Z"
   },
   {
    "duration": 187,
    "start_time": "2024-11-17T20:43:22.010Z"
   },
   {
    "duration": 10,
    "start_time": "2024-11-17T20:43:24.065Z"
   },
   {
    "duration": 102,
    "start_time": "2024-11-17T20:43:28.860Z"
   },
   {
    "duration": 179,
    "start_time": "2024-11-17T20:43:30.676Z"
   },
   {
    "duration": 10,
    "start_time": "2024-11-17T20:43:53.447Z"
   },
   {
    "duration": 113,
    "start_time": "2024-11-17T20:43:54.811Z"
   },
   {
    "duration": 202,
    "start_time": "2024-11-17T20:43:55.947Z"
   },
   {
    "duration": 11,
    "start_time": "2024-11-17T20:44:58.401Z"
   },
   {
    "duration": 190,
    "start_time": "2024-11-17T20:49:43.678Z"
   },
   {
    "duration": 242,
    "start_time": "2024-11-17T20:50:16.285Z"
   },
   {
    "duration": 195,
    "start_time": "2024-11-17T20:50:18.975Z"
   },
   {
    "duration": 11,
    "start_time": "2024-11-17T20:50:20.438Z"
   },
   {
    "duration": 100,
    "start_time": "2024-11-17T20:50:22.871Z"
   },
   {
    "duration": 315,
    "start_time": "2024-11-17T20:50:45.537Z"
   },
   {
    "duration": 104,
    "start_time": "2024-11-17T20:50:45.853Z"
   },
   {
    "duration": 9,
    "start_time": "2024-11-17T20:50:46.052Z"
   },
   {
    "duration": 3,
    "start_time": "2024-11-17T20:50:59.397Z"
   },
   {
    "duration": 154,
    "start_time": "2024-11-17T20:50:59.410Z"
   },
   {
    "duration": 9,
    "start_time": "2024-11-17T20:50:59.566Z"
   },
   {
    "duration": 7,
    "start_time": "2024-11-17T20:50:59.576Z"
   },
   {
    "duration": 3,
    "start_time": "2024-11-17T20:50:59.585Z"
   },
   {
    "duration": 7,
    "start_time": "2024-11-17T20:50:59.592Z"
   },
   {
    "duration": 29,
    "start_time": "2024-11-17T20:50:59.601Z"
   },
   {
    "duration": 7,
    "start_time": "2024-11-17T20:50:59.631Z"
   },
   {
    "duration": 6,
    "start_time": "2024-11-17T20:50:59.640Z"
   },
   {
    "duration": 17,
    "start_time": "2024-11-17T20:50:59.647Z"
   },
   {
    "duration": 6,
    "start_time": "2024-11-17T20:50:59.666Z"
   },
   {
    "duration": 15,
    "start_time": "2024-11-17T20:50:59.674Z"
   },
   {
    "duration": 74,
    "start_time": "2024-11-17T20:50:59.691Z"
   },
   {
    "duration": 12,
    "start_time": "2024-11-17T20:50:59.766Z"
   },
   {
    "duration": 7,
    "start_time": "2024-11-17T20:50:59.782Z"
   },
   {
    "duration": 42,
    "start_time": "2024-11-17T20:50:59.790Z"
   },
   {
    "duration": 20,
    "start_time": "2024-11-17T20:50:59.834Z"
   },
   {
    "duration": 13,
    "start_time": "2024-11-17T20:50:59.857Z"
   },
   {
    "duration": 7,
    "start_time": "2024-11-17T20:50:59.872Z"
   },
   {
    "duration": 18,
    "start_time": "2024-11-17T20:50:59.880Z"
   },
   {
    "duration": 49,
    "start_time": "2024-11-17T20:50:59.924Z"
   },
   {
    "duration": 18,
    "start_time": "2024-11-17T20:50:59.974Z"
   },
   {
    "duration": 33,
    "start_time": "2024-11-17T20:50:59.994Z"
   },
   {
    "duration": 9,
    "start_time": "2024-11-17T20:51:00.029Z"
   },
   {
    "duration": 12,
    "start_time": "2024-11-17T20:51:00.039Z"
   },
   {
    "duration": 35,
    "start_time": "2024-11-17T20:51:00.052Z"
   },
   {
    "duration": 8,
    "start_time": "2024-11-17T20:51:00.089Z"
   },
   {
    "duration": 956,
    "start_time": "2024-11-17T20:51:00.098Z"
   },
   {
    "duration": 246,
    "start_time": "2024-11-17T20:51:01.055Z"
   },
   {
    "duration": 199,
    "start_time": "2024-11-17T20:51:01.304Z"
   },
   {
    "duration": 19,
    "start_time": "2024-11-17T20:51:01.506Z"
   },
   {
    "duration": 103,
    "start_time": "2024-11-17T20:51:01.527Z"
   },
   {
    "duration": 194,
    "start_time": "2024-11-17T20:51:01.632Z"
   },
   {
    "duration": 9,
    "start_time": "2024-11-17T20:51:01.828Z"
   },
   {
    "duration": 193,
    "start_time": "2024-11-17T20:51:01.838Z"
   },
   {
    "duration": 246,
    "start_time": "2024-11-17T20:51:02.032Z"
   },
   {
    "duration": 194,
    "start_time": "2024-11-17T20:51:02.280Z"
   },
   {
    "duration": 8,
    "start_time": "2024-11-17T20:51:02.476Z"
   },
   {
    "duration": 113,
    "start_time": "2024-11-17T20:51:02.486Z"
   },
   {
    "duration": 223,
    "start_time": "2024-11-17T20:51:02.601Z"
   },
   {
    "duration": 98,
    "start_time": "2024-11-17T20:51:02.826Z"
   },
   {
    "duration": 9,
    "start_time": "2024-11-17T20:51:02.929Z"
   },
   {
    "duration": 3,
    "start_time": "2024-11-17T20:51:37.365Z"
   },
   {
    "duration": 171,
    "start_time": "2024-11-17T20:51:37.372Z"
   },
   {
    "duration": 10,
    "start_time": "2024-11-17T20:51:37.545Z"
   },
   {
    "duration": 7,
    "start_time": "2024-11-17T20:51:37.557Z"
   },
   {
    "duration": 3,
    "start_time": "2024-11-17T20:51:37.566Z"
   },
   {
    "duration": 8,
    "start_time": "2024-11-17T20:51:37.572Z"
   },
   {
    "duration": 9,
    "start_time": "2024-11-17T20:51:37.581Z"
   },
   {
    "duration": 8,
    "start_time": "2024-11-17T20:51:37.591Z"
   },
   {
    "duration": 32,
    "start_time": "2024-11-17T20:51:37.601Z"
   },
   {
    "duration": 20,
    "start_time": "2024-11-17T20:51:37.637Z"
   },
   {
    "duration": 6,
    "start_time": "2024-11-17T20:51:37.659Z"
   },
   {
    "duration": 14,
    "start_time": "2024-11-17T20:51:37.668Z"
   },
   {
    "duration": 57,
    "start_time": "2024-11-17T20:51:37.683Z"
   },
   {
    "duration": 12,
    "start_time": "2024-11-17T20:51:37.742Z"
   },
   {
    "duration": 6,
    "start_time": "2024-11-17T20:51:37.757Z"
   },
   {
    "duration": 15,
    "start_time": "2024-11-17T20:51:37.765Z"
   },
   {
    "duration": 46,
    "start_time": "2024-11-17T20:51:37.781Z"
   },
   {
    "duration": 20,
    "start_time": "2024-11-17T20:51:37.829Z"
   },
   {
    "duration": 7,
    "start_time": "2024-11-17T20:51:37.852Z"
   },
   {
    "duration": 15,
    "start_time": "2024-11-17T20:51:37.860Z"
   },
   {
    "duration": 57,
    "start_time": "2024-11-17T20:51:37.877Z"
   },
   {
    "duration": 21,
    "start_time": "2024-11-17T20:51:37.937Z"
   },
   {
    "duration": 19,
    "start_time": "2024-11-17T20:51:37.959Z"
   },
   {
    "duration": 11,
    "start_time": "2024-11-17T20:51:37.979Z"
   },
   {
    "duration": 32,
    "start_time": "2024-11-17T20:51:37.992Z"
   },
   {
    "duration": 40,
    "start_time": "2024-11-17T20:51:38.025Z"
   },
   {
    "duration": 9,
    "start_time": "2024-11-17T20:51:38.067Z"
   },
   {
    "duration": 1079,
    "start_time": "2024-11-17T20:51:38.077Z"
   },
   {
    "duration": 231,
    "start_time": "2024-11-17T20:51:39.158Z"
   },
   {
    "duration": 301,
    "start_time": "2024-11-17T20:51:39.391Z"
   },
   {
    "duration": 10,
    "start_time": "2024-11-17T20:51:39.696Z"
   },
   {
    "duration": 136,
    "start_time": "2024-11-17T20:51:39.708Z"
   },
   {
    "duration": 190,
    "start_time": "2024-11-17T20:51:39.847Z"
   },
   {
    "duration": 11,
    "start_time": "2024-11-17T20:51:40.039Z"
   },
   {
    "duration": 194,
    "start_time": "2024-11-17T20:51:40.051Z"
   },
   {
    "duration": 241,
    "start_time": "2024-11-17T20:51:40.248Z"
   },
   {
    "duration": 210,
    "start_time": "2024-11-17T20:51:40.490Z"
   },
   {
    "duration": 12,
    "start_time": "2024-11-17T20:51:40.702Z"
   },
   {
    "duration": 124,
    "start_time": "2024-11-17T20:51:40.716Z"
   },
   {
    "duration": 205,
    "start_time": "2024-11-17T20:51:40.842Z"
   },
   {
    "duration": 102,
    "start_time": "2024-11-17T20:51:41.048Z"
   },
   {
    "duration": 9,
    "start_time": "2024-11-17T20:51:41.154Z"
   },
   {
    "duration": 7,
    "start_time": "2024-11-17T20:51:41.164Z"
   },
   {
    "duration": 13,
    "start_time": "2024-11-17T20:51:41.174Z"
   },
   {
    "duration": 6,
    "start_time": "2024-11-17T20:51:41.189Z"
   },
   {
    "duration": 27,
    "start_time": "2024-11-17T20:51:41.198Z"
   },
   {
    "duration": 3,
    "start_time": "2024-11-17T20:57:11.592Z"
   },
   {
    "duration": 6,
    "start_time": "2024-11-17T20:57:22.852Z"
   },
   {
    "duration": 3,
    "start_time": "2024-11-17T20:57:24.156Z"
   },
   {
    "duration": 7,
    "start_time": "2024-11-17T20:57:39.628Z"
   },
   {
    "duration": 3,
    "start_time": "2024-11-17T20:57:40.632Z"
   },
   {
    "duration": 36,
    "start_time": "2024-11-17T20:59:36.564Z"
   },
   {
    "duration": 41,
    "start_time": "2024-11-17T21:00:42.816Z"
   },
   {
    "duration": 5,
    "start_time": "2024-11-17T21:01:10.624Z"
   },
   {
    "duration": 2,
    "start_time": "2024-11-17T21:01:15.446Z"
   },
   {
    "duration": 156,
    "start_time": "2024-11-17T21:01:15.450Z"
   },
   {
    "duration": 10,
    "start_time": "2024-11-17T21:01:15.608Z"
   },
   {
    "duration": 8,
    "start_time": "2024-11-17T21:01:15.623Z"
   },
   {
    "duration": 4,
    "start_time": "2024-11-17T21:01:15.632Z"
   },
   {
    "duration": 7,
    "start_time": "2024-11-17T21:01:15.638Z"
   },
   {
    "duration": 8,
    "start_time": "2024-11-17T21:01:15.647Z"
   },
   {
    "duration": 7,
    "start_time": "2024-11-17T21:01:15.656Z"
   },
   {
    "duration": 5,
    "start_time": "2024-11-17T21:01:15.665Z"
   },
   {
    "duration": 3,
    "start_time": "2024-11-17T21:01:32.841Z"
   },
   {
    "duration": 5,
    "start_time": "2024-11-17T21:03:42.185Z"
   },
   {
    "duration": 15,
    "start_time": "2024-11-17T21:05:12.752Z"
   },
   {
    "duration": 15,
    "start_time": "2024-11-17T21:05:27.884Z"
   },
   {
    "duration": 6,
    "start_time": "2024-11-17T21:05:54.942Z"
   },
   {
    "duration": 486,
    "start_time": "2024-11-17T21:07:25.003Z"
   },
   {
    "duration": 2,
    "start_time": "2024-11-17T21:09:53.073Z"
   },
   {
    "duration": 153,
    "start_time": "2024-11-17T21:09:53.080Z"
   },
   {
    "duration": 12,
    "start_time": "2024-11-17T21:09:53.235Z"
   },
   {
    "duration": 8,
    "start_time": "2024-11-17T21:09:53.248Z"
   },
   {
    "duration": 5,
    "start_time": "2024-11-17T21:09:53.258Z"
   },
   {
    "duration": 7,
    "start_time": "2024-11-17T21:09:53.266Z"
   },
   {
    "duration": 7,
    "start_time": "2024-11-17T21:09:53.275Z"
   },
   {
    "duration": 5,
    "start_time": "2024-11-17T21:09:53.284Z"
   },
   {
    "duration": 35,
    "start_time": "2024-11-17T21:09:53.290Z"
   },
   {
    "duration": 6,
    "start_time": "2024-11-17T21:09:53.327Z"
   },
   {
    "duration": 15,
    "start_time": "2024-11-17T21:09:53.334Z"
   },
   {
    "duration": 6,
    "start_time": "2024-11-17T21:09:53.351Z"
   },
   {
    "duration": 14,
    "start_time": "2024-11-17T21:09:53.358Z"
   },
   {
    "duration": 62,
    "start_time": "2024-11-17T21:09:53.373Z"
   },
   {
    "duration": 11,
    "start_time": "2024-11-17T21:09:53.439Z"
   },
   {
    "duration": 6,
    "start_time": "2024-11-17T21:09:53.451Z"
   },
   {
    "duration": 14,
    "start_time": "2024-11-17T21:09:53.458Z"
   },
   {
    "duration": 21,
    "start_time": "2024-11-17T21:09:53.474Z"
   },
   {
    "duration": 14,
    "start_time": "2024-11-17T21:09:53.524Z"
   },
   {
    "duration": 6,
    "start_time": "2024-11-17T21:09:53.541Z"
   },
   {
    "duration": 11,
    "start_time": "2024-11-17T21:09:53.549Z"
   },
   {
    "duration": 39,
    "start_time": "2024-11-17T21:09:53.562Z"
   },
   {
    "duration": 35,
    "start_time": "2024-11-17T21:09:53.602Z"
   },
   {
    "duration": 13,
    "start_time": "2024-11-17T21:09:53.638Z"
   },
   {
    "duration": 9,
    "start_time": "2024-11-17T21:09:53.653Z"
   },
   {
    "duration": 10,
    "start_time": "2024-11-17T21:09:53.663Z"
   },
   {
    "duration": 35,
    "start_time": "2024-11-17T21:09:56.833Z"
   },
   {
    "duration": 48,
    "start_time": "2024-11-17T21:10:18.204Z"
   },
   {
    "duration": 37,
    "start_time": "2024-11-17T21:11:03.577Z"
   },
   {
    "duration": 35,
    "start_time": "2024-11-17T21:11:12.954Z"
   },
   {
    "duration": 19,
    "start_time": "2024-11-17T21:11:42.377Z"
   },
   {
    "duration": 20,
    "start_time": "2024-11-17T21:11:45.420Z"
   },
   {
    "duration": 4,
    "start_time": "2024-11-17T21:12:45.983Z"
   },
   {
    "duration": 33,
    "start_time": "2024-11-17T21:12:58.720Z"
   },
   {
    "duration": 4,
    "start_time": "2024-11-17T21:13:36.025Z"
   },
   {
    "duration": 34,
    "start_time": "2024-11-17T21:13:36.431Z"
   },
   {
    "duration": 33,
    "start_time": "2024-11-17T21:14:49.981Z"
   },
   {
    "duration": 34,
    "start_time": "2024-11-17T21:15:18.444Z"
   },
   {
    "duration": 2,
    "start_time": "2024-11-17T21:15:20.016Z"
   },
   {
    "duration": 162,
    "start_time": "2024-11-17T21:15:20.021Z"
   },
   {
    "duration": 8,
    "start_time": "2024-11-17T21:15:20.185Z"
   },
   {
    "duration": 7,
    "start_time": "2024-11-17T21:15:20.195Z"
   },
   {
    "duration": 4,
    "start_time": "2024-11-17T21:15:20.205Z"
   },
   {
    "duration": 19,
    "start_time": "2024-11-17T21:15:20.211Z"
   },
   {
    "duration": 7,
    "start_time": "2024-11-17T21:15:20.232Z"
   },
   {
    "duration": 4,
    "start_time": "2024-11-17T21:15:20.240Z"
   },
   {
    "duration": 8,
    "start_time": "2024-11-17T21:15:20.245Z"
   },
   {
    "duration": 6,
    "start_time": "2024-11-17T21:15:20.254Z"
   },
   {
    "duration": 15,
    "start_time": "2024-11-17T21:15:20.262Z"
   },
   {
    "duration": 8,
    "start_time": "2024-11-17T21:15:20.279Z"
   },
   {
    "duration": 13,
    "start_time": "2024-11-17T21:15:20.324Z"
   },
   {
    "duration": 37,
    "start_time": "2024-11-17T21:15:20.341Z"
   },
   {
    "duration": 11,
    "start_time": "2024-11-17T21:15:20.380Z"
   },
   {
    "duration": 6,
    "start_time": "2024-11-17T21:15:20.393Z"
   },
   {
    "duration": 15,
    "start_time": "2024-11-17T21:15:20.424Z"
   },
   {
    "duration": 27,
    "start_time": "2024-11-17T21:15:20.440Z"
   },
   {
    "duration": 16,
    "start_time": "2024-11-17T21:15:20.469Z"
   },
   {
    "duration": 6,
    "start_time": "2024-11-17T21:15:20.487Z"
   },
   {
    "duration": 35,
    "start_time": "2024-11-17T21:15:20.495Z"
   },
   {
    "duration": 40,
    "start_time": "2024-11-17T21:15:20.532Z"
   },
   {
    "duration": 14,
    "start_time": "2024-11-17T21:15:20.574Z"
   },
   {
    "duration": 13,
    "start_time": "2024-11-17T21:15:20.589Z"
   },
   {
    "duration": 9,
    "start_time": "2024-11-17T21:15:20.625Z"
   },
   {
    "duration": 12,
    "start_time": "2024-11-17T21:15:20.636Z"
   },
   {
    "duration": 4,
    "start_time": "2024-11-17T21:15:20.649Z"
   },
   {
    "duration": 32,
    "start_time": "2024-11-17T21:15:20.655Z"
   },
   {
    "duration": 7,
    "start_time": "2024-11-17T21:15:20.689Z"
   },
   {
    "duration": 72,
    "start_time": "2024-11-17T21:15:20.724Z"
   },
   {
    "duration": 0,
    "start_time": "2024-11-17T21:15:20.798Z"
   },
   {
    "duration": 0,
    "start_time": "2024-11-17T21:15:20.799Z"
   },
   {
    "duration": 0,
    "start_time": "2024-11-17T21:15:20.801Z"
   },
   {
    "duration": 1,
    "start_time": "2024-11-17T21:15:20.801Z"
   },
   {
    "duration": 0,
    "start_time": "2024-11-17T21:15:20.802Z"
   },
   {
    "duration": 0,
    "start_time": "2024-11-17T21:15:20.803Z"
   },
   {
    "duration": 0,
    "start_time": "2024-11-17T21:15:20.804Z"
   },
   {
    "duration": 0,
    "start_time": "2024-11-17T21:15:20.805Z"
   },
   {
    "duration": 0,
    "start_time": "2024-11-17T21:15:20.806Z"
   },
   {
    "duration": 0,
    "start_time": "2024-11-17T21:15:20.824Z"
   },
   {
    "duration": 0,
    "start_time": "2024-11-17T21:15:20.826Z"
   },
   {
    "duration": 0,
    "start_time": "2024-11-17T21:15:20.827Z"
   },
   {
    "duration": 0,
    "start_time": "2024-11-17T21:15:20.828Z"
   },
   {
    "duration": 0,
    "start_time": "2024-11-17T21:15:20.829Z"
   },
   {
    "duration": 0,
    "start_time": "2024-11-17T21:15:20.830Z"
   },
   {
    "duration": 0,
    "start_time": "2024-11-17T21:15:20.831Z"
   },
   {
    "duration": 0,
    "start_time": "2024-11-17T21:15:20.832Z"
   },
   {
    "duration": 0,
    "start_time": "2024-11-17T21:15:20.833Z"
   },
   {
    "duration": 0,
    "start_time": "2024-11-17T21:15:20.834Z"
   },
   {
    "duration": 35,
    "start_time": "2024-11-17T21:15:58.438Z"
   },
   {
    "duration": 8,
    "start_time": "2024-11-17T21:16:08.038Z"
   },
   {
    "duration": 959,
    "start_time": "2024-11-17T21:16:08.877Z"
   },
   {
    "duration": 3,
    "start_time": "2024-11-17T21:16:13.288Z"
   },
   {
    "duration": 169,
    "start_time": "2024-11-17T21:16:13.293Z"
   },
   {
    "duration": 8,
    "start_time": "2024-11-17T21:16:13.464Z"
   },
   {
    "duration": 7,
    "start_time": "2024-11-17T21:16:13.474Z"
   },
   {
    "duration": 4,
    "start_time": "2024-11-17T21:16:13.484Z"
   },
   {
    "duration": 8,
    "start_time": "2024-11-17T21:16:13.489Z"
   },
   {
    "duration": 28,
    "start_time": "2024-11-17T21:16:13.499Z"
   },
   {
    "duration": 5,
    "start_time": "2024-11-17T21:16:13.528Z"
   },
   {
    "duration": 7,
    "start_time": "2024-11-17T21:16:13.534Z"
   },
   {
    "duration": 5,
    "start_time": "2024-11-17T21:16:13.544Z"
   },
   {
    "duration": 15,
    "start_time": "2024-11-17T21:16:13.551Z"
   },
   {
    "duration": 6,
    "start_time": "2024-11-17T21:16:13.567Z"
   },
   {
    "duration": 50,
    "start_time": "2024-11-17T21:16:13.578Z"
   },
   {
    "duration": 37,
    "start_time": "2024-11-17T21:16:13.630Z"
   },
   {
    "duration": 11,
    "start_time": "2024-11-17T21:16:13.669Z"
   },
   {
    "duration": 5,
    "start_time": "2024-11-17T21:16:13.682Z"
   },
   {
    "duration": 41,
    "start_time": "2024-11-17T21:16:13.689Z"
   },
   {
    "duration": 23,
    "start_time": "2024-11-17T21:16:13.731Z"
   },
   {
    "duration": 13,
    "start_time": "2024-11-17T21:16:13.756Z"
   },
   {
    "duration": 7,
    "start_time": "2024-11-17T21:16:13.771Z"
   },
   {
    "duration": 13,
    "start_time": "2024-11-17T21:16:13.779Z"
   },
   {
    "duration": 68,
    "start_time": "2024-11-17T21:16:13.793Z"
   },
   {
    "duration": 19,
    "start_time": "2024-11-17T21:16:13.862Z"
   },
   {
    "duration": 14,
    "start_time": "2024-11-17T21:16:13.882Z"
   },
   {
    "duration": 29,
    "start_time": "2024-11-17T21:16:13.897Z"
   },
   {
    "duration": 11,
    "start_time": "2024-11-17T21:16:13.928Z"
   },
   {
    "duration": 3,
    "start_time": "2024-11-17T21:16:13.941Z"
   },
   {
    "duration": 36,
    "start_time": "2024-11-17T21:16:13.945Z"
   },
   {
    "duration": 7,
    "start_time": "2024-11-17T21:16:13.982Z"
   },
   {
    "duration": 936,
    "start_time": "2024-11-17T21:16:13.991Z"
   },
   {
    "duration": 224,
    "start_time": "2024-11-17T21:16:14.929Z"
   },
   {
    "duration": 189,
    "start_time": "2024-11-17T21:16:15.154Z"
   },
   {
    "duration": 9,
    "start_time": "2024-11-17T21:16:15.345Z"
   },
   {
    "duration": 124,
    "start_time": "2024-11-17T21:16:15.355Z"
   },
   {
    "duration": 194,
    "start_time": "2024-11-17T21:16:15.481Z"
   },
   {
    "duration": 9,
    "start_time": "2024-11-17T21:16:15.677Z"
   },
   {
    "duration": 207,
    "start_time": "2024-11-17T21:16:15.691Z"
   },
   {
    "duration": 234,
    "start_time": "2024-11-17T21:16:15.900Z"
   },
   {
    "duration": 302,
    "start_time": "2024-11-17T21:16:16.135Z"
   },
   {
    "duration": 10,
    "start_time": "2024-11-17T21:16:16.439Z"
   },
   {
    "duration": 116,
    "start_time": "2024-11-17T21:16:16.450Z"
   },
   {
    "duration": 179,
    "start_time": "2024-11-17T21:16:16.568Z"
   },
   {
    "duration": 99,
    "start_time": "2024-11-17T21:16:16.749Z"
   },
   {
    "duration": 9,
    "start_time": "2024-11-17T21:16:16.851Z"
   },
   {
    "duration": 5,
    "start_time": "2024-11-17T21:16:16.861Z"
   },
   {
    "duration": 5,
    "start_time": "2024-11-17T21:16:16.868Z"
   },
   {
    "duration": 3,
    "start_time": "2024-11-17T21:16:16.875Z"
   },
   {
    "duration": 3,
    "start_time": "2024-11-17T21:16:16.880Z"
   },
   {
    "duration": 44,
    "start_time": "2024-11-17T21:16:16.885Z"
   },
   {
    "duration": 38,
    "start_time": "2024-11-17T21:18:16.435Z"
   },
   {
    "duration": 3,
    "start_time": "2024-11-17T21:18:35.434Z"
   },
   {
    "duration": 158,
    "start_time": "2024-11-17T21:18:35.440Z"
   },
   {
    "duration": 8,
    "start_time": "2024-11-17T21:18:35.599Z"
   },
   {
    "duration": 20,
    "start_time": "2024-11-17T21:18:35.609Z"
   },
   {
    "duration": 4,
    "start_time": "2024-11-17T21:18:35.631Z"
   },
   {
    "duration": 8,
    "start_time": "2024-11-17T21:18:35.637Z"
   },
   {
    "duration": 8,
    "start_time": "2024-11-17T21:18:35.646Z"
   },
   {
    "duration": 4,
    "start_time": "2024-11-17T21:18:35.655Z"
   },
   {
    "duration": 7,
    "start_time": "2024-11-17T21:18:35.661Z"
   },
   {
    "duration": 6,
    "start_time": "2024-11-17T21:18:35.669Z"
   },
   {
    "duration": 53,
    "start_time": "2024-11-17T21:18:35.676Z"
   },
   {
    "duration": 6,
    "start_time": "2024-11-17T21:18:35.731Z"
   },
   {
    "duration": 15,
    "start_time": "2024-11-17T21:18:35.741Z"
   },
   {
    "duration": 41,
    "start_time": "2024-11-17T21:18:35.757Z"
   },
   {
    "duration": 33,
    "start_time": "2024-11-17T21:18:35.800Z"
   },
   {
    "duration": 6,
    "start_time": "2024-11-17T21:18:35.834Z"
   },
   {
    "duration": 15,
    "start_time": "2024-11-17T21:18:35.842Z"
   },
   {
    "duration": 21,
    "start_time": "2024-11-17T21:18:35.858Z"
   },
   {
    "duration": 13,
    "start_time": "2024-11-17T21:18:35.881Z"
   },
   {
    "duration": 7,
    "start_time": "2024-11-17T21:18:35.923Z"
   },
   {
    "duration": 12,
    "start_time": "2024-11-17T21:18:35.931Z"
   },
   {
    "duration": 42,
    "start_time": "2024-11-17T21:18:35.944Z"
   },
   {
    "duration": 37,
    "start_time": "2024-11-17T21:18:35.987Z"
   },
   {
    "duration": 12,
    "start_time": "2024-11-17T21:18:36.025Z"
   },
   {
    "duration": 9,
    "start_time": "2024-11-17T21:18:36.039Z"
   },
   {
    "duration": 11,
    "start_time": "2024-11-17T21:18:36.049Z"
   },
   {
    "duration": 3,
    "start_time": "2024-11-17T21:18:36.061Z"
   },
   {
    "duration": 58,
    "start_time": "2024-11-17T21:18:36.066Z"
   },
   {
    "duration": 11,
    "start_time": "2024-11-17T21:18:36.125Z"
   },
   {
    "duration": 970,
    "start_time": "2024-11-17T21:18:36.137Z"
   },
   {
    "duration": 228,
    "start_time": "2024-11-17T21:18:37.108Z"
   },
   {
    "duration": 206,
    "start_time": "2024-11-17T21:18:37.337Z"
   },
   {
    "duration": 10,
    "start_time": "2024-11-17T21:18:37.545Z"
   },
   {
    "duration": 113,
    "start_time": "2024-11-17T21:18:37.556Z"
   },
   {
    "duration": 197,
    "start_time": "2024-11-17T21:18:37.671Z"
   },
   {
    "duration": 9,
    "start_time": "2024-11-17T21:18:37.870Z"
   },
   {
    "duration": 204,
    "start_time": "2024-11-17T21:18:37.883Z"
   },
   {
    "duration": 241,
    "start_time": "2024-11-17T21:18:38.089Z"
   },
   {
    "duration": 198,
    "start_time": "2024-11-17T21:18:38.332Z"
   },
   {
    "duration": 9,
    "start_time": "2024-11-17T21:18:38.532Z"
   },
   {
    "duration": 116,
    "start_time": "2024-11-17T21:18:38.542Z"
   },
   {
    "duration": 194,
    "start_time": "2024-11-17T21:18:38.660Z"
   },
   {
    "duration": 104,
    "start_time": "2024-11-17T21:18:38.856Z"
   },
   {
    "duration": 9,
    "start_time": "2024-11-17T21:18:38.962Z"
   },
   {
    "duration": 4,
    "start_time": "2024-11-17T21:18:38.973Z"
   },
   {
    "duration": 6,
    "start_time": "2024-11-17T21:18:38.979Z"
   },
   {
    "duration": 3,
    "start_time": "2024-11-17T21:18:38.987Z"
   },
   {
    "duration": 4,
    "start_time": "2024-11-17T21:18:39.023Z"
   },
   {
    "duration": 8,
    "start_time": "2024-11-17T21:18:39.029Z"
   },
   {
    "duration": 1028,
    "start_time": "2024-11-17T21:19:21.736Z"
   },
   {
    "duration": 235,
    "start_time": "2024-11-17T21:19:27.701Z"
   },
   {
    "duration": 186,
    "start_time": "2024-11-17T21:19:28.373Z"
   },
   {
    "duration": 9,
    "start_time": "2024-11-17T21:19:29.993Z"
   },
   {
    "duration": 99,
    "start_time": "2024-11-17T21:19:32.738Z"
   },
   {
    "duration": 340,
    "start_time": "2024-11-17T21:19:34.955Z"
   },
   {
    "duration": 9,
    "start_time": "2024-11-17T21:19:35.397Z"
   },
   {
    "duration": 248,
    "start_time": "2024-11-17T21:19:37.476Z"
   },
   {
    "duration": 260,
    "start_time": "2024-11-17T21:19:38.165Z"
   },
   {
    "duration": 187,
    "start_time": "2024-11-17T21:19:38.917Z"
   },
   {
    "duration": 10,
    "start_time": "2024-11-17T21:19:40.549Z"
   },
   {
    "duration": 109,
    "start_time": "2024-11-17T21:19:41.788Z"
   },
   {
    "duration": 231,
    "start_time": "2024-11-17T21:19:42.524Z"
   },
   {
    "duration": 111,
    "start_time": "2024-11-17T21:19:42.820Z"
   },
   {
    "duration": 10,
    "start_time": "2024-11-17T21:19:43.084Z"
   },
   {
    "duration": 12,
    "start_time": "2024-11-17T21:20:25.110Z"
   },
   {
    "duration": 5,
    "start_time": "2024-11-17T21:20:48.505Z"
   },
   {
    "duration": 7,
    "start_time": "2024-11-17T21:20:59.099Z"
   },
   {
    "duration": 9,
    "start_time": "2024-11-17T21:24:03.973Z"
   },
   {
    "duration": 3,
    "start_time": "2024-11-17T21:24:10.556Z"
   },
   {
    "duration": 8,
    "start_time": "2024-11-17T21:25:32.102Z"
   },
   {
    "duration": 3,
    "start_time": "2024-11-17T21:25:32.769Z"
   },
   {
    "duration": 4,
    "start_time": "2024-11-17T21:25:37.491Z"
   },
   {
    "duration": 13,
    "start_time": "2024-11-17T21:25:37.911Z"
   },
   {
    "duration": 4,
    "start_time": "2024-11-17T21:25:57.411Z"
   },
   {
    "duration": 4,
    "start_time": "2024-11-17T21:25:57.979Z"
   },
   {
    "duration": 11,
    "start_time": "2024-11-17T21:26:06.536Z"
   },
   {
    "duration": 177,
    "start_time": "2024-11-17T21:26:06.549Z"
   },
   {
    "duration": 17,
    "start_time": "2024-11-17T21:26:06.730Z"
   },
   {
    "duration": 16,
    "start_time": "2024-11-17T21:26:06.749Z"
   },
   {
    "duration": 4,
    "start_time": "2024-11-17T21:26:06.769Z"
   },
   {
    "duration": 8,
    "start_time": "2024-11-17T21:26:06.774Z"
   },
   {
    "duration": 7,
    "start_time": "2024-11-17T21:26:06.784Z"
   },
   {
    "duration": 4,
    "start_time": "2024-11-17T21:26:06.793Z"
   },
   {
    "duration": 7,
    "start_time": "2024-11-17T21:26:06.799Z"
   },
   {
    "duration": 15,
    "start_time": "2024-11-17T21:26:06.824Z"
   },
   {
    "duration": 21,
    "start_time": "2024-11-17T21:26:06.846Z"
   },
   {
    "duration": 6,
    "start_time": "2024-11-17T21:26:06.869Z"
   },
   {
    "duration": 15,
    "start_time": "2024-11-17T21:26:06.877Z"
   },
   {
    "duration": 69,
    "start_time": "2024-11-17T21:26:06.896Z"
   },
   {
    "duration": 12,
    "start_time": "2024-11-17T21:26:06.966Z"
   },
   {
    "duration": 5,
    "start_time": "2024-11-17T21:26:06.980Z"
   },
   {
    "duration": 14,
    "start_time": "2024-11-17T21:26:06.988Z"
   },
   {
    "duration": 49,
    "start_time": "2024-11-17T21:26:07.004Z"
   },
   {
    "duration": 13,
    "start_time": "2024-11-17T21:26:07.055Z"
   },
   {
    "duration": 6,
    "start_time": "2024-11-17T21:26:07.070Z"
   },
   {
    "duration": 12,
    "start_time": "2024-11-17T21:26:07.078Z"
   },
   {
    "duration": 65,
    "start_time": "2024-11-17T21:26:07.092Z"
   },
   {
    "duration": 14,
    "start_time": "2024-11-17T21:26:07.159Z"
   },
   {
    "duration": 13,
    "start_time": "2024-11-17T21:26:07.174Z"
   },
   {
    "duration": 9,
    "start_time": "2024-11-17T21:26:07.188Z"
   },
   {
    "duration": 51,
    "start_time": "2024-11-17T21:26:07.198Z"
   },
   {
    "duration": 3,
    "start_time": "2024-11-17T21:26:07.253Z"
   },
   {
    "duration": 36,
    "start_time": "2024-11-17T21:26:07.258Z"
   },
   {
    "duration": 9,
    "start_time": "2024-11-17T21:26:07.295Z"
   },
   {
    "duration": 1061,
    "start_time": "2024-11-17T21:26:07.306Z"
   },
   {
    "duration": 243,
    "start_time": "2024-11-17T21:26:08.369Z"
   },
   {
    "duration": 241,
    "start_time": "2024-11-17T21:26:08.614Z"
   },
   {
    "duration": 12,
    "start_time": "2024-11-17T21:26:08.857Z"
   },
   {
    "duration": 127,
    "start_time": "2024-11-17T21:26:08.871Z"
   },
   {
    "duration": 214,
    "start_time": "2024-11-17T21:26:08.999Z"
   },
   {
    "duration": 33,
    "start_time": "2024-11-17T21:26:09.217Z"
   },
   {
    "duration": 218,
    "start_time": "2024-11-17T21:26:09.252Z"
   },
   {
    "duration": 244,
    "start_time": "2024-11-17T21:26:09.472Z"
   },
   {
    "duration": 226,
    "start_time": "2024-11-17T21:26:09.718Z"
   },
   {
    "duration": 11,
    "start_time": "2024-11-17T21:26:09.946Z"
   },
   {
    "duration": 131,
    "start_time": "2024-11-17T21:26:09.962Z"
   },
   {
    "duration": 189,
    "start_time": "2024-11-17T21:26:10.094Z"
   },
   {
    "duration": 308,
    "start_time": "2024-11-17T21:26:10.285Z"
   },
   {
    "duration": 8,
    "start_time": "2024-11-17T21:26:10.595Z"
   },
   {
    "duration": 28,
    "start_time": "2024-11-17T21:26:10.605Z"
   },
   {
    "duration": 4,
    "start_time": "2024-11-17T21:26:10.652Z"
   },
   {
    "duration": 20,
    "start_time": "2024-11-17T21:26:13.338Z"
   },
   {
    "duration": 10,
    "start_time": "2024-11-17T21:26:15.909Z"
   },
   {
    "duration": 5,
    "start_time": "2024-11-17T21:32:20.404Z"
   },
   {
    "duration": 3,
    "start_time": "2024-11-17T21:32:33.465Z"
   },
   {
    "duration": 185,
    "start_time": "2024-11-17T21:32:33.470Z"
   },
   {
    "duration": 8,
    "start_time": "2024-11-17T21:32:33.657Z"
   },
   {
    "duration": 6,
    "start_time": "2024-11-17T21:32:33.668Z"
   },
   {
    "duration": 4,
    "start_time": "2024-11-17T21:32:33.675Z"
   },
   {
    "duration": 8,
    "start_time": "2024-11-17T21:32:33.682Z"
   },
   {
    "duration": 8,
    "start_time": "2024-11-17T21:32:33.692Z"
   },
   {
    "duration": 28,
    "start_time": "2024-11-17T21:32:33.702Z"
   },
   {
    "duration": 8,
    "start_time": "2024-11-17T21:32:33.732Z"
   },
   {
    "duration": 14,
    "start_time": "2024-11-17T21:32:33.744Z"
   },
   {
    "duration": 24,
    "start_time": "2024-11-17T21:32:33.759Z"
   },
   {
    "duration": 10,
    "start_time": "2024-11-17T21:32:33.785Z"
   },
   {
    "duration": 34,
    "start_time": "2024-11-17T21:32:33.797Z"
   },
   {
    "duration": 63,
    "start_time": "2024-11-17T21:32:33.833Z"
   },
   {
    "duration": 12,
    "start_time": "2024-11-17T21:32:33.898Z"
   },
   {
    "duration": 9,
    "start_time": "2024-11-17T21:32:33.924Z"
   },
   {
    "duration": 17,
    "start_time": "2024-11-17T21:32:33.934Z"
   },
   {
    "duration": 21,
    "start_time": "2024-11-17T21:32:33.953Z"
   },
   {
    "duration": 17,
    "start_time": "2024-11-17T21:32:33.977Z"
   },
   {
    "duration": 7,
    "start_time": "2024-11-17T21:32:33.995Z"
   },
   {
    "duration": 32,
    "start_time": "2024-11-17T21:32:34.003Z"
   },
   {
    "duration": 43,
    "start_time": "2024-11-17T21:32:34.037Z"
   },
   {
    "duration": 20,
    "start_time": "2024-11-17T21:32:34.083Z"
   },
   {
    "duration": 51,
    "start_time": "2024-11-17T21:32:34.104Z"
   },
   {
    "duration": 10,
    "start_time": "2024-11-17T21:32:34.157Z"
   },
   {
    "duration": 12,
    "start_time": "2024-11-17T21:32:34.169Z"
   },
   {
    "duration": 3,
    "start_time": "2024-11-17T21:32:34.182Z"
   },
   {
    "duration": 64,
    "start_time": "2024-11-17T21:32:34.189Z"
   },
   {
    "duration": 7,
    "start_time": "2024-11-17T21:32:34.255Z"
   },
   {
    "duration": 1060,
    "start_time": "2024-11-17T21:32:34.264Z"
   },
   {
    "duration": 270,
    "start_time": "2024-11-17T21:32:35.336Z"
   },
   {
    "duration": 230,
    "start_time": "2024-11-17T21:32:35.607Z"
   },
   {
    "duration": 12,
    "start_time": "2024-11-17T21:32:35.839Z"
   },
   {
    "duration": 133,
    "start_time": "2024-11-17T21:32:35.852Z"
   },
   {
    "duration": 228,
    "start_time": "2024-11-17T21:32:35.987Z"
   },
   {
    "duration": 30,
    "start_time": "2024-11-17T21:32:36.217Z"
   },
   {
    "duration": 209,
    "start_time": "2024-11-17T21:32:36.252Z"
   },
   {
    "duration": 288,
    "start_time": "2024-11-17T21:32:36.463Z"
   },
   {
    "duration": 223,
    "start_time": "2024-11-17T21:32:36.752Z"
   },
   {
    "duration": 9,
    "start_time": "2024-11-17T21:32:36.977Z"
   },
   {
    "duration": 115,
    "start_time": "2024-11-17T21:32:36.987Z"
   },
   {
    "duration": 171,
    "start_time": "2024-11-17T21:32:37.104Z"
   },
   {
    "duration": 142,
    "start_time": "2024-11-17T21:32:37.278Z"
   },
   {
    "duration": 12,
    "start_time": "2024-11-17T21:32:37.423Z"
   },
   {
    "duration": 12,
    "start_time": "2024-11-17T21:32:37.447Z"
   },
   {
    "duration": 10,
    "start_time": "2024-11-17T21:34:25.989Z"
   },
   {
    "duration": 895,
    "start_time": "2024-11-17T21:34:50.961Z"
   },
   {
    "duration": 183,
    "start_time": "2024-11-17T21:34:51.858Z"
   },
   {
    "duration": 11,
    "start_time": "2024-11-17T21:34:52.043Z"
   },
   {
    "duration": 17,
    "start_time": "2024-11-17T21:34:52.055Z"
   },
   {
    "duration": 5,
    "start_time": "2024-11-17T21:34:52.075Z"
   },
   {
    "duration": 8,
    "start_time": "2024-11-17T21:34:52.082Z"
   },
   {
    "duration": 8,
    "start_time": "2024-11-17T21:34:52.092Z"
   },
   {
    "duration": 5,
    "start_time": "2024-11-17T21:34:52.130Z"
   },
   {
    "duration": 9,
    "start_time": "2024-11-17T21:34:52.137Z"
   },
   {
    "duration": 6,
    "start_time": "2024-11-17T21:34:52.148Z"
   },
   {
    "duration": 18,
    "start_time": "2024-11-17T21:34:52.156Z"
   },
   {
    "duration": 7,
    "start_time": "2024-11-17T21:34:52.176Z"
   },
   {
    "duration": 71,
    "start_time": "2024-11-17T21:34:52.185Z"
   },
   {
    "duration": 40,
    "start_time": "2024-11-17T21:34:52.267Z"
   },
   {
    "duration": 12,
    "start_time": "2024-11-17T21:34:52.309Z"
   },
   {
    "duration": 10,
    "start_time": "2024-11-17T21:34:52.322Z"
   },
   {
    "duration": 23,
    "start_time": "2024-11-17T21:34:52.337Z"
   },
   {
    "duration": 23,
    "start_time": "2024-11-17T21:34:52.362Z"
   },
   {
    "duration": 13,
    "start_time": "2024-11-17T21:34:52.387Z"
   },
   {
    "duration": 23,
    "start_time": "2024-11-17T21:34:52.401Z"
   },
   {
    "duration": 28,
    "start_time": "2024-11-17T21:34:52.427Z"
   },
   {
    "duration": 40,
    "start_time": "2024-11-17T21:34:52.457Z"
   },
   {
    "duration": 16,
    "start_time": "2024-11-17T21:34:52.499Z"
   },
   {
    "duration": 30,
    "start_time": "2024-11-17T21:34:52.517Z"
   },
   {
    "duration": 12,
    "start_time": "2024-11-17T21:34:52.549Z"
   },
   {
    "duration": 12,
    "start_time": "2024-11-17T21:34:52.562Z"
   },
   {
    "duration": 3,
    "start_time": "2024-11-17T21:34:52.575Z"
   },
   {
    "duration": 54,
    "start_time": "2024-11-17T21:34:52.580Z"
   },
   {
    "duration": 25,
    "start_time": "2024-11-17T21:34:52.636Z"
   },
   {
    "duration": 1103,
    "start_time": "2024-11-17T21:34:52.665Z"
   },
   {
    "duration": 279,
    "start_time": "2024-11-17T21:34:53.772Z"
   },
   {
    "duration": 260,
    "start_time": "2024-11-17T21:34:54.052Z"
   },
   {
    "duration": 24,
    "start_time": "2024-11-17T21:34:54.314Z"
   },
   {
    "duration": 116,
    "start_time": "2024-11-17T21:34:54.348Z"
   },
   {
    "duration": 211,
    "start_time": "2024-11-17T21:34:54.467Z"
   },
   {
    "duration": 10,
    "start_time": "2024-11-17T21:34:54.680Z"
   },
   {
    "duration": 222,
    "start_time": "2024-11-17T21:34:54.691Z"
   },
   {
    "duration": 278,
    "start_time": "2024-11-17T21:34:54.915Z"
   },
   {
    "duration": 223,
    "start_time": "2024-11-17T21:34:55.195Z"
   },
   {
    "duration": 31,
    "start_time": "2024-11-17T21:34:55.420Z"
   },
   {
    "duration": 111,
    "start_time": "2024-11-17T21:34:55.457Z"
   },
   {
    "duration": 189,
    "start_time": "2024-11-17T21:34:55.570Z"
   },
   {
    "duration": 104,
    "start_time": "2024-11-17T21:34:55.760Z"
   },
   {
    "duration": 10,
    "start_time": "2024-11-17T21:34:55.866Z"
   },
   {
    "duration": 3,
    "start_time": "2024-11-17T21:34:55.878Z"
   },
   {
    "duration": 5,
    "start_time": "2024-11-17T21:34:55.883Z"
   },
   {
    "duration": 35,
    "start_time": "2024-11-17T21:34:55.890Z"
   },
   {
    "duration": 12,
    "start_time": "2024-11-17T21:34:55.932Z"
   },
   {
    "duration": 3,
    "start_time": "2024-11-17T21:35:26.061Z"
   },
   {
    "duration": 184,
    "start_time": "2024-11-17T21:35:26.066Z"
   },
   {
    "duration": 12,
    "start_time": "2024-11-17T21:35:26.252Z"
   },
   {
    "duration": 7,
    "start_time": "2024-11-17T21:35:26.266Z"
   },
   {
    "duration": 4,
    "start_time": "2024-11-17T21:35:26.275Z"
   },
   {
    "duration": 8,
    "start_time": "2024-11-17T21:35:26.281Z"
   },
   {
    "duration": 8,
    "start_time": "2024-11-17T21:35:26.291Z"
   },
   {
    "duration": 8,
    "start_time": "2024-11-17T21:35:26.300Z"
   },
   {
    "duration": 6,
    "start_time": "2024-11-17T21:35:26.324Z"
   },
   {
    "duration": 18,
    "start_time": "2024-11-17T21:35:26.332Z"
   },
   {
    "duration": 8,
    "start_time": "2024-11-17T21:35:26.354Z"
   },
   {
    "duration": 22,
    "start_time": "2024-11-17T21:35:26.364Z"
   },
   {
    "duration": 61,
    "start_time": "2024-11-17T21:35:26.388Z"
   },
   {
    "duration": 13,
    "start_time": "2024-11-17T21:35:26.451Z"
   },
   {
    "duration": 7,
    "start_time": "2024-11-17T21:35:26.465Z"
   },
   {
    "duration": 19,
    "start_time": "2024-11-17T21:35:26.474Z"
   },
   {
    "duration": 62,
    "start_time": "2024-11-17T21:35:26.495Z"
   },
   {
    "duration": 15,
    "start_time": "2024-11-17T21:35:26.559Z"
   },
   {
    "duration": 8,
    "start_time": "2024-11-17T21:35:26.575Z"
   },
   {
    "duration": 12,
    "start_time": "2024-11-17T21:35:26.584Z"
   },
   {
    "duration": 76,
    "start_time": "2024-11-17T21:35:26.597Z"
   },
   {
    "duration": 20,
    "start_time": "2024-11-17T21:35:26.675Z"
   },
   {
    "duration": 15,
    "start_time": "2024-11-17T21:35:26.696Z"
   },
   {
    "duration": 27,
    "start_time": "2024-11-17T21:35:26.712Z"
   },
   {
    "duration": 13,
    "start_time": "2024-11-17T21:35:26.748Z"
   },
   {
    "duration": 2,
    "start_time": "2024-11-17T21:35:26.763Z"
   },
   {
    "duration": 36,
    "start_time": "2024-11-17T21:35:26.767Z"
   },
   {
    "duration": 7,
    "start_time": "2024-11-17T21:35:26.805Z"
   },
   {
    "duration": 1086,
    "start_time": "2024-11-17T21:35:26.818Z"
   },
   {
    "duration": 344,
    "start_time": "2024-11-17T21:35:27.905Z"
   },
   {
    "duration": 214,
    "start_time": "2024-11-17T21:35:28.251Z"
   },
   {
    "duration": 11,
    "start_time": "2024-11-17T21:35:28.467Z"
   },
   {
    "duration": 125,
    "start_time": "2024-11-17T21:35:28.481Z"
   },
   {
    "duration": 211,
    "start_time": "2024-11-17T21:35:28.607Z"
   },
   {
    "duration": 19,
    "start_time": "2024-11-17T21:35:28.820Z"
   },
   {
    "duration": 209,
    "start_time": "2024-11-17T21:35:28.845Z"
   },
   {
    "duration": 263,
    "start_time": "2024-11-17T21:35:29.056Z"
   },
   {
    "duration": 215,
    "start_time": "2024-11-17T21:35:29.321Z"
   },
   {
    "duration": 10,
    "start_time": "2024-11-17T21:35:29.538Z"
   },
   {
    "duration": 126,
    "start_time": "2024-11-17T21:35:29.550Z"
   },
   {
    "duration": 196,
    "start_time": "2024-11-17T21:35:29.678Z"
   },
   {
    "duration": 120,
    "start_time": "2024-11-17T21:35:29.876Z"
   },
   {
    "duration": 9,
    "start_time": "2024-11-17T21:35:29.998Z"
   },
   {
    "duration": 19,
    "start_time": "2024-11-17T21:35:30.009Z"
   },
   {
    "duration": 6,
    "start_time": "2024-11-17T21:35:30.029Z"
   },
   {
    "duration": 10,
    "start_time": "2024-11-17T21:35:30.036Z"
   },
   {
    "duration": 10,
    "start_time": "2024-11-17T21:35:30.048Z"
   },
   {
    "duration": 8,
    "start_time": "2024-11-17T21:36:13.088Z"
   },
   {
    "duration": 3,
    "start_time": "2024-11-17T21:36:20.048Z"
   },
   {
    "duration": 206,
    "start_time": "2024-11-17T21:36:20.053Z"
   },
   {
    "duration": 8,
    "start_time": "2024-11-17T21:36:20.261Z"
   },
   {
    "duration": 7,
    "start_time": "2024-11-17T21:36:20.270Z"
   },
   {
    "duration": 4,
    "start_time": "2024-11-17T21:36:20.280Z"
   },
   {
    "duration": 8,
    "start_time": "2024-11-17T21:36:20.285Z"
   },
   {
    "duration": 9,
    "start_time": "2024-11-17T21:36:20.295Z"
   },
   {
    "duration": 37,
    "start_time": "2024-11-17T21:36:20.307Z"
   },
   {
    "duration": 7,
    "start_time": "2024-11-17T21:36:20.346Z"
   },
   {
    "duration": 85,
    "start_time": "2024-11-17T21:36:20.354Z"
   },
   {
    "duration": 14,
    "start_time": "2024-11-17T21:36:20.440Z"
   },
   {
    "duration": 21,
    "start_time": "2024-11-17T21:36:20.457Z"
   },
   {
    "duration": 33,
    "start_time": "2024-11-17T21:36:20.480Z"
   },
   {
    "duration": 14,
    "start_time": "2024-11-17T21:36:20.534Z"
   },
   {
    "duration": 11,
    "start_time": "2024-11-17T21:36:20.550Z"
   },
   {
    "duration": 15,
    "start_time": "2024-11-17T21:36:20.563Z"
   },
   {
    "duration": 23,
    "start_time": "2024-11-17T21:36:20.579Z"
   },
   {
    "duration": 29,
    "start_time": "2024-11-17T21:36:20.603Z"
   },
   {
    "duration": 13,
    "start_time": "2024-11-17T21:36:20.635Z"
   },
   {
    "duration": 18,
    "start_time": "2024-11-17T21:36:20.649Z"
   },
   {
    "duration": 36,
    "start_time": "2024-11-17T21:36:20.668Z"
   },
   {
    "duration": 29,
    "start_time": "2024-11-17T21:36:20.706Z"
   },
   {
    "duration": 15,
    "start_time": "2024-11-17T21:36:20.737Z"
   },
   {
    "duration": 11,
    "start_time": "2024-11-17T21:36:20.754Z"
   },
   {
    "duration": 9,
    "start_time": "2024-11-17T21:36:20.767Z"
   },
   {
    "duration": 3,
    "start_time": "2024-11-17T21:36:20.777Z"
   },
   {
    "duration": 70,
    "start_time": "2024-11-17T21:36:20.782Z"
   },
   {
    "duration": 13,
    "start_time": "2024-11-17T21:36:20.855Z"
   },
   {
    "duration": 1104,
    "start_time": "2024-11-17T21:36:20.870Z"
   },
   {
    "duration": 271,
    "start_time": "2024-11-17T21:36:21.976Z"
   },
   {
    "duration": 228,
    "start_time": "2024-11-17T21:36:22.249Z"
   },
   {
    "duration": 10,
    "start_time": "2024-11-17T21:36:22.478Z"
   },
   {
    "duration": 124,
    "start_time": "2024-11-17T21:36:22.489Z"
   },
   {
    "duration": 218,
    "start_time": "2024-11-17T21:36:22.616Z"
   },
   {
    "duration": 11,
    "start_time": "2024-11-17T21:36:22.836Z"
   },
   {
    "duration": 234,
    "start_time": "2024-11-17T21:36:22.849Z"
   },
   {
    "duration": 264,
    "start_time": "2024-11-17T21:36:23.086Z"
   },
   {
    "duration": 226,
    "start_time": "2024-11-17T21:36:23.352Z"
   },
   {
    "duration": 10,
    "start_time": "2024-11-17T21:36:23.580Z"
   },
   {
    "duration": 120,
    "start_time": "2024-11-17T21:36:23.591Z"
   },
   {
    "duration": 238,
    "start_time": "2024-11-17T21:36:23.716Z"
   },
   {
    "duration": 190,
    "start_time": "2024-11-17T21:36:23.956Z"
   },
   {
    "duration": 11,
    "start_time": "2024-11-17T21:36:24.148Z"
   },
   {
    "duration": 4,
    "start_time": "2024-11-17T21:36:24.161Z"
   },
   {
    "duration": 5,
    "start_time": "2024-11-17T21:36:24.167Z"
   },
   {
    "duration": 6,
    "start_time": "2024-11-17T21:36:24.184Z"
   },
   {
    "duration": 4,
    "start_time": "2024-11-17T21:36:39.125Z"
   },
   {
    "duration": 216,
    "start_time": "2024-11-17T21:36:39.135Z"
   },
   {
    "duration": 10,
    "start_time": "2024-11-17T21:36:39.353Z"
   },
   {
    "duration": 8,
    "start_time": "2024-11-17T21:36:39.364Z"
   },
   {
    "duration": 4,
    "start_time": "2024-11-17T21:36:39.376Z"
   },
   {
    "duration": 9,
    "start_time": "2024-11-17T21:36:39.381Z"
   },
   {
    "duration": 9,
    "start_time": "2024-11-17T21:36:39.392Z"
   },
   {
    "duration": 21,
    "start_time": "2024-11-17T21:36:39.426Z"
   },
   {
    "duration": 7,
    "start_time": "2024-11-17T21:36:39.449Z"
   },
   {
    "duration": 16,
    "start_time": "2024-11-17T21:36:39.459Z"
   },
   {
    "duration": 7,
    "start_time": "2024-11-17T21:36:39.476Z"
   },
   {
    "duration": 14,
    "start_time": "2024-11-17T21:36:39.484Z"
   },
   {
    "duration": 71,
    "start_time": "2024-11-17T21:36:39.500Z"
   },
   {
    "duration": 11,
    "start_time": "2024-11-17T21:36:39.575Z"
   },
   {
    "duration": 6,
    "start_time": "2024-11-17T21:36:39.587Z"
   },
   {
    "duration": 14,
    "start_time": "2024-11-17T21:36:39.595Z"
   },
   {
    "duration": 46,
    "start_time": "2024-11-17T21:36:39.610Z"
   },
   {
    "duration": 14,
    "start_time": "2024-11-17T21:36:39.657Z"
   },
   {
    "duration": 6,
    "start_time": "2024-11-17T21:36:39.672Z"
   },
   {
    "duration": 12,
    "start_time": "2024-11-17T21:36:39.680Z"
   },
   {
    "duration": 67,
    "start_time": "2024-11-17T21:36:39.693Z"
   },
   {
    "duration": 15,
    "start_time": "2024-11-17T21:36:39.762Z"
   },
   {
    "duration": 13,
    "start_time": "2024-11-17T21:36:39.778Z"
   },
   {
    "duration": 8,
    "start_time": "2024-11-17T21:36:39.793Z"
   },
   {
    "duration": 32,
    "start_time": "2024-11-17T21:36:39.803Z"
   },
   {
    "duration": 4,
    "start_time": "2024-11-17T21:36:39.840Z"
   },
   {
    "duration": 41,
    "start_time": "2024-11-17T21:36:39.846Z"
   },
   {
    "duration": 7,
    "start_time": "2024-11-17T21:36:39.889Z"
   },
   {
    "duration": 1102,
    "start_time": "2024-11-17T21:36:39.898Z"
   },
   {
    "duration": 268,
    "start_time": "2024-11-17T21:36:41.002Z"
   },
   {
    "duration": 222,
    "start_time": "2024-11-17T21:36:41.272Z"
   },
   {
    "duration": 10,
    "start_time": "2024-11-17T21:36:41.495Z"
   },
   {
    "duration": 121,
    "start_time": "2024-11-17T21:36:41.506Z"
   },
   {
    "duration": 229,
    "start_time": "2024-11-17T21:36:41.631Z"
   },
   {
    "duration": 9,
    "start_time": "2024-11-17T21:36:41.862Z"
   },
   {
    "duration": 226,
    "start_time": "2024-11-17T21:36:41.872Z"
   },
   {
    "duration": 276,
    "start_time": "2024-11-17T21:36:42.100Z"
   },
   {
    "duration": 210,
    "start_time": "2024-11-17T21:36:42.378Z"
   },
   {
    "duration": 9,
    "start_time": "2024-11-17T21:36:42.590Z"
   },
   {
    "duration": 136,
    "start_time": "2024-11-17T21:36:42.600Z"
   },
   {
    "duration": 311,
    "start_time": "2024-11-17T21:36:42.742Z"
   },
   {
    "duration": 102,
    "start_time": "2024-11-17T21:36:43.058Z"
   },
   {
    "duration": 10,
    "start_time": "2024-11-17T21:36:43.162Z"
   },
   {
    "duration": 5,
    "start_time": "2024-11-17T21:36:43.173Z"
   },
   {
    "duration": 5,
    "start_time": "2024-11-17T21:36:43.180Z"
   },
   {
    "duration": 8,
    "start_time": "2024-11-17T21:36:43.187Z"
   },
   {
    "duration": 55,
    "start_time": "2024-11-17T21:36:43.196Z"
   },
   {
    "duration": 9,
    "start_time": "2024-11-17T21:37:01.313Z"
   },
   {
    "duration": 3,
    "start_time": "2024-11-17T21:37:11.793Z"
   },
   {
    "duration": 189,
    "start_time": "2024-11-17T21:37:11.804Z"
   },
   {
    "duration": 9,
    "start_time": "2024-11-17T21:37:11.995Z"
   },
   {
    "duration": 19,
    "start_time": "2024-11-17T21:37:12.006Z"
   },
   {
    "duration": 5,
    "start_time": "2024-11-17T21:37:12.026Z"
   },
   {
    "duration": 9,
    "start_time": "2024-11-17T21:37:12.033Z"
   },
   {
    "duration": 8,
    "start_time": "2024-11-17T21:37:12.044Z"
   },
   {
    "duration": 8,
    "start_time": "2024-11-17T21:37:12.053Z"
   },
   {
    "duration": 5,
    "start_time": "2024-11-17T21:37:12.063Z"
   },
   {
    "duration": 30,
    "start_time": "2024-11-17T21:37:12.072Z"
   },
   {
    "duration": 9,
    "start_time": "2024-11-17T21:37:12.124Z"
   },
   {
    "duration": 34,
    "start_time": "2024-11-17T21:37:12.135Z"
   },
   {
    "duration": 38,
    "start_time": "2024-11-17T21:37:12.171Z"
   },
   {
    "duration": 32,
    "start_time": "2024-11-17T21:37:12.211Z"
   },
   {
    "duration": 7,
    "start_time": "2024-11-17T21:37:12.249Z"
   },
   {
    "duration": 15,
    "start_time": "2024-11-17T21:37:12.258Z"
   },
   {
    "duration": 21,
    "start_time": "2024-11-17T21:37:12.275Z"
   },
   {
    "duration": 13,
    "start_time": "2024-11-17T21:37:12.298Z"
   },
   {
    "duration": 35,
    "start_time": "2024-11-17T21:37:12.312Z"
   },
   {
    "duration": 13,
    "start_time": "2024-11-17T21:37:12.349Z"
   },
   {
    "duration": 39,
    "start_time": "2024-11-17T21:37:12.365Z"
   },
   {
    "duration": 15,
    "start_time": "2024-11-17T21:37:12.406Z"
   },
   {
    "duration": 23,
    "start_time": "2024-11-17T21:37:12.425Z"
   },
   {
    "duration": 11,
    "start_time": "2024-11-17T21:37:12.457Z"
   },
   {
    "duration": 10,
    "start_time": "2024-11-17T21:37:12.469Z"
   },
   {
    "duration": 2,
    "start_time": "2024-11-17T21:37:12.481Z"
   },
   {
    "duration": 62,
    "start_time": "2024-11-17T21:37:12.485Z"
   },
   {
    "duration": 11,
    "start_time": "2024-11-17T21:37:12.549Z"
   },
   {
    "duration": 1065,
    "start_time": "2024-11-17T21:37:12.561Z"
   },
   {
    "duration": 282,
    "start_time": "2024-11-17T21:37:13.627Z"
   },
   {
    "duration": 241,
    "start_time": "2024-11-17T21:37:13.913Z"
   },
   {
    "duration": 10,
    "start_time": "2024-11-17T21:37:14.156Z"
   },
   {
    "duration": 117,
    "start_time": "2024-11-17T21:37:14.167Z"
   },
   {
    "duration": 214,
    "start_time": "2024-11-17T21:37:14.286Z"
   },
   {
    "duration": 9,
    "start_time": "2024-11-17T21:37:14.503Z"
   },
   {
    "duration": 233,
    "start_time": "2024-11-17T21:37:14.532Z"
   },
   {
    "duration": 280,
    "start_time": "2024-11-17T21:37:14.766Z"
   },
   {
    "duration": 196,
    "start_time": "2024-11-17T21:37:15.052Z"
   },
   {
    "duration": 15,
    "start_time": "2024-11-17T21:37:15.250Z"
   },
   {
    "duration": 205,
    "start_time": "2024-11-17T21:37:15.266Z"
   },
   {
    "duration": 192,
    "start_time": "2024-11-17T21:37:15.473Z"
   },
   {
    "duration": 126,
    "start_time": "2024-11-17T21:37:15.671Z"
   },
   {
    "duration": 15,
    "start_time": "2024-11-17T21:37:15.799Z"
   },
   {
    "duration": 33,
    "start_time": "2024-11-17T21:37:15.816Z"
   },
   {
    "duration": 4,
    "start_time": "2024-11-17T21:37:15.852Z"
   },
   {
    "duration": 8,
    "start_time": "2024-11-17T21:37:15.858Z"
   },
   {
    "duration": 9,
    "start_time": "2024-11-17T21:37:15.868Z"
   },
   {
    "duration": 9,
    "start_time": "2024-11-17T21:37:40.941Z"
   },
   {
    "duration": 9,
    "start_time": "2024-11-17T21:37:46.476Z"
   },
   {
    "duration": 7,
    "start_time": "2024-11-17T21:37:54.106Z"
   },
   {
    "duration": 22,
    "start_time": "2024-11-17T21:38:13.882Z"
   },
   {
    "duration": 11,
    "start_time": "2024-11-17T21:52:01.829Z"
   },
   {
    "duration": 8,
    "start_time": "2024-11-17T21:52:04.815Z"
   },
   {
    "duration": 8,
    "start_time": "2024-11-17T21:54:55.568Z"
   },
   {
    "duration": 8,
    "start_time": "2024-11-17T21:55:28.934Z"
   },
   {
    "duration": 3,
    "start_time": "2024-11-17T21:58:16.018Z"
   },
   {
    "duration": 10,
    "start_time": "2024-11-17T21:58:16.449Z"
   },
   {
    "duration": 5,
    "start_time": "2024-11-17T21:58:20.448Z"
   },
   {
    "duration": 7,
    "start_time": "2024-11-17T21:58:21.468Z"
   },
   {
    "duration": 2,
    "start_time": "2024-11-17T22:05:04.502Z"
   },
   {
    "duration": 198,
    "start_time": "2024-11-17T22:05:04.507Z"
   },
   {
    "duration": 9,
    "start_time": "2024-11-17T22:05:04.707Z"
   },
   {
    "duration": 8,
    "start_time": "2024-11-17T22:05:04.717Z"
   },
   {
    "duration": 8,
    "start_time": "2024-11-17T22:05:04.733Z"
   },
   {
    "duration": 14,
    "start_time": "2024-11-17T22:05:04.744Z"
   },
   {
    "duration": 13,
    "start_time": "2024-11-17T22:05:04.760Z"
   },
   {
    "duration": 7,
    "start_time": "2024-11-17T22:05:04.775Z"
   },
   {
    "duration": 6,
    "start_time": "2024-11-17T22:05:04.784Z"
   },
   {
    "duration": 15,
    "start_time": "2024-11-17T22:05:04.792Z"
   },
   {
    "duration": 26,
    "start_time": "2024-11-17T22:05:04.811Z"
   },
   {
    "duration": 21,
    "start_time": "2024-11-17T22:05:04.843Z"
   },
   {
    "duration": 42,
    "start_time": "2024-11-17T22:05:04.866Z"
   },
   {
    "duration": 16,
    "start_time": "2024-11-17T22:05:04.910Z"
   },
   {
    "duration": 6,
    "start_time": "2024-11-17T22:05:04.927Z"
   },
   {
    "duration": 25,
    "start_time": "2024-11-17T22:05:04.935Z"
   },
   {
    "duration": 22,
    "start_time": "2024-11-17T22:05:04.965Z"
   },
   {
    "duration": 14,
    "start_time": "2024-11-17T22:05:04.988Z"
   },
   {
    "duration": 9,
    "start_time": "2024-11-17T22:05:05.024Z"
   },
   {
    "duration": 23,
    "start_time": "2024-11-17T22:05:05.035Z"
   },
   {
    "duration": 42,
    "start_time": "2024-11-17T22:05:05.059Z"
   },
   {
    "duration": 31,
    "start_time": "2024-11-17T22:05:05.103Z"
   },
   {
    "duration": 25,
    "start_time": "2024-11-17T22:05:05.136Z"
   },
   {
    "duration": 10,
    "start_time": "2024-11-17T22:05:05.163Z"
   },
   {
    "duration": 13,
    "start_time": "2024-11-17T22:05:05.175Z"
   },
   {
    "duration": 3,
    "start_time": "2024-11-17T22:05:05.189Z"
   },
   {
    "duration": 67,
    "start_time": "2024-11-17T22:05:05.193Z"
   },
   {
    "duration": 10,
    "start_time": "2024-11-17T22:05:05.262Z"
   },
   {
    "duration": 1054,
    "start_time": "2024-11-17T22:05:05.277Z"
   },
   {
    "duration": 273,
    "start_time": "2024-11-17T22:05:06.339Z"
   },
   {
    "duration": 206,
    "start_time": "2024-11-17T22:05:06.613Z"
   },
   {
    "duration": 12,
    "start_time": "2024-11-17T22:05:06.825Z"
   },
   {
    "duration": 129,
    "start_time": "2024-11-17T22:05:06.839Z"
   },
   {
    "duration": 213,
    "start_time": "2024-11-17T22:05:06.970Z"
   },
   {
    "duration": 9,
    "start_time": "2024-11-17T22:05:07.185Z"
   },
   {
    "duration": 218,
    "start_time": "2024-11-17T22:05:07.195Z"
   },
   {
    "duration": 304,
    "start_time": "2024-11-17T22:05:07.415Z"
   },
   {
    "duration": 301,
    "start_time": "2024-11-17T22:05:07.720Z"
   },
   {
    "duration": 31,
    "start_time": "2024-11-17T22:05:08.024Z"
   },
   {
    "duration": 123,
    "start_time": "2024-11-17T22:05:08.065Z"
   },
   {
    "duration": 189,
    "start_time": "2024-11-17T22:05:08.190Z"
   },
   {
    "duration": 112,
    "start_time": "2024-11-17T22:05:08.381Z"
   },
   {
    "duration": 4,
    "start_time": "2024-11-17T22:05:08.495Z"
   },
   {
    "duration": 8,
    "start_time": "2024-11-17T22:05:08.501Z"
   },
   {
    "duration": 25,
    "start_time": "2024-11-17T22:05:08.510Z"
   },
   {
    "duration": 10,
    "start_time": "2024-11-17T22:05:08.537Z"
   },
   {
    "duration": 7,
    "start_time": "2024-11-17T22:05:41.967Z"
   },
   {
    "duration": 6,
    "start_time": "2024-11-17T22:05:49.949Z"
   },
   {
    "duration": 4,
    "start_time": "2024-11-17T22:06:30.189Z"
   },
   {
    "duration": 5,
    "start_time": "2024-11-17T22:06:36.212Z"
   },
   {
    "duration": 249,
    "start_time": "2024-11-17T22:07:16.349Z"
   },
   {
    "duration": 3,
    "start_time": "2024-11-17T22:07:27.390Z"
   },
   {
    "duration": 5,
    "start_time": "2024-11-17T22:07:39.687Z"
   },
   {
    "duration": 4,
    "start_time": "2024-11-17T22:07:45.449Z"
   },
   {
    "duration": 5,
    "start_time": "2024-11-17T22:07:48.552Z"
   },
   {
    "duration": 963,
    "start_time": "2024-11-17T22:11:30.170Z"
   },
   {
    "duration": 957,
    "start_time": "2024-11-17T22:11:32.717Z"
   },
   {
    "duration": 2,
    "start_time": "2024-11-17T22:11:40.448Z"
   },
   {
    "duration": 159,
    "start_time": "2024-11-17T22:11:40.452Z"
   },
   {
    "duration": 9,
    "start_time": "2024-11-17T22:11:40.612Z"
   },
   {
    "duration": 8,
    "start_time": "2024-11-17T22:11:40.624Z"
   },
   {
    "duration": 5,
    "start_time": "2024-11-17T22:11:40.634Z"
   },
   {
    "duration": 8,
    "start_time": "2024-11-17T22:11:40.640Z"
   },
   {
    "duration": 8,
    "start_time": "2024-11-17T22:11:40.650Z"
   },
   {
    "duration": 7,
    "start_time": "2024-11-17T22:11:40.660Z"
   },
   {
    "duration": 5,
    "start_time": "2024-11-17T22:11:40.669Z"
   },
   {
    "duration": 52,
    "start_time": "2024-11-17T22:11:40.676Z"
   },
   {
    "duration": 10,
    "start_time": "2024-11-17T22:11:40.730Z"
   },
   {
    "duration": 20,
    "start_time": "2024-11-17T22:11:40.742Z"
   },
   {
    "duration": 61,
    "start_time": "2024-11-17T22:11:40.767Z"
   },
   {
    "duration": 12,
    "start_time": "2024-11-17T22:11:40.830Z"
   },
   {
    "duration": 6,
    "start_time": "2024-11-17T22:11:40.844Z"
   },
   {
    "duration": 14,
    "start_time": "2024-11-17T22:11:40.852Z"
   },
   {
    "duration": 21,
    "start_time": "2024-11-17T22:11:40.868Z"
   },
   {
    "duration": 42,
    "start_time": "2024-11-17T22:11:40.891Z"
   },
   {
    "duration": 7,
    "start_time": "2024-11-17T22:11:40.935Z"
   },
   {
    "duration": 13,
    "start_time": "2024-11-17T22:11:40.944Z"
   },
   {
    "duration": 43,
    "start_time": "2024-11-17T22:11:40.958Z"
   },
   {
    "duration": 17,
    "start_time": "2024-11-17T22:11:41.024Z"
   },
   {
    "duration": 16,
    "start_time": "2024-11-17T22:11:41.042Z"
   },
   {
    "duration": 10,
    "start_time": "2024-11-17T22:11:41.059Z"
   },
   {
    "duration": 12,
    "start_time": "2024-11-17T22:11:41.070Z"
   },
   {
    "duration": 2,
    "start_time": "2024-11-17T22:11:41.084Z"
   },
   {
    "duration": 65,
    "start_time": "2024-11-17T22:11:41.088Z"
   },
   {
    "duration": 8,
    "start_time": "2024-11-17T22:11:41.155Z"
   },
   {
    "duration": 930,
    "start_time": "2024-11-17T22:11:41.165Z"
   },
   {
    "duration": 230,
    "start_time": "2024-11-17T22:11:42.096Z"
   },
   {
    "duration": 191,
    "start_time": "2024-11-17T22:11:42.329Z"
   },
   {
    "duration": 10,
    "start_time": "2024-11-17T22:11:42.524Z"
   },
   {
    "duration": 114,
    "start_time": "2024-11-17T22:11:42.536Z"
   },
   {
    "duration": 277,
    "start_time": "2024-11-17T22:11:42.651Z"
   },
   {
    "duration": 9,
    "start_time": "2024-11-17T22:11:42.930Z"
   },
   {
    "duration": 209,
    "start_time": "2024-11-17T22:11:42.941Z"
   },
   {
    "duration": 229,
    "start_time": "2024-11-17T22:11:43.154Z"
   },
   {
    "duration": 191,
    "start_time": "2024-11-17T22:11:43.385Z"
   },
   {
    "duration": 10,
    "start_time": "2024-11-17T22:11:43.578Z"
   },
   {
    "duration": 118,
    "start_time": "2024-11-17T22:11:43.589Z"
   },
   {
    "duration": 232,
    "start_time": "2024-11-17T22:11:43.709Z"
   },
   {
    "duration": 101,
    "start_time": "2024-11-17T22:11:43.944Z"
   },
   {
    "duration": 8,
    "start_time": "2024-11-17T22:11:44.047Z"
   },
   {
    "duration": 7,
    "start_time": "2024-11-17T22:11:44.056Z"
   },
   {
    "duration": 8,
    "start_time": "2024-11-17T22:11:44.064Z"
   },
   {
    "duration": 9,
    "start_time": "2024-11-17T22:11:44.073Z"
   },
   {
    "duration": 5,
    "start_time": "2024-11-17T22:11:44.084Z"
   },
   {
    "duration": 38,
    "start_time": "2024-11-17T22:11:44.091Z"
   },
   {
    "duration": 4,
    "start_time": "2024-11-17T22:12:03.599Z"
   },
   {
    "duration": 9,
    "start_time": "2024-11-17T22:12:07.133Z"
   },
   {
    "duration": 2,
    "start_time": "2024-11-17T22:12:11.025Z"
   },
   {
    "duration": 172,
    "start_time": "2024-11-17T22:12:11.030Z"
   },
   {
    "duration": 9,
    "start_time": "2024-11-17T22:12:11.204Z"
   },
   {
    "duration": 7,
    "start_time": "2024-11-17T22:12:11.223Z"
   },
   {
    "duration": 4,
    "start_time": "2024-11-17T22:12:11.231Z"
   },
   {
    "duration": 7,
    "start_time": "2024-11-17T22:12:11.237Z"
   },
   {
    "duration": 7,
    "start_time": "2024-11-17T22:12:11.246Z"
   },
   {
    "duration": 6,
    "start_time": "2024-11-17T22:12:11.255Z"
   },
   {
    "duration": 5,
    "start_time": "2024-11-17T22:12:11.264Z"
   },
   {
    "duration": 15,
    "start_time": "2024-11-17T22:12:11.270Z"
   },
   {
    "duration": 7,
    "start_time": "2024-11-17T22:12:11.323Z"
   },
   {
    "duration": 14,
    "start_time": "2024-11-17T22:12:11.331Z"
   },
   {
    "duration": 38,
    "start_time": "2024-11-17T22:12:11.347Z"
   },
   {
    "duration": 11,
    "start_time": "2024-11-17T22:12:11.387Z"
   },
   {
    "duration": 6,
    "start_time": "2024-11-17T22:12:11.423Z"
   },
   {
    "duration": 15,
    "start_time": "2024-11-17T22:12:11.430Z"
   },
   {
    "duration": 21,
    "start_time": "2024-11-17T22:12:11.446Z"
   },
   {
    "duration": 13,
    "start_time": "2024-11-17T22:12:11.469Z"
   },
   {
    "duration": 7,
    "start_time": "2024-11-17T22:12:11.483Z"
   },
   {
    "duration": 40,
    "start_time": "2024-11-17T22:12:11.492Z"
   },
   {
    "duration": 39,
    "start_time": "2024-11-17T22:12:11.533Z"
   },
   {
    "duration": 15,
    "start_time": "2024-11-17T22:12:11.574Z"
   },
   {
    "duration": 33,
    "start_time": "2024-11-17T22:12:11.591Z"
   },
   {
    "duration": 9,
    "start_time": "2024-11-17T22:12:11.628Z"
   },
   {
    "duration": 11,
    "start_time": "2024-11-17T22:12:11.639Z"
   },
   {
    "duration": 3,
    "start_time": "2024-11-17T22:12:11.652Z"
   },
   {
    "duration": 38,
    "start_time": "2024-11-17T22:12:11.656Z"
   },
   {
    "duration": 28,
    "start_time": "2024-11-17T22:12:11.696Z"
   },
   {
    "duration": 954,
    "start_time": "2024-11-17T22:12:11.726Z"
   },
   {
    "duration": 230,
    "start_time": "2024-11-17T22:12:12.682Z"
   },
   {
    "duration": 193,
    "start_time": "2024-11-17T22:12:12.914Z"
   },
   {
    "duration": 16,
    "start_time": "2024-11-17T22:12:13.109Z"
   },
   {
    "duration": 178,
    "start_time": "2024-11-17T22:12:13.127Z"
   },
   {
    "duration": 193,
    "start_time": "2024-11-17T22:12:13.307Z"
   },
   {
    "duration": 10,
    "start_time": "2024-11-17T22:12:13.502Z"
   },
   {
    "duration": 200,
    "start_time": "2024-11-17T22:12:13.514Z"
   },
   {
    "duration": 237,
    "start_time": "2024-11-17T22:12:13.716Z"
   },
   {
    "duration": 188,
    "start_time": "2024-11-17T22:12:13.955Z"
   },
   {
    "duration": 9,
    "start_time": "2024-11-17T22:12:14.145Z"
   },
   {
    "duration": 115,
    "start_time": "2024-11-17T22:12:14.155Z"
   },
   {
    "duration": 181,
    "start_time": "2024-11-17T22:12:14.273Z"
   },
   {
    "duration": 105,
    "start_time": "2024-11-17T22:12:14.456Z"
   },
   {
    "duration": 7,
    "start_time": "2024-11-17T22:12:14.563Z"
   },
   {
    "duration": 4,
    "start_time": "2024-11-17T22:12:14.572Z"
   },
   {
    "duration": 9,
    "start_time": "2024-11-17T22:12:14.578Z"
   },
   {
    "duration": 4,
    "start_time": "2024-11-17T22:12:14.589Z"
   },
   {
    "duration": 34,
    "start_time": "2024-11-17T22:12:14.595Z"
   },
   {
    "duration": 4,
    "start_time": "2024-11-17T22:13:08.548Z"
   },
   {
    "duration": 4,
    "start_time": "2024-11-17T22:13:12.544Z"
   },
   {
    "duration": 7,
    "start_time": "2024-11-17T22:13:19.544Z"
   },
   {
    "duration": 3,
    "start_time": "2024-11-17T22:16:01.389Z"
   },
   {
    "duration": 170,
    "start_time": "2024-11-17T22:16:01.398Z"
   },
   {
    "duration": 10,
    "start_time": "2024-11-17T22:16:01.570Z"
   },
   {
    "duration": 9,
    "start_time": "2024-11-17T22:16:01.582Z"
   },
   {
    "duration": 5,
    "start_time": "2024-11-17T22:16:01.593Z"
   },
   {
    "duration": 31,
    "start_time": "2024-11-17T22:16:01.600Z"
   },
   {
    "duration": 9,
    "start_time": "2024-11-17T22:16:01.633Z"
   },
   {
    "duration": 9,
    "start_time": "2024-11-17T22:16:01.643Z"
   },
   {
    "duration": 6,
    "start_time": "2024-11-17T22:16:01.654Z"
   },
   {
    "duration": 17,
    "start_time": "2024-11-17T22:16:01.662Z"
   },
   {
    "duration": 7,
    "start_time": "2024-11-17T22:16:01.681Z"
   },
   {
    "duration": 44,
    "start_time": "2024-11-17T22:16:01.690Z"
   },
   {
    "duration": 41,
    "start_time": "2024-11-17T22:16:01.736Z"
   },
   {
    "duration": 16,
    "start_time": "2024-11-17T22:16:01.779Z"
   },
   {
    "duration": 8,
    "start_time": "2024-11-17T22:16:01.824Z"
   },
   {
    "duration": 15,
    "start_time": "2024-11-17T22:16:01.833Z"
   },
   {
    "duration": 22,
    "start_time": "2024-11-17T22:16:01.850Z"
   },
   {
    "duration": 18,
    "start_time": "2024-11-17T22:16:01.874Z"
   },
   {
    "duration": 35,
    "start_time": "2024-11-17T22:16:01.894Z"
   },
   {
    "duration": 17,
    "start_time": "2024-11-17T22:16:01.931Z"
   },
   {
    "duration": 52,
    "start_time": "2024-11-17T22:16:01.950Z"
   },
   {
    "duration": 38,
    "start_time": "2024-11-17T22:16:02.003Z"
   },
   {
    "duration": 16,
    "start_time": "2024-11-17T22:16:02.044Z"
   },
   {
    "duration": 13,
    "start_time": "2024-11-17T22:16:02.062Z"
   },
   {
    "duration": 11,
    "start_time": "2024-11-17T22:16:02.077Z"
   },
   {
    "duration": 3,
    "start_time": "2024-11-17T22:16:02.090Z"
   },
   {
    "duration": 56,
    "start_time": "2024-11-17T22:16:02.094Z"
   },
   {
    "duration": 8,
    "start_time": "2024-11-17T22:16:02.151Z"
   },
   {
    "duration": 989,
    "start_time": "2024-11-17T22:16:02.161Z"
   },
   {
    "duration": 242,
    "start_time": "2024-11-17T22:16:03.151Z"
   },
   {
    "duration": 262,
    "start_time": "2024-11-17T22:16:03.395Z"
   },
   {
    "duration": 10,
    "start_time": "2024-11-17T22:16:03.659Z"
   },
   {
    "duration": 111,
    "start_time": "2024-11-17T22:16:03.671Z"
   },
   {
    "duration": 192,
    "start_time": "2024-11-17T22:16:03.785Z"
   },
   {
    "duration": 10,
    "start_time": "2024-11-17T22:16:03.979Z"
   },
   {
    "duration": 193,
    "start_time": "2024-11-17T22:16:03.991Z"
   },
   {
    "duration": 239,
    "start_time": "2024-11-17T22:16:04.186Z"
   },
   {
    "duration": 186,
    "start_time": "2024-11-17T22:16:04.427Z"
   },
   {
    "duration": 15,
    "start_time": "2024-11-17T22:16:04.615Z"
   },
   {
    "duration": 106,
    "start_time": "2024-11-17T22:16:04.631Z"
   },
   {
    "duration": 205,
    "start_time": "2024-11-17T22:16:04.739Z"
   },
   {
    "duration": 108,
    "start_time": "2024-11-17T22:16:04.948Z"
   },
   {
    "duration": 7,
    "start_time": "2024-11-17T22:16:05.058Z"
   },
   {
    "duration": 4,
    "start_time": "2024-11-17T22:16:05.066Z"
   },
   {
    "duration": 8,
    "start_time": "2024-11-17T22:16:05.072Z"
   },
   {
    "duration": 4,
    "start_time": "2024-11-17T22:16:05.082Z"
   },
   {
    "duration": 36,
    "start_time": "2024-11-17T22:16:05.088Z"
   },
   {
    "duration": 2570,
    "start_time": "2024-11-18T02:10:17.580Z"
   },
   {
    "duration": 205,
    "start_time": "2024-11-18T02:10:20.153Z"
   },
   {
    "duration": 10,
    "start_time": "2024-11-18T02:10:20.360Z"
   },
   {
    "duration": 9,
    "start_time": "2024-11-18T02:10:20.372Z"
   },
   {
    "duration": 5,
    "start_time": "2024-11-18T02:10:20.384Z"
   },
   {
    "duration": 7,
    "start_time": "2024-11-18T02:10:20.391Z"
   },
   {
    "duration": 7,
    "start_time": "2024-11-18T02:10:20.411Z"
   },
   {
    "duration": 7,
    "start_time": "2024-11-18T02:10:20.420Z"
   },
   {
    "duration": 5,
    "start_time": "2024-11-18T02:10:20.429Z"
   },
   {
    "duration": 15,
    "start_time": "2024-11-18T02:10:20.436Z"
   },
   {
    "duration": 6,
    "start_time": "2024-11-18T02:10:20.453Z"
   },
   {
    "duration": 16,
    "start_time": "2024-11-18T02:10:20.461Z"
   },
   {
    "duration": 66,
    "start_time": "2024-11-18T02:10:20.479Z"
   },
   {
    "duration": 13,
    "start_time": "2024-11-18T02:10:20.549Z"
   },
   {
    "duration": 6,
    "start_time": "2024-11-18T02:10:20.564Z"
   },
   {
    "duration": 48,
    "start_time": "2024-11-18T02:10:20.573Z"
   },
   {
    "duration": 24,
    "start_time": "2024-11-18T02:10:20.623Z"
   },
   {
    "duration": 14,
    "start_time": "2024-11-18T02:10:20.649Z"
   },
   {
    "duration": 7,
    "start_time": "2024-11-18T02:10:20.664Z"
   },
   {
    "duration": 39,
    "start_time": "2024-11-18T02:10:20.673Z"
   },
   {
    "duration": 42,
    "start_time": "2024-11-18T02:10:20.714Z"
   },
   {
    "duration": 17,
    "start_time": "2024-11-18T02:10:20.758Z"
   },
   {
    "duration": 13,
    "start_time": "2024-11-18T02:10:20.776Z"
   },
   {
    "duration": 27,
    "start_time": "2024-11-18T02:10:20.791Z"
   },
   {
    "duration": 11,
    "start_time": "2024-11-18T02:10:20.820Z"
   },
   {
    "duration": 3,
    "start_time": "2024-11-18T02:10:20.833Z"
   },
   {
    "duration": 36,
    "start_time": "2024-11-18T02:10:20.838Z"
   },
   {
    "duration": 9,
    "start_time": "2024-11-18T02:10:20.876Z"
   },
   {
    "duration": 915,
    "start_time": "2024-11-18T02:10:20.912Z"
   },
   {
    "duration": 237,
    "start_time": "2024-11-18T02:10:21.829Z"
   },
   {
    "duration": 193,
    "start_time": "2024-11-18T02:10:22.068Z"
   },
   {
    "duration": 9,
    "start_time": "2024-11-18T02:10:22.262Z"
   },
   {
    "duration": 115,
    "start_time": "2024-11-18T02:10:22.273Z"
   },
   {
    "duration": 190,
    "start_time": "2024-11-18T02:10:22.390Z"
   },
   {
    "duration": 9,
    "start_time": "2024-11-18T02:10:22.582Z"
   },
   {
    "duration": 253,
    "start_time": "2024-11-18T02:10:22.592Z"
   },
   {
    "duration": 229,
    "start_time": "2024-11-18T02:10:22.847Z"
   },
   {
    "duration": 199,
    "start_time": "2024-11-18T02:10:23.078Z"
   },
   {
    "duration": 10,
    "start_time": "2024-11-18T02:10:23.279Z"
   },
   {
    "duration": 113,
    "start_time": "2024-11-18T02:10:23.291Z"
   },
   {
    "duration": 230,
    "start_time": "2024-11-18T02:10:23.412Z"
   },
   {
    "duration": 111,
    "start_time": "2024-11-18T02:10:23.643Z"
   },
   {
    "duration": 8,
    "start_time": "2024-11-18T02:10:23.756Z"
   },
   {
    "duration": 5,
    "start_time": "2024-11-18T02:10:23.765Z"
   },
   {
    "duration": 9,
    "start_time": "2024-11-18T02:10:23.771Z"
   },
   {
    "duration": 4,
    "start_time": "2024-11-18T02:10:23.781Z"
   },
   {
    "duration": 8,
    "start_time": "2024-11-18T02:10:23.812Z"
   },
   {
    "duration": 4,
    "start_time": "2024-11-18T02:10:36.750Z"
   }
  ],
  "kernelspec": {
   "display_name": "Python 3 (ipykernel)",
   "language": "python",
   "name": "python3"
  },
  "language_info": {
   "codemirror_mode": {
    "name": "ipython",
    "version": 3
   },
   "file_extension": ".py",
   "mimetype": "text/x-python",
   "name": "python",
   "nbconvert_exporter": "python",
   "pygments_lexer": "ipython3",
   "version": "3.9.19"
  },
  "toc": {
   "base_numbering": 1,
   "nav_menu": {},
   "number_sections": true,
   "sideBar": true,
   "skip_h1_title": false,
   "title_cell": "Table of Contents",
   "title_sidebar": "Contents",
   "toc_cell": false,
   "toc_position": {
    "height": "calc(100% - 180px)",
    "left": "10px",
    "top": "150px",
    "width": "269px"
   },
   "toc_section_display": true,
   "toc_window_display": false
  }
 },
 "nbformat": 4,
 "nbformat_minor": 2
}
